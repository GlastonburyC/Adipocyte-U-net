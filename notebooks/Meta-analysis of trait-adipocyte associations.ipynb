{
 "cells": [
  {
   "cell_type": "code",
   "execution_count": 1,
   "metadata": {},
   "outputs": [
    {
     "name": "stderr",
     "output_type": "stream",
     "text": [
      "Loading 'meta' package (version 4.9-4).\n",
      "Type 'help(meta)' for a brief overview.\n",
      "Loading required package: Matrix\n",
      "Loading 'metafor' package (version 2.0-0). For an overview \n",
      "and introduction to the package please type: help(metafor).\n",
      "\n",
      "Attaching package: 'metafor'\n",
      "\n",
      "The following objects are masked from 'package:meta':\n",
      "\n",
      "    baujat, forest, funnel, funnel.default, labbe, radial, trimfill\n",
      "\n"
     ]
    }
   ],
   "source": [
    "library(meta)\n",
    "library(metafor)\n",
    "library(lme4)"
   ]
  },
  {
   "cell_type": "code",
   "execution_count": 2,
   "metadata": {
    "collapsed": true
   },
   "outputs": [],
   "source": [
    "gtex_subq = read.csv(\"final_cohort_measurements/GTEx_Subcutaneous_areas.csv\")\n",
    "gtex_visc = read.csv(\"final_cohort_measurements/GTEx_Visceral_areas.csv\")\n",
    "\n",
    "diva_subq = read.csv(\"final_cohort_measurements/Exeter_Subcutaneous_areas.csv\")\n",
    "\n",
    "ndox_subq = read.csv('final_cohort_measurements/NDOG_Subq_areas.csv')\n",
    "ndox_visc = read.csv('final_cohort_measurements/NDOG_Visceral_areas.csv')\n",
    "\n",
    "mobb_subq = read.csv('final_cohort_measurements/Julius_Subcutaneous_areas.csv')\n",
    "mobb_visc = read.csv('final_cohort_measurements/Julius_Visceral_areas.csv')"
   ]
  },
  {
   "cell_type": "code",
   "execution_count": 3,
   "metadata": {
    "collapsed": true
   },
   "outputs": [],
   "source": [
    "mobb_gender_subq = as.character(mobb_subq$Gender)\n",
    "mobb_gender_visc = as.character(mobb_visc$Gender)\n",
    "\n",
    "mobb_gender_subq[which(mobb_gender_subq =='f')] = 2\n",
    "mobb_gender_subq[which(mobb_gender_subq =='m')] = 1\n",
    "mobb_gender_visc[which(mobb_gender_visc =='f')] = 2\n",
    "mobb_gender_visc[which(mobb_gender_visc =='m')] = 1\n",
    "\n",
    "mobb_subq$Gender = mobb_gender_subq\n",
    "mobb_visc$Gender = mobb_gender_visc"
   ]
  },
  {
   "cell_type": "code",
   "execution_count": 4,
   "metadata": {
    "collapsed": true
   },
   "outputs": [],
   "source": [
    "diva_gender = as.character(diva_subq$GENDER)\n",
    "diva_gender[which(diva_gender =='XX')] = 2\n",
    "diva_gender[which(diva_gender =='XY')] = 1\n",
    "diva_subq$GENDER = diva_gender"
   ]
  },
  {
   "cell_type": "code",
   "execution_count": 5,
   "metadata": {},
   "outputs": [
    {
     "data": {
      "text/html": [
       "717"
      ],
      "text/latex": [
       "717"
      ],
      "text/markdown": [
       "717"
      ],
      "text/plain": [
       "[1] 717"
      ]
     },
     "metadata": {},
     "output_type": "display_data"
    },
    {
     "data": {
      "text/html": [
       "123"
      ],
      "text/latex": [
       "123"
      ],
      "text/markdown": [
       "123"
      ],
      "text/plain": [
       "[1] 123"
      ]
     },
     "metadata": {},
     "output_type": "display_data"
    },
    {
     "data": {
      "text/html": [
       "310"
      ],
      "text/latex": [
       "310"
      ],
      "text/markdown": [
       "310"
      ],
      "text/plain": [
       "[1] 310"
      ]
     },
     "metadata": {},
     "output_type": "display_data"
    },
    {
     "data": {
      "text/html": [
       "156"
      ],
      "text/latex": [
       "156"
      ],
      "text/markdown": [
       "156"
      ],
      "text/plain": [
       "[1] 156"
      ]
     },
     "metadata": {},
     "output_type": "display_data"
    }
   ],
   "source": [
    "dim(gtex_subq)[1]; dim(diva_subq)[1]; dim(ndox_subq)[1]; dim(mobb_subq)[1]"
   ]
  },
  {
   "cell_type": "code",
   "execution_count": 6,
   "metadata": {
    "collapsed": true
   },
   "outputs": [],
   "source": [
    "#gtex_subq_subset = gtex_subq[c('SUBJID','mu_area', 'SEX', 'AGE','BMI','MHT2D')]"
   ]
  },
  {
   "cell_type": "code",
   "execution_count": 7,
   "metadata": {
    "collapsed": true
   },
   "outputs": [],
   "source": [
    "# SEX - 1 (M)\n",
    "#     - 2 (F)"
   ]
  },
  {
   "cell_type": "code",
   "execution_count": 8,
   "metadata": {},
   "outputs": [
    {
     "data": {
      "text/html": [
       "<table>\n",
       "<thead><tr><th></th><th scope=col>Estimate</th><th scope=col>Std. Error</th><th scope=col>t value</th><th scope=col>Pr(&gt;|t|)</th></tr></thead>\n",
       "<tbody>\n",
       "\t<tr><th scope=row>(Intercept)</th><td>-1.718088e-16</td><td>0.03700361   </td><td>-4.643026e-15</td><td>1.0000000000 </td></tr>\n",
       "\t<tr><th scope=row>scale(TRISCHD)</th><td> 1.400230e-01</td><td>0.03702944   </td><td> 3.781397e+00</td><td>0.0001689783 </td></tr>\n",
       "</tbody>\n",
       "</table>\n"
      ],
      "text/latex": [
       "\\begin{tabular}{r|llll}\n",
       "  & Estimate & Std. Error & t value & Pr(>\\textbar{}t\\textbar{})\\\\\n",
       "\\hline\n",
       "\t(Intercept) & -1.718088e-16 & 0.03700361    & -4.643026e-15 & 1.0000000000 \\\\\n",
       "\tscale(TRISCHD) &  1.400230e-01 & 0.03702944    &  3.781397e+00 & 0.0001689783 \\\\\n",
       "\\end{tabular}\n"
      ],
      "text/markdown": [
       "\n",
       "| <!--/--> | Estimate | Std. Error | t value | Pr(>|t|) | \n",
       "|---|---|\n",
       "| (Intercept) | -1.718088e-16 | 0.03700361    | -4.643026e-15 | 1.0000000000  | \n",
       "| scale(TRISCHD) |  1.400230e-01 | 0.03702944    |  3.781397e+00 | 0.0001689783  | \n",
       "\n",
       "\n"
      ],
      "text/plain": [
       "               Estimate      Std. Error t value       Pr(>|t|)    \n",
       "(Intercept)    -1.718088e-16 0.03700361 -4.643026e-15 1.0000000000\n",
       "scale(TRISCHD)  1.400230e-01 0.03702944  3.781397e+00 0.0001689783"
      ]
     },
     "metadata": {},
     "output_type": "display_data"
    }
   ],
   "source": [
    "summary(lm('scale(mu_area) ~ 1 + scale(TRISCHD)', data=gtex_subq))$coeff"
   ]
  },
  {
   "cell_type": "code",
   "execution_count": 9,
   "metadata": {},
   "outputs": [
    {
     "data": {
      "text/html": [
       "<table>\n",
       "<thead><tr><th></th><th scope=col>Estimate</th><th scope=col>Std. Error</th><th scope=col>t value</th><th scope=col>Pr(&gt;|t|)</th></tr></thead>\n",
       "<tbody>\n",
       "\t<tr><th scope=row>(Intercept)</th><td>-1.312783e-18</td><td>0.04175091   </td><td>-3.144321e-17</td><td>1.000000000  </td></tr>\n",
       "\t<tr><th scope=row>scale(TRISCHD)</th><td> 1.426856e-01</td><td>0.04178804   </td><td> 3.414507e+00</td><td>0.000685151  </td></tr>\n",
       "</tbody>\n",
       "</table>\n"
      ],
      "text/latex": [
       "\\begin{tabular}{r|llll}\n",
       "  & Estimate & Std. Error & t value & Pr(>\\textbar{}t\\textbar{})\\\\\n",
       "\\hline\n",
       "\t(Intercept) & -1.312783e-18 & 0.04175091    & -3.144321e-17 & 1.000000000  \\\\\n",
       "\tscale(TRISCHD) &  1.426856e-01 & 0.04178804    &  3.414507e+00 & 0.000685151  \\\\\n",
       "\\end{tabular}\n"
      ],
      "text/markdown": [
       "\n",
       "| <!--/--> | Estimate | Std. Error | t value | Pr(>|t|) | \n",
       "|---|---|\n",
       "| (Intercept) | -1.312783e-18 | 0.04175091    | -3.144321e-17 | 1.000000000   | \n",
       "| scale(TRISCHD) |  1.426856e-01 | 0.04178804    |  3.414507e+00 | 0.000685151   | \n",
       "\n",
       "\n"
      ],
      "text/plain": [
       "               Estimate      Std. Error t value       Pr(>|t|)   \n",
       "(Intercept)    -1.312783e-18 0.04175091 -3.144321e-17 1.000000000\n",
       "scale(TRISCHD)  1.426856e-01 0.04178804  3.414507e+00 0.000685151"
      ]
     },
     "metadata": {},
     "output_type": "display_data"
    }
   ],
   "source": [
    "summary(lm('scale(mu_area) ~ 1 + scale(TRISCHD)', data=gtex_visc))$coeff"
   ]
  },
  {
   "cell_type": "code",
   "execution_count": 10,
   "metadata": {
    "collapsed": true
   },
   "outputs": [],
   "source": [
    "gtex_subq_coeff = summary(lm('scale(mu_area) ~ 1 + scale(AGE) + scale(BMI) + as.factor(SEX)', data=gtex_subq))$coeff"
   ]
  },
  {
   "cell_type": "code",
   "execution_count": 11,
   "metadata": {},
   "outputs": [
    {
     "data": {
      "text/html": [
       "<table>\n",
       "<thead><tr><th></th><th scope=col>Estimate</th><th scope=col>Std. Error</th><th scope=col>t value</th><th scope=col>Pr(&gt;|t|)</th></tr></thead>\n",
       "<tbody>\n",
       "\t<tr><th scope=row>(Intercept)</th><td>-0.1110243  </td><td>0.04025392  </td><td>-2.758098   </td><td>5.962794e-03</td></tr>\n",
       "\t<tr><th scope=row>scale(AGE)</th><td> 0.1825215  </td><td>0.03283025  </td><td> 5.559553   </td><td>3.824829e-08</td></tr>\n",
       "\t<tr><th scope=row>scale(BMI)</th><td> 0.4203632  </td><td>0.03288384  </td><td>12.783276   </td><td>7.730706e-34</td></tr>\n",
       "\t<tr><th scope=row>as.factor(SEX)2</th><td> 0.3249159  </td><td>0.06896186  </td><td> 4.711531   </td><td>2.956349e-06</td></tr>\n",
       "</tbody>\n",
       "</table>\n"
      ],
      "text/latex": [
       "\\begin{tabular}{r|llll}\n",
       "  & Estimate & Std. Error & t value & Pr(>\\textbar{}t\\textbar{})\\\\\n",
       "\\hline\n",
       "\t(Intercept) & -0.1110243   & 0.04025392   & -2.758098    & 5.962794e-03\\\\\n",
       "\tscale(AGE) &  0.1825215   & 0.03283025   &  5.559553    & 3.824829e-08\\\\\n",
       "\tscale(BMI) &  0.4203632   & 0.03288384   & 12.783276    & 7.730706e-34\\\\\n",
       "\tas.factor(SEX)2 &  0.3249159   & 0.06896186   &  4.711531    & 2.956349e-06\\\\\n",
       "\\end{tabular}\n"
      ],
      "text/markdown": [
       "\n",
       "| <!--/--> | Estimate | Std. Error | t value | Pr(>|t|) | \n",
       "|---|---|---|---|\n",
       "| (Intercept) | -0.1110243   | 0.04025392   | -2.758098    | 5.962794e-03 | \n",
       "| scale(AGE) |  0.1825215   | 0.03283025   |  5.559553    | 3.824829e-08 | \n",
       "| scale(BMI) |  0.4203632   | 0.03288384   | 12.783276    | 7.730706e-34 | \n",
       "| as.factor(SEX)2 |  0.3249159   | 0.06896186   |  4.711531    | 2.956349e-06 | \n",
       "\n",
       "\n"
      ],
      "text/plain": [
       "                Estimate   Std. Error t value   Pr(>|t|)    \n",
       "(Intercept)     -0.1110243 0.04025392 -2.758098 5.962794e-03\n",
       "scale(AGE)       0.1825215 0.03283025  5.559553 3.824829e-08\n",
       "scale(BMI)       0.4203632 0.03288384 12.783276 7.730706e-34\n",
       "as.factor(SEX)2  0.3249159 0.06896186  4.711531 2.956349e-06"
      ]
     },
     "metadata": {},
     "output_type": "display_data"
    }
   ],
   "source": [
    "# larger cells in women, older and obese individuals (Subcutaenous)\n",
    "gtex_subq_coeff"
   ]
  },
  {
   "cell_type": "code",
   "execution_count": 12,
   "metadata": {
    "collapsed": true
   },
   "outputs": [],
   "source": [
    "gtex_visc_coeff = summary(lm('scale(mu_area) ~ 1 + scale(AGE) + scale(BMI) + as.factor(SEX)', data=gtex_visc))$coeff"
   ]
  },
  {
   "cell_type": "code",
   "execution_count": 13,
   "metadata": {},
   "outputs": [
    {
     "data": {
      "text/html": [
       "<table>\n",
       "<thead><tr><th></th><th scope=col>Estimate</th><th scope=col>Std. Error</th><th scope=col>t value</th><th scope=col>Pr(&gt;|t|)</th></tr></thead>\n",
       "<tbody>\n",
       "\t<tr><th scope=row>(Intercept)</th><td> 0.1137522  </td><td>0.04360714  </td><td> 2.608568   </td><td>9.335418e-03</td></tr>\n",
       "\t<tr><th scope=row>scale(AGE)</th><td> 0.1533996  </td><td>0.03548276  </td><td> 4.323216   </td><td>1.820770e-05</td></tr>\n",
       "\t<tr><th scope=row>scale(BMI)</th><td> 0.4810696  </td><td>0.03556012  </td><td>13.528345   </td><td>2.823188e-36</td></tr>\n",
       "\t<tr><th scope=row>as.factor(SEX)2</th><td>-0.3353010  </td><td>0.07498805  </td><td>-4.471393   </td><td>9.414931e-06</td></tr>\n",
       "</tbody>\n",
       "</table>\n"
      ],
      "text/latex": [
       "\\begin{tabular}{r|llll}\n",
       "  & Estimate & Std. Error & t value & Pr(>\\textbar{}t\\textbar{})\\\\\n",
       "\\hline\n",
       "\t(Intercept) &  0.1137522   & 0.04360714   &  2.608568    & 9.335418e-03\\\\\n",
       "\tscale(AGE) &  0.1533996   & 0.03548276   &  4.323216    & 1.820770e-05\\\\\n",
       "\tscale(BMI) &  0.4810696   & 0.03556012   & 13.528345    & 2.823188e-36\\\\\n",
       "\tas.factor(SEX)2 & -0.3353010   & 0.07498805   & -4.471393    & 9.414931e-06\\\\\n",
       "\\end{tabular}\n"
      ],
      "text/markdown": [
       "\n",
       "| <!--/--> | Estimate | Std. Error | t value | Pr(>|t|) | \n",
       "|---|---|---|---|\n",
       "| (Intercept) |  0.1137522   | 0.04360714   |  2.608568    | 9.335418e-03 | \n",
       "| scale(AGE) |  0.1533996   | 0.03548276   |  4.323216    | 1.820770e-05 | \n",
       "| scale(BMI) |  0.4810696   | 0.03556012   | 13.528345    | 2.823188e-36 | \n",
       "| as.factor(SEX)2 | -0.3353010   | 0.07498805   | -4.471393    | 9.414931e-06 | \n",
       "\n",
       "\n"
      ],
      "text/plain": [
       "                Estimate   Std. Error t value   Pr(>|t|)    \n",
       "(Intercept)      0.1137522 0.04360714  2.608568 9.335418e-03\n",
       "scale(AGE)       0.1533996 0.03548276  4.323216 1.820770e-05\n",
       "scale(BMI)       0.4810696 0.03556012 13.528345 2.823188e-36\n",
       "as.factor(SEX)2 -0.3353010 0.07498805 -4.471393 9.414931e-06"
      ]
     },
     "metadata": {},
     "output_type": "display_data"
    }
   ],
   "source": [
    "# smallers cells in women, larger cells in older and obese individuals (Visceral)\n",
    "gtex_visc_coeff"
   ]
  },
  {
   "cell_type": "code",
   "execution_count": 14,
   "metadata": {
    "collapsed": true
   },
   "outputs": [],
   "source": [
    "mobb_subq_coeff = summary(lm('scale(mu_area) ~ 1 + scale(Age) + scale(BMI) + as.factor(Gender)', data=mobb_subq))$coeff"
   ]
  },
  {
   "cell_type": "code",
   "execution_count": 15,
   "metadata": {},
   "outputs": [
    {
     "data": {
      "text/html": [
       "<table>\n",
       "<thead><tr><th></th><th scope=col>Estimate</th><th scope=col>Std. Error</th><th scope=col>t value</th><th scope=col>Pr(&gt;|t|)</th></tr></thead>\n",
       "<tbody>\n",
       "\t<tr><th scope=row>(Intercept)</th><td>-0.007726323</td><td>0.12642818  </td><td>-0.06111235 </td><td>9.513522e-01</td></tr>\n",
       "\t<tr><th scope=row>scale(Age)</th><td> 0.005389382</td><td>0.07847236  </td><td> 0.06867873 </td><td>9.453380e-01</td></tr>\n",
       "\t<tr><th scope=row>scale(BMI)</th><td> 0.471526975</td><td>0.07870166  </td><td> 5.99132177 </td><td>1.515821e-08</td></tr>\n",
       "\t<tr><th scope=row>as.factor(Gender)2</th><td> 0.019648619</td><td>0.15852537  </td><td> 0.12394621 </td><td>9.015260e-01</td></tr>\n",
       "</tbody>\n",
       "</table>\n"
      ],
      "text/latex": [
       "\\begin{tabular}{r|llll}\n",
       "  & Estimate & Std. Error & t value & Pr(>\\textbar{}t\\textbar{})\\\\\n",
       "\\hline\n",
       "\t(Intercept) & -0.007726323 & 0.12642818   & -0.06111235  & 9.513522e-01\\\\\n",
       "\tscale(Age) &  0.005389382 & 0.07847236   &  0.06867873  & 9.453380e-01\\\\\n",
       "\tscale(BMI) &  0.471526975 & 0.07870166   &  5.99132177  & 1.515821e-08\\\\\n",
       "\tas.factor(Gender)2 &  0.019648619 & 0.15852537   &  0.12394621  & 9.015260e-01\\\\\n",
       "\\end{tabular}\n"
      ],
      "text/markdown": [
       "\n",
       "| <!--/--> | Estimate | Std. Error | t value | Pr(>|t|) | \n",
       "|---|---|---|---|\n",
       "| (Intercept) | -0.007726323 | 0.12642818   | -0.06111235  | 9.513522e-01 | \n",
       "| scale(Age) |  0.005389382 | 0.07847236   |  0.06867873  | 9.453380e-01 | \n",
       "| scale(BMI) |  0.471526975 | 0.07870166   |  5.99132177  | 1.515821e-08 | \n",
       "| as.factor(Gender)2 |  0.019648619 | 0.15852537   |  0.12394621  | 9.015260e-01 | \n",
       "\n",
       "\n"
      ],
      "text/plain": [
       "                   Estimate     Std. Error t value     Pr(>|t|)    \n",
       "(Intercept)        -0.007726323 0.12642818 -0.06111235 9.513522e-01\n",
       "scale(Age)          0.005389382 0.07847236  0.06867873 9.453380e-01\n",
       "scale(BMI)          0.471526975 0.07870166  5.99132177 1.515821e-08\n",
       "as.factor(Gender)2  0.019648619 0.15852537  0.12394621 9.015260e-01"
      ]
     },
     "metadata": {},
     "output_type": "display_data"
    }
   ],
   "source": [
    "mobb_subq_coeff"
   ]
  },
  {
   "cell_type": "code",
   "execution_count": 16,
   "metadata": {
    "collapsed": true
   },
   "outputs": [],
   "source": [
    "mobb_visc_coeff = summary(lm('scale(mu_area) ~ 1 + scale(Age) + scale(BMI) + as.factor(Gender)', data=mobb_visc))$coeff"
   ]
  },
  {
   "cell_type": "code",
   "execution_count": 17,
   "metadata": {},
   "outputs": [
    {
     "data": {
      "text/html": [
       "<table>\n",
       "<thead><tr><th></th><th scope=col>Estimate</th><th scope=col>Std. Error</th><th scope=col>t value</th><th scope=col>Pr(&gt;|t|)</th></tr></thead>\n",
       "<tbody>\n",
       "\t<tr><th scope=row>(Intercept)</th><td> 0.2618262  </td><td>0.12023449  </td><td> 2.177630   </td><td>3.083642e-02</td></tr>\n",
       "\t<tr><th scope=row>scale(Age)</th><td> 0.1128385  </td><td>0.07209191  </td><td> 1.565203   </td><td>1.194283e-01</td></tr>\n",
       "\t<tr><th scope=row>scale(BMI)</th><td> 0.5198642  </td><td>0.07356045  </td><td> 7.067170   </td><td>4.095448e-11</td></tr>\n",
       "\t<tr><th scope=row>as.factor(Gender)2</th><td>-0.3768030  </td><td>0.14913752  </td><td>-2.526547   </td><td>1.244886e-02</td></tr>\n",
       "</tbody>\n",
       "</table>\n"
      ],
      "text/latex": [
       "\\begin{tabular}{r|llll}\n",
       "  & Estimate & Std. Error & t value & Pr(>\\textbar{}t\\textbar{})\\\\\n",
       "\\hline\n",
       "\t(Intercept) &  0.2618262   & 0.12023449   &  2.177630    & 3.083642e-02\\\\\n",
       "\tscale(Age) &  0.1128385   & 0.07209191   &  1.565203    & 1.194283e-01\\\\\n",
       "\tscale(BMI) &  0.5198642   & 0.07356045   &  7.067170    & 4.095448e-11\\\\\n",
       "\tas.factor(Gender)2 & -0.3768030   & 0.14913752   & -2.526547    & 1.244886e-02\\\\\n",
       "\\end{tabular}\n"
      ],
      "text/markdown": [
       "\n",
       "| <!--/--> | Estimate | Std. Error | t value | Pr(>|t|) | \n",
       "|---|---|---|---|\n",
       "| (Intercept) |  0.2618262   | 0.12023449   |  2.177630    | 3.083642e-02 | \n",
       "| scale(Age) |  0.1128385   | 0.07209191   |  1.565203    | 1.194283e-01 | \n",
       "| scale(BMI) |  0.5198642   | 0.07356045   |  7.067170    | 4.095448e-11 | \n",
       "| as.factor(Gender)2 | -0.3768030   | 0.14913752   | -2.526547    | 1.244886e-02 | \n",
       "\n",
       "\n"
      ],
      "text/plain": [
       "                   Estimate   Std. Error t value   Pr(>|t|)    \n",
       "(Intercept)         0.2618262 0.12023449  2.177630 3.083642e-02\n",
       "scale(Age)          0.1128385 0.07209191  1.565203 1.194283e-01\n",
       "scale(BMI)          0.5198642 0.07356045  7.067170 4.095448e-11\n",
       "as.factor(Gender)2 -0.3768030 0.14913752 -2.526547 1.244886e-02"
      ]
     },
     "metadata": {},
     "output_type": "display_data"
    }
   ],
   "source": [
    "mobb_visc_coeff"
   ]
  },
  {
   "cell_type": "code",
   "execution_count": 18,
   "metadata": {
    "collapsed": true
   },
   "outputs": [],
   "source": [
    "ndox_subq_coeff = summary(lm('scale(mu_area) ~ 1 + scale(Age) + scale(BMI)', data=ndox_subq))$coeff"
   ]
  },
  {
   "cell_type": "code",
   "execution_count": 19,
   "metadata": {},
   "outputs": [
    {
     "data": {
      "text/html": [
       "<table>\n",
       "<thead><tr><th></th><th scope=col>Estimate</th><th scope=col>Std. Error</th><th scope=col>t value</th><th scope=col>Pr(&gt;|t|)</th></tr></thead>\n",
       "<tbody>\n",
       "\t<tr><th scope=row>(Intercept)</th><td>0.017856950 </td><td>0.05806353  </td><td>0.30754162  </td><td>7.587131e-01</td></tr>\n",
       "\t<tr><th scope=row>scale(Age)</th><td>0.002702078 </td><td>0.05893167  </td><td>0.04585103  </td><td>9.634693e-01</td></tr>\n",
       "\t<tr><th scope=row>scale(BMI)</th><td>0.507540740 </td><td>0.05879464  </td><td>8.63243277  </td><td>1.066866e-15</td></tr>\n",
       "</tbody>\n",
       "</table>\n"
      ],
      "text/latex": [
       "\\begin{tabular}{r|llll}\n",
       "  & Estimate & Std. Error & t value & Pr(>\\textbar{}t\\textbar{})\\\\\n",
       "\\hline\n",
       "\t(Intercept) & 0.017856950  & 0.05806353   & 0.30754162   & 7.587131e-01\\\\\n",
       "\tscale(Age) & 0.002702078  & 0.05893167   & 0.04585103   & 9.634693e-01\\\\\n",
       "\tscale(BMI) & 0.507540740  & 0.05879464   & 8.63243277   & 1.066866e-15\\\\\n",
       "\\end{tabular}\n"
      ],
      "text/markdown": [
       "\n",
       "| <!--/--> | Estimate | Std. Error | t value | Pr(>|t|) | \n",
       "|---|---|---|\n",
       "| (Intercept) | 0.017856950  | 0.05806353   | 0.30754162   | 7.587131e-01 | \n",
       "| scale(Age) | 0.002702078  | 0.05893167   | 0.04585103   | 9.634693e-01 | \n",
       "| scale(BMI) | 0.507540740  | 0.05879464   | 8.63243277   | 1.066866e-15 | \n",
       "\n",
       "\n"
      ],
      "text/plain": [
       "            Estimate    Std. Error t value    Pr(>|t|)    \n",
       "(Intercept) 0.017856950 0.05806353 0.30754162 7.587131e-01\n",
       "scale(Age)  0.002702078 0.05893167 0.04585103 9.634693e-01\n",
       "scale(BMI)  0.507540740 0.05879464 8.63243277 1.066866e-15"
      ]
     },
     "metadata": {},
     "output_type": "display_data"
    }
   ],
   "source": [
    "ndox_subq_coeff"
   ]
  },
  {
   "cell_type": "code",
   "execution_count": 20,
   "metadata": {
    "collapsed": true
   },
   "outputs": [],
   "source": [
    "ndox_visc_coeff = summary(lm('scale(mu_area) ~ 1 + scale(Age) + scale(BMI)', data=ndox_visc))$coeff"
   ]
  },
  {
   "cell_type": "code",
   "execution_count": 21,
   "metadata": {},
   "outputs": [
    {
     "data": {
      "text/html": [
       "<table>\n",
       "<thead><tr><th></th><th scope=col>Estimate</th><th scope=col>Std. Error</th><th scope=col>t value</th><th scope=col>Pr(&gt;|t|)</th></tr></thead>\n",
       "<tbody>\n",
       "\t<tr><th scope=row>(Intercept)</th><td>-0.12968369</td><td>0.1311317  </td><td>-0.9889575 </td><td>0.330593749</td></tr>\n",
       "\t<tr><th scope=row>scale(Age)</th><td>-0.09886306</td><td>0.1470589  </td><td>-0.6722683 </td><td>0.506557960</td></tr>\n",
       "\t<tr><th scope=row>scale(BMI)</th><td> 0.51950003</td><td>0.1450629  </td><td> 3.5812044 </td><td>0.001189509</td></tr>\n",
       "</tbody>\n",
       "</table>\n"
      ],
      "text/latex": [
       "\\begin{tabular}{r|llll}\n",
       "  & Estimate & Std. Error & t value & Pr(>\\textbar{}t\\textbar{})\\\\\n",
       "\\hline\n",
       "\t(Intercept) & -0.12968369 & 0.1311317   & -0.9889575  & 0.330593749\\\\\n",
       "\tscale(Age) & -0.09886306 & 0.1470589   & -0.6722683  & 0.506557960\\\\\n",
       "\tscale(BMI) &  0.51950003 & 0.1450629   &  3.5812044  & 0.001189509\\\\\n",
       "\\end{tabular}\n"
      ],
      "text/markdown": [
       "\n",
       "| <!--/--> | Estimate | Std. Error | t value | Pr(>|t|) | \n",
       "|---|---|---|\n",
       "| (Intercept) | -0.12968369 | 0.1311317   | -0.9889575  | 0.330593749 | \n",
       "| scale(Age) | -0.09886306 | 0.1470589   | -0.6722683  | 0.506557960 | \n",
       "| scale(BMI) |  0.51950003 | 0.1450629   |  3.5812044  | 0.001189509 | \n",
       "\n",
       "\n"
      ],
      "text/plain": [
       "            Estimate    Std. Error t value    Pr(>|t|)   \n",
       "(Intercept) -0.12968369 0.1311317  -0.9889575 0.330593749\n",
       "scale(Age)  -0.09886306 0.1470589  -0.6722683 0.506557960\n",
       "scale(BMI)   0.51950003 0.1450629   3.5812044 0.001189509"
      ]
     },
     "metadata": {},
     "output_type": "display_data"
    }
   ],
   "source": [
    "ndox_visc_coeff"
   ]
  },
  {
   "cell_type": "code",
   "execution_count": 22,
   "metadata": {
    "collapsed": true
   },
   "outputs": [],
   "source": [
    "diva_subq_coeff = summary(lm('scale(mu_area) ~ 1 + scale(Age.at.fATDIVA.recruitment) + scale(fATDIVA..BMI.using.study.Ht) + as.factor(GENDER)', data=diva_subq))$coeff"
   ]
  },
  {
   "cell_type": "code",
   "execution_count": 23,
   "metadata": {},
   "outputs": [
    {
     "data": {
      "text/html": [
       "<table>\n",
       "<thead><tr><th></th><th scope=col>Estimate</th><th scope=col>Std. Error</th><th scope=col>t value</th><th scope=col>Pr(&gt;|t|)</th></tr></thead>\n",
       "<tbody>\n",
       "\t<tr><th scope=row>(Intercept)</th><td>-0.05051528 </td><td>0.12350607  </td><td>-0.4090105  </td><td>6.832671e-01</td></tr>\n",
       "\t<tr><th scope=row>scale(Age.at.fATDIVA.recruitment)</th><td> 0.14802618 </td><td>0.08003450  </td><td> 1.8495296  </td><td>6.686264e-02</td></tr>\n",
       "\t<tr><th scope=row>scale(fATDIVA..BMI.using.study.Ht)</th><td> 0.48289311 </td><td>0.08097989  </td><td> 5.9631238  </td><td>2.600150e-08</td></tr>\n",
       "\t<tr><th scope=row>as.factor(GENDER)2</th><td> 0.08751239 </td><td>0.16408167  </td><td> 0.5333465  </td><td>5.947885e-01</td></tr>\n",
       "</tbody>\n",
       "</table>\n"
      ],
      "text/latex": [
       "\\begin{tabular}{r|llll}\n",
       "  & Estimate & Std. Error & t value & Pr(>\\textbar{}t\\textbar{})\\\\\n",
       "\\hline\n",
       "\t(Intercept) & -0.05051528  & 0.12350607   & -0.4090105   & 6.832671e-01\\\\\n",
       "\tscale(Age.at.fATDIVA.recruitment) &  0.14802618  & 0.08003450   &  1.8495296   & 6.686264e-02\\\\\n",
       "\tscale(fATDIVA..BMI.using.study.Ht) &  0.48289311  & 0.08097989   &  5.9631238   & 2.600150e-08\\\\\n",
       "\tas.factor(GENDER)2 &  0.08751239  & 0.16408167   &  0.5333465   & 5.947885e-01\\\\\n",
       "\\end{tabular}\n"
      ],
      "text/markdown": [
       "\n",
       "| <!--/--> | Estimate | Std. Error | t value | Pr(>|t|) | \n",
       "|---|---|---|---|\n",
       "| (Intercept) | -0.05051528  | 0.12350607   | -0.4090105   | 6.832671e-01 | \n",
       "| scale(Age.at.fATDIVA.recruitment) |  0.14802618  | 0.08003450   |  1.8495296   | 6.686264e-02 | \n",
       "| scale(fATDIVA..BMI.using.study.Ht) |  0.48289311  | 0.08097989   |  5.9631238   | 2.600150e-08 | \n",
       "| as.factor(GENDER)2 |  0.08751239  | 0.16408167   |  0.5333465   | 5.947885e-01 | \n",
       "\n",
       "\n"
      ],
      "text/plain": [
       "                                   Estimate    Std. Error t value   \n",
       "(Intercept)                        -0.05051528 0.12350607 -0.4090105\n",
       "scale(Age.at.fATDIVA.recruitment)   0.14802618 0.08003450  1.8495296\n",
       "scale(fATDIVA..BMI.using.study.Ht)  0.48289311 0.08097989  5.9631238\n",
       "as.factor(GENDER)2                  0.08751239 0.16408167  0.5333465\n",
       "                                   Pr(>|t|)    \n",
       "(Intercept)                        6.832671e-01\n",
       "scale(Age.at.fATDIVA.recruitment)  6.686264e-02\n",
       "scale(fATDIVA..BMI.using.study.Ht) 2.600150e-08\n",
       "as.factor(GENDER)2                 5.947885e-01"
      ]
     },
     "metadata": {},
     "output_type": "display_data"
    }
   ],
   "source": [
    "diva_subq_coeff"
   ]
  },
  {
   "cell_type": "markdown",
   "metadata": {},
   "source": [
    "## Lets perform a M/A for age and BMI associations with subq fat adipocyte area"
   ]
  },
  {
   "cell_type": "code",
   "execution_count": 24,
   "metadata": {
    "collapsed": true
   },
   "outputs": [],
   "source": [
    "gtex_subq_beta = as.matrix(as.numeric(gtex_subq_coeff[2:3,1]))\n",
    "gtex_subq_std_err = as.matrix(as.numeric(gtex_subq_coeff[2:3,2]))\n",
    "gtex_subq_pval = as.matrix(as.numeric(format.pval(gtex_subq_coeff[2:3,4],digits=2,eps =1e-100)))\n",
    "                              \n",
    "mobb_subq_beta = as.matrix(as.numeric(mobb_subq_coeff[2:3,1]))\n",
    "mobb_subq_std_err = as.matrix(as.numeric(mobb_subq_coeff[2:3,2]))\n",
    "mobb_subq_pval = as.matrix(as.numeric(format.pval(mobb_subq_coeff[2:3,4],digits=2,eps =1e-100)))\n",
    "\n",
    "diva_subq_beta = as.matrix(as.numeric(diva_subq_coeff[2:3,1]))\n",
    "diva_subq_std_err = as.matrix(as.numeric(diva_subq_coeff[2:3,2]))\n",
    "diva_subq_pval = as.matrix(as.numeric(format.pval(diva_subq_coeff[2:3,4],digits=2,eps =1e-100)))\n",
    "\n",
    "ndox_subq_beta = as.matrix(as.numeric(ndox_subq_coeff[2:3,1]))\n",
    "ndox_subq_std_err = as.matrix(as.numeric(ndox_subq_coeff[2:3,2]))\n",
    "ndox_subq_pval = as.matrix(as.numeric(format.pval(ndox_subq_coeff[2:3,4],digits=2,eps =1e-100)))\n",
    "\n"
   ]
  },
  {
   "cell_type": "code",
   "execution_count": 25,
   "metadata": {
    "collapsed": true
   },
   "outputs": [],
   "source": [
    "combined_subq = as.data.frame(rbind(gtex_subq_beta,mobb_subq_beta,diva_subq_beta,ndox_subq_beta))\n",
    "colnames(combined_subq) =\"beta\"\n",
    "combined_subq$covar = c('age','bmi','age','bmi','age','bmi','age','bmi')\n",
    "combined_subq$std.error = rbind(gtex_subq_std_err, mobb_subq_std_err, diva_subq_std_err, ndox_subq_std_err)\n",
    "combined_subq$P.value = rbind(gtex_subq_pval, mobb_subq_pval, diva_subq_pval, ndox_subq_pval)\n",
    "combined_subq$study = c('GTEx','GTEx','MOBB','MOBB','fatDIVA','fatDIVA','NDOX','NDOX')\n",
    "combined_subq_bmi = subset(combined_subq, covar =='bmi')\n",
    "combined_subq_bmi$N = list(dim(gtex_subq)[1],dim(mobb_subq)[1],dim(diva_subq)[1],dim(ndox_subq)[1])"
   ]
  },
  {
   "cell_type": "code",
   "execution_count": 26,
   "metadata": {},
   "outputs": [
    {
     "data": {
      "text/html": [
       "<table>\n",
       "<thead><tr><th></th><th scope=col>beta</th><th scope=col>covar</th><th scope=col>std.error</th><th scope=col>P.value</th><th scope=col>study</th><th scope=col>N</th></tr></thead>\n",
       "<tbody>\n",
       "\t<tr><th scope=row>2</th><td>0.4203632 </td><td>bmi       </td><td>0.03288384</td><td>7.7e-34   </td><td>GTEx      </td><td>717       </td></tr>\n",
       "\t<tr><th scope=row>4</th><td>0.4715270 </td><td>bmi       </td><td>0.07870166</td><td>1.5e-08   </td><td>MOBB      </td><td>156       </td></tr>\n",
       "\t<tr><th scope=row>6</th><td>0.4828931 </td><td>bmi       </td><td>0.08097989</td><td>2.6e-08   </td><td>fatDIVA   </td><td>123       </td></tr>\n",
       "\t<tr><th scope=row>8</th><td>0.5075407 </td><td>bmi       </td><td>0.05879464</td><td>1.1e-15   </td><td>NDOX      </td><td>310       </td></tr>\n",
       "</tbody>\n",
       "</table>\n"
      ],
      "text/latex": [
       "\\begin{tabular}{r|llllll}\n",
       "  & beta & covar & std.error & P.value & study & N\\\\\n",
       "\\hline\n",
       "\t2 & 0.4203632  & bmi        & 0.03288384 & 7.7e-34    & GTEx       & 717       \\\\\n",
       "\t4 & 0.4715270  & bmi        & 0.07870166 & 1.5e-08    & MOBB       & 156       \\\\\n",
       "\t6 & 0.4828931  & bmi        & 0.08097989 & 2.6e-08    & fatDIVA    & 123       \\\\\n",
       "\t8 & 0.5075407  & bmi        & 0.05879464 & 1.1e-15    & NDOX       & 310       \\\\\n",
       "\\end{tabular}\n"
      ],
      "text/markdown": [
       "\n",
       "| <!--/--> | beta | covar | std.error | P.value | study | N | \n",
       "|---|---|---|---|\n",
       "| 2 | 0.4203632  | bmi        | 0.03288384 | 7.7e-34    | GTEx       | 717        | \n",
       "| 4 | 0.4715270  | bmi        | 0.07870166 | 1.5e-08    | MOBB       | 156        | \n",
       "| 6 | 0.4828931  | bmi        | 0.08097989 | 2.6e-08    | fatDIVA    | 123        | \n",
       "| 8 | 0.5075407  | bmi        | 0.05879464 | 1.1e-15    | NDOX       | 310        | \n",
       "\n",
       "\n"
      ],
      "text/plain": [
       "  beta      covar std.error  P.value study   N  \n",
       "2 0.4203632 bmi   0.03288384 7.7e-34 GTEx    717\n",
       "4 0.4715270 bmi   0.07870166 1.5e-08 MOBB    156\n",
       "6 0.4828931 bmi   0.08097989 2.6e-08 fatDIVA 123\n",
       "8 0.5075407 bmi   0.05879464 1.1e-15 NDOX    310"
      ]
     },
     "metadata": {},
     "output_type": "display_data"
    }
   ],
   "source": [
    "combined_subq_bmi"
   ]
  },
  {
   "cell_type": "code",
   "execution_count": null,
   "metadata": {
    "collapsed": true
   },
   "outputs": [],
   "source": []
  },
  {
   "cell_type": "markdown",
   "metadata": {},
   "source": [
    "### Subq BMI:"
   ]
  },
  {
   "cell_type": "code",
   "execution_count": 27,
   "metadata": {
    "collapsed": true
   },
   "outputs": [],
   "source": [
    "m.hksj<-metagen(TE=beta,\n",
    "        seTE=std.error,\n",
    "        data=combined_subq_bmi,\n",
    "        studlab=paste(study),\n",
    "        comb.fixed = TRUE,\n",
    "        comb.random = TRUE,\n",
    "        hakn = FALSE,\n",
    "        prediction=TRUE,\n",
    "        method.tau = 'EB',\n",
    "        sm=\"SMD\")"
   ]
  },
  {
   "cell_type": "code",
   "execution_count": 28,
   "metadata": {},
   "outputs": [
    {
     "data": {
      "text/html": [
       "8.13068027845859e-69"
      ],
      "text/latex": [
       "8.13068027845859e-69"
      ],
      "text/markdown": [
       "8.13068027845859e-69"
      ],
      "text/plain": [
       "[1] 8.13068e-69"
      ]
     },
     "metadata": {},
     "output_type": "display_data"
    }
   ],
   "source": [
    "m.hksj$pval.fixed"
   ]
  },
  {
   "cell_type": "code",
   "execution_count": 29,
   "metadata": {},
   "outputs": [
    {
     "data": {
      "text/html": [
       "8.13068027845859e-69"
      ],
      "text/latex": [
       "8.13068027845859e-69"
      ],
      "text/markdown": [
       "8.13068027845859e-69"
      ],
      "text/plain": [
       "[1] 8.13068e-69"
      ]
     },
     "metadata": {},
     "output_type": "display_data"
    }
   ],
   "source": [
    "m.hksj$pval.random"
   ]
  },
  {
   "cell_type": "code",
   "execution_count": 30,
   "metadata": {},
   "outputs": [
    {
     "data": {
      "text/plain": [
       "           SMD           95%-CI %W(fixed) %W(random)\n",
       "GTEx    0.4204 [0.3559; 0.4848]      60.5       60.5\n",
       "MOBB    0.4715 [0.3173; 0.6258]      10.6       10.6\n",
       "fatDIVA 0.4829 [0.3242; 0.6416]      10.0       10.0\n",
       "NDOX    0.5075 [0.3923; 0.6228]      18.9       18.9\n",
       "\n",
       "Number of studies combined: k = 4\n",
       "\n",
       "                        SMD           95%-CI     z  p-value\n",
       "Fixed effect model   0.4485 [0.3984; 0.4987] 17.53 < 0.0001\n",
       "Random effects model 0.4485 [0.3984; 0.4987] 17.53 < 0.0001\n",
       "Prediction interval         [0.3384; 0.5586]               \n",
       "\n",
       "Quantifying heterogeneity:\n",
       "tau^2 = 0; H = 1.00 [1.00; 2.09]; I^2 = 0.0% [0.0%; 77.1%]\n",
       "\n",
       "Test of heterogeneity:\n",
       "    Q d.f. p-value\n",
       " 2.01    3  0.5711\n",
       "\n",
       "Details on meta-analytical method:\n",
       "- Inverse variance method\n",
       "- Empirical Bayes estimator for tau^2"
      ]
     },
     "metadata": {},
     "output_type": "display_data"
    }
   ],
   "source": [
    "m.hksj"
   ]
  },
  {
   "cell_type": "code",
   "execution_count": 31,
   "metadata": {},
   "outputs": [
    {
     "data": {
      "text/html": [
       "<strong>png:</strong> 2"
      ],
      "text/latex": [
       "\\textbf{png:} 2"
      ],
      "text/markdown": [
       "**png:** 2"
      ],
      "text/plain": [
       "png \n",
       "  2 "
      ]
     },
     "metadata": {},
     "output_type": "display_data"
    }
   ],
   "source": [
    "pdf(\"BMI_meta_analysis_subq.pdf\", width=10,height=4, bg=\"white\")\n",
    "\n",
    "forest(m.hksj, \n",
    "       sortvar=TE, \n",
    "       digits.sd = 2,\n",
    "       xlim = c(-1,1),  \n",
    "       pooled.totals = FALSE, \n",
    "       smlab = \"\",\n",
    "       rightlabs = c(\"BMI Beta\",\"95% CI\",\"Weight\"),\n",
    "       comb.random=TRUE,\n",
    "       leftcols=c(\"study\",\"TE\",\"seTE\",'P.value',\"N\"),\n",
    "       leftlabs=c('Cohort','effect','SE','P','N'),\n",
    "       col.diamond = \"blue\",\n",
    "       col.diamond.lines = \"black\",\n",
    "       col.predict = \"black\",\n",
    "       print.tau2 = TRUE,\n",
    "       prediction = FALSE)\n",
    "dev.off()"
   ]
  },
  {
   "cell_type": "markdown",
   "metadata": {},
   "source": [
    "### Subq age:"
   ]
  },
  {
   "cell_type": "code",
   "execution_count": 32,
   "metadata": {
    "collapsed": true
   },
   "outputs": [],
   "source": [
    "combined_subq_age = subset(combined_subq, covar =='age')\n",
    "combined_subq_age$N = list(dim(gtex_subq)[1],dim(mobb_subq)[1],dim(diva_subq)[1],dim(ndox_subq)[1])"
   ]
  },
  {
   "cell_type": "code",
   "execution_count": 33,
   "metadata": {},
   "outputs": [
    {
     "data": {
      "text/html": [
       "<table>\n",
       "<thead><tr><th></th><th scope=col>beta</th><th scope=col>covar</th><th scope=col>std.error</th><th scope=col>P.value</th><th scope=col>study</th><th scope=col>N</th></tr></thead>\n",
       "<tbody>\n",
       "\t<tr><th scope=row>1</th><td>0.182521545</td><td>age        </td><td>0.03283025 </td><td>3.8e-08    </td><td>GTEx       </td><td>717        </td></tr>\n",
       "\t<tr><th scope=row>3</th><td>0.005389382</td><td>age        </td><td>0.07847236 </td><td>9.5e-01    </td><td>MOBB       </td><td>156        </td></tr>\n",
       "\t<tr><th scope=row>5</th><td>0.148026176</td><td>age        </td><td>0.08003450 </td><td>6.7e-02    </td><td>fatDIVA    </td><td>123        </td></tr>\n",
       "\t<tr><th scope=row>7</th><td>0.002702078</td><td>age        </td><td>0.05893167 </td><td>9.6e-01    </td><td>NDOX       </td><td>310        </td></tr>\n",
       "</tbody>\n",
       "</table>\n"
      ],
      "text/latex": [
       "\\begin{tabular}{r|llllll}\n",
       "  & beta & covar & std.error & P.value & study & N\\\\\n",
       "\\hline\n",
       "\t1 & 0.182521545 & age         & 0.03283025  & 3.8e-08     & GTEx        & 717        \\\\\n",
       "\t3 & 0.005389382 & age         & 0.07847236  & 9.5e-01     & MOBB        & 156        \\\\\n",
       "\t5 & 0.148026176 & age         & 0.08003450  & 6.7e-02     & fatDIVA     & 123        \\\\\n",
       "\t7 & 0.002702078 & age         & 0.05893167  & 9.6e-01     & NDOX        & 310        \\\\\n",
       "\\end{tabular}\n"
      ],
      "text/markdown": [
       "\n",
       "| <!--/--> | beta | covar | std.error | P.value | study | N | \n",
       "|---|---|---|---|\n",
       "| 1 | 0.182521545 | age         | 0.03283025  | 3.8e-08     | GTEx        | 717         | \n",
       "| 3 | 0.005389382 | age         | 0.07847236  | 9.5e-01     | MOBB        | 156         | \n",
       "| 5 | 0.148026176 | age         | 0.08003450  | 6.7e-02     | fatDIVA     | 123         | \n",
       "| 7 | 0.002702078 | age         | 0.05893167  | 9.6e-01     | NDOX        | 310         | \n",
       "\n",
       "\n"
      ],
      "text/plain": [
       "  beta        covar std.error  P.value study   N  \n",
       "1 0.182521545 age   0.03283025 3.8e-08 GTEx    717\n",
       "3 0.005389382 age   0.07847236 9.5e-01 MOBB    156\n",
       "5 0.148026176 age   0.08003450 6.7e-02 fatDIVA 123\n",
       "7 0.002702078 age   0.05893167 9.6e-01 NDOX    310"
      ]
     },
     "metadata": {},
     "output_type": "display_data"
    }
   ],
   "source": [
    "combined_subq_age"
   ]
  },
  {
   "cell_type": "code",
   "execution_count": 34,
   "metadata": {
    "collapsed": true
   },
   "outputs": [],
   "source": [
    "m.hksj<-metagen(beta,\n",
    "        std.error,\n",
    "        data=combined_subq_age,\n",
    "        studlab=paste(study),\n",
    "        comb.fixed = TRUE,\n",
    "        hakn = FALSE,\n",
    "        prediction=TRUE,\n",
    "        sm=\"SMD\")"
   ]
  },
  {
   "cell_type": "code",
   "execution_count": 35,
   "metadata": {},
   "outputs": [
    {
     "data": {
      "text/html": [
       "0.0855519509620465"
      ],
      "text/latex": [
       "0.0855519509620465"
      ],
      "text/markdown": [
       "0.0855519509620465"
      ],
      "text/plain": [
       "[1] 0.08555195"
      ]
     },
     "metadata": {},
     "output_type": "display_data"
    }
   ],
   "source": [
    "m.hksj$pval.random"
   ]
  },
  {
   "cell_type": "code",
   "execution_count": 36,
   "metadata": {},
   "outputs": [
    {
     "data": {
      "text/plain": [
       "           SMD            95%-CI %W(fixed) %W(random)\n",
       "GTEx    0.1825 [ 0.1182; 0.2469]      60.5       32.9\n",
       "MOBB    0.0054 [-0.1484; 0.1592]      10.6       20.8\n",
       "fatDIVA 0.1480 [-0.0088; 0.3049]      10.2       20.4\n",
       "NDOX    0.0027 [-0.1128; 0.1182]      18.8       25.8\n",
       "\n",
       "Number of studies combined: k = 4\n",
       "\n",
       "                        SMD            95%-CI    z  p-value\n",
       "Fixed effect model   0.1265 [ 0.0765; 0.1766] 4.96 < 0.0001\n",
       "Random effects model 0.0922 [-0.0129; 0.1972] 1.72   0.0856\n",
       "Prediction interval         [-0.3492; 0.5336]              \n",
       "\n",
       "Quantifying heterogeneity:\n",
       "tau^2 = 0.0077; H = 1.81 [1.06; 3.07]; I^2 = 69.3% [11.5%; 89.4%]\n",
       "\n",
       "Test of heterogeneity:\n",
       "    Q d.f. p-value\n",
       " 9.78    3  0.0205\n",
       "\n",
       "Details on meta-analytical method:\n",
       "- Inverse variance method\n",
       "- DerSimonian-Laird estimator for tau^2"
      ]
     },
     "metadata": {},
     "output_type": "display_data"
    }
   ],
   "source": [
    "m.hksj"
   ]
  },
  {
   "cell_type": "code",
   "execution_count": 37,
   "metadata": {},
   "outputs": [
    {
     "data": {
      "text/html": [
       "<strong>png:</strong> 2"
      ],
      "text/latex": [
       "\\textbf{png:} 2"
      ],
      "text/markdown": [
       "**png:** 2"
      ],
      "text/plain": [
       "png \n",
       "  2 "
      ]
     },
     "metadata": {},
     "output_type": "display_data"
    }
   ],
   "source": [
    "pdf(\"AGE_meta_analysis_subq.pdf\", width=10,height=4, bg=\"white\")\n",
    "\n",
    "forest(m.hksj, \n",
    "       sortvar=TE, \n",
    "       digits.sd = 2,\n",
    "       xlim = c(-1,1),  \n",
    "       pooled.totals = FALSE, \n",
    "       smlab = \"\",\n",
    "       rightlabs = c(\"Age Beta\",\"95% CI\",\"Weight\"),\n",
    "       comb.random=TRUE,\n",
    "       leftcols=c(\"study\",\"TE\",\"seTE\",'P.value',\"N\"),\n",
    "       leftlabs=c('Cohort','effect','SE','P','N'),\n",
    "       col.diamond = \"blue\",\n",
    "       col.diamond.lines = \"black\",\n",
    "       col.predict = \"black\",\n",
    "       print.tau2 = FALSE,\n",
    "       prediction = FALSE)\n",
    "dev.off()"
   ]
  },
  {
   "cell_type": "markdown",
   "metadata": {},
   "source": [
    "## Lets perform a M/A for age and BMI associations with visceral fat adipocyte area"
   ]
  },
  {
   "cell_type": "markdown",
   "metadata": {},
   "source": [
    "### Visc BMI:"
   ]
  },
  {
   "cell_type": "code",
   "execution_count": 38,
   "metadata": {
    "collapsed": true
   },
   "outputs": [],
   "source": [
    "gtex_visc_beta = as.matrix(as.numeric(gtex_visc_coeff[2:3,1]))\n",
    "gtex_visc_std_err = as.matrix(as.numeric(gtex_visc_coeff[2:3,2]))\n",
    "gtex_visc_pval = as.matrix(as.numeric(format.pval(gtex_visc_coeff[2:3,4],digits=2,eps =1e-100)))\n",
    "                              \n",
    "mobb_visc_beta = as.matrix(as.numeric(mobb_visc_coeff[2:3,1]))\n",
    "mobb_visc_std_err = as.matrix(as.numeric(mobb_visc_coeff[2:3,2]))\n",
    "mobb_visc_pval = as.matrix(as.numeric(format.pval(mobb_visc_coeff[2:3,4],digits=2,eps =1e-100)))\n",
    "\n",
    "ndox_visc_beta = as.matrix(as.numeric(ndox_visc_coeff[2:3,1]))\n",
    "ndox_visc_std_err = as.matrix(as.numeric(ndox_visc_coeff[2:3,2]))\n",
    "ndox_visc_pval = as.matrix(as.numeric(format.pval(ndox_visc_coeff[2:3,4],digits=2,eps =1e-100)))\n"
   ]
  },
  {
   "cell_type": "code",
   "execution_count": 39,
   "metadata": {
    "collapsed": true
   },
   "outputs": [],
   "source": [
    "combined_visc = as.data.frame(rbind(gtex_visc_beta,mobb_visc_beta,ndox_visc_beta))\n",
    "colnames(combined_visc) =\"beta\"\n",
    "combined_visc$covar = c('age','bmi','age','bmi','age','bmi')\n",
    "combined_visc$std.error = rbind(gtex_visc_std_err, mobb_visc_std_err, ndox_visc_std_err)\n",
    "combined_visc$P.value = rbind(gtex_visc_pval, mobb_visc_pval, ndox_visc_pval)\n",
    "combined_visc$study = c('GTEx','GTEx','MOBB','MOBB','NDOX','NDOX')\n",
    "combined_visc_bmi = subset(combined_visc, covar =='bmi')\n",
    "combined_visc_bmi$N = list(dim(gtex_visc)[1],dim(mobb_visc)[1],dim(ndox_visc)[1])"
   ]
  },
  {
   "cell_type": "code",
   "execution_count": 40,
   "metadata": {
    "collapsed": true
   },
   "outputs": [],
   "source": [
    "m.hksj<-metagen(beta,\n",
    "        std.error,\n",
    "        data=combined_visc_bmi,\n",
    "        studlab=paste(study),\n",
    "        comb.fixed = TRUE,\n",
    "        hakn = FALSE,\n",
    "        prediction=TRUE,\n",
    "        sm=\"SMD\")"
   ]
  },
  {
   "cell_type": "code",
   "execution_count": 41,
   "metadata": {},
   "outputs": [
    {
     "data": {
      "text/html": [
       "2.46519259534621e-55"
      ],
      "text/latex": [
       "2.46519259534621e-55"
      ],
      "text/markdown": [
       "2.46519259534621e-55"
      ],
      "text/plain": [
       "[1] 2.465193e-55"
      ]
     },
     "metadata": {},
     "output_type": "display_data"
    }
   ],
   "source": [
    "m.hksj$pval.random"
   ]
  },
  {
   "cell_type": "code",
   "execution_count": 42,
   "metadata": {},
   "outputs": [
    {
     "data": {
      "text/plain": [
       "        SMD           95%-CI %W(fixed) %W(random)\n",
       "GTEx 0.4811 [0.4114; 0.5508]      77.3       77.3\n",
       "MOBB 0.5199 [0.3757; 0.6640]      18.1       18.1\n",
       "NDOX 0.5195 [0.2352; 0.8038]       4.6        4.6\n",
       "\n",
       "Number of studies combined: k = 3\n",
       "\n",
       "                        SMD           95%-CI     z  p-value\n",
       "Fixed effect model   0.4899 [0.4286; 0.5511] 15.67 < 0.0001\n",
       "Random effects model 0.4899 [0.4286; 0.5511] 15.67 < 0.0001\n",
       "Prediction interval         [0.0926; 0.8871]               \n",
       "\n",
       "Quantifying heterogeneity:\n",
       "tau^2 = 0; H = 1.00 [1.00; 1.14]; I^2 = 0.0% [0.0%; 22.7%]\n",
       "\n",
       "Test of heterogeneity:\n",
       "    Q d.f. p-value\n",
       " 0.27    2  0.8741\n",
       "\n",
       "Details on meta-analytical method:\n",
       "- Inverse variance method\n",
       "- DerSimonian-Laird estimator for tau^2"
      ]
     },
     "metadata": {},
     "output_type": "display_data"
    }
   ],
   "source": [
    "m.hksj"
   ]
  },
  {
   "cell_type": "code",
   "execution_count": 43,
   "metadata": {},
   "outputs": [
    {
     "data": {
      "text/html": [
       "<strong>png:</strong> 2"
      ],
      "text/latex": [
       "\\textbf{png:} 2"
      ],
      "text/markdown": [
       "**png:** 2"
      ],
      "text/plain": [
       "png \n",
       "  2 "
      ]
     },
     "metadata": {},
     "output_type": "display_data"
    }
   ],
   "source": [
    "pdf(\"BMI_meta_analysis_visc.pdf\", width=10,height=4, bg=\"white\")\n",
    "\n",
    "forest(m.hksj, \n",
    "       sortvar=TE, \n",
    "       digits.sd = 2,\n",
    "       xlim = c(-1,1),  \n",
    "       pooled.totals = FALSE, \n",
    "       smlab = \"\",\n",
    "       rightlabs = c(\"BMI Beta\",\"95% CI\",\"Weight\"),\n",
    "       comb.random=TRUE,\n",
    "       leftcols=c(\"study\",\"TE\",\"seTE\",'P.value',\"N\"),\n",
    "       leftlabs=c('Cohort','effect','SE','P','N'),\n",
    "       col.diamond = \"blue\",\n",
    "       col.diamond.lines = \"black\",\n",
    "       col.predict = \"black\",\n",
    "       print.tau2 = FALSE,\n",
    "       prediction = FALSE)\n",
    "dev.off()"
   ]
  },
  {
   "cell_type": "markdown",
   "metadata": {},
   "source": [
    "### Visc age:"
   ]
  },
  {
   "cell_type": "code",
   "execution_count": 44,
   "metadata": {
    "collapsed": true
   },
   "outputs": [],
   "source": [
    "combined_visc_age = subset(combined_visc, covar =='age')\n",
    "combined_visc_age$N = list(dim(gtex_visc)[1],dim(mobb_visc)[1],dim(ndox_visc)[1])"
   ]
  },
  {
   "cell_type": "code",
   "execution_count": 45,
   "metadata": {
    "collapsed": true
   },
   "outputs": [],
   "source": [
    "m.hksj<-metagen(beta,\n",
    "        std.error,\n",
    "        data=combined_visc_age,\n",
    "        studlab=paste(study),\n",
    "        comb.fixed = TRUE,\n",
    "        hakn = FALSE,\n",
    "        prediction=TRUE,\n",
    "        sm=\"SMD\")"
   ]
  },
  {
   "cell_type": "code",
   "execution_count": 46,
   "metadata": {},
   "outputs": [
    {
     "data": {
      "text/html": [
       "0.011699819057307"
      ],
      "text/latex": [
       "0.011699819057307"
      ],
      "text/markdown": [
       "0.011699819057307"
      ],
      "text/plain": [
       "[1] 0.01169982"
      ]
     },
     "metadata": {},
     "output_type": "display_data"
    }
   ],
   "source": [
    "m.hksj$pval.random"
   ]
  },
  {
   "cell_type": "code",
   "execution_count": 47,
   "metadata": {},
   "outputs": [
    {
     "data": {
      "text/plain": [
       "         SMD            95%-CI %W(fixed) %W(random)\n",
       "GTEx  0.1534 [ 0.0839; 0.2229]      76.9       61.5\n",
       "MOBB  0.1128 [-0.0285; 0.2541]      18.6       29.3\n",
       "NDOX -0.0989 [-0.3871; 0.1894]       4.5        9.2\n",
       "\n",
       "Number of studies combined: k = 3\n",
       "\n",
       "                        SMD            95%-CI    z  p-value\n",
       "Fixed effect model   0.1346 [ 0.0736; 0.1955] 4.32 < 0.0001\n",
       "Random effects model 0.1183 [ 0.0263; 0.2103] 2.52   0.0117\n",
       "Prediction interval         [-0.7363; 0.9730]              \n",
       "\n",
       "Quantifying heterogeneity:\n",
       "tau^2 = 0.0023; H = 1.20 [1.00; 3.73]; I^2 = 30.8% [0.0%; 92.8%]\n",
       "\n",
       "Test of heterogeneity:\n",
       "    Q d.f. p-value\n",
       " 2.89    2  0.2355\n",
       "\n",
       "Details on meta-analytical method:\n",
       "- Inverse variance method\n",
       "- DerSimonian-Laird estimator for tau^2"
      ]
     },
     "metadata": {},
     "output_type": "display_data"
    }
   ],
   "source": [
    "m.hksj"
   ]
  },
  {
   "cell_type": "code",
   "execution_count": 48,
   "metadata": {},
   "outputs": [
    {
     "data": {
      "text/html": [
       "<strong>png:</strong> 2"
      ],
      "text/latex": [
       "\\textbf{png:} 2"
      ],
      "text/markdown": [
       "**png:** 2"
      ],
      "text/plain": [
       "png \n",
       "  2 "
      ]
     },
     "metadata": {},
     "output_type": "display_data"
    }
   ],
   "source": [
    "pdf(\"AGE_meta_analysis_visc.pdf\", width=10,height=4, bg=\"white\")\n",
    "\n",
    "forest(m.hksj, \n",
    "       sortvar=TE, \n",
    "       digits.sd = 2,\n",
    "       xlim = c(-1,1),  \n",
    "       pooled.totals = FALSE, \n",
    "       smlab = \"\",\n",
    "       rightlabs = c(\"Age Beta\",\"95% CI\",\"Weight\"),\n",
    "       comb.random=TRUE,\n",
    "       leftcols=c(\"study\",\"TE\",\"seTE\",'P.value',\"N\"),\n",
    "       leftlabs=c('Cohort','effect','SE','P','N'),\n",
    "       col.diamond = \"blue\",\n",
    "       col.diamond.lines = \"black\",\n",
    "       col.predict = \"black\",\n",
    "       prediction = FALSE,\n",
    "       print.tau2 = FALSE)\n",
    "dev.off()"
   ]
  },
  {
   "cell_type": "markdown",
   "metadata": {},
   "source": [
    "## Meta Analysis for adipocyte area difference sex (M/F)"
   ]
  },
  {
   "cell_type": "markdown",
   "metadata": {},
   "source": [
    "### Sex in Subq:"
   ]
  },
  {
   "cell_type": "code",
   "execution_count": 49,
   "metadata": {},
   "outputs": [],
   "source": [
    "gtex_subq_beta = as.matrix(as.numeric(gtex_subq_coeff[2:4,1]))\n",
    "gtex_subq_std_err = as.matrix(as.numeric(gtex_subq_coeff[2:4,2]))\n",
    "gtex_subq_pval = as.matrix(as.numeric(format.pval(gtex_subq_coeff[2:4,4],digits=2,eps =1e-100)))\n",
    "                              \n",
    "mobb_subq_beta = as.matrix(as.numeric(mobb_subq_coeff[2:4,1]))\n",
    "mobb_subq_std_err = as.matrix(as.numeric(mobb_subq_coeff[2:4,2]))\n",
    "mobb_subq_pval = as.matrix(as.numeric(format.pval(mobb_subq_coeff[2:4,4],digits=2,eps =1e-100)))\n",
    "\n",
    "diva_subq_beta = as.matrix(as.numeric(diva_subq_coeff[2:4,1]))\n",
    "diva_subq_std_err = as.matrix(as.numeric(diva_subq_coeff[2:4,2]))\n",
    "diva_subq_pval = as.matrix(as.numeric(format.pval(diva_subq_coeff[2:4,4],digits=2,eps =1e-100)))\n"
   ]
  },
  {
   "cell_type": "code",
   "execution_count": null,
   "metadata": {},
   "outputs": [],
   "source": []
  },
  {
   "cell_type": "code",
   "execution_count": 50,
   "metadata": {
    "collapsed": true
   },
   "outputs": [],
   "source": [
    "combined_subq = as.data.frame(rbind(gtex_subq_beta,mobb_subq_beta,diva_subq_beta))\n",
    "colnames(combined_subq) =\"beta\"\n",
    "combined_subq$covar = c('age','bmi','sex','age','bmi','sex','age','bmi','sex')\n",
    "combined_subq$std.error = rbind(gtex_subq_std_err, mobb_subq_std_err, diva_subq_std_err)\n",
    "combined_subq$P.value = rbind(gtex_subq_pval, mobb_subq_pval, diva_subq_pval)\n",
    "combined_subq$study = c('GTEx','GTEx','GTEx','MOBB','MOBB','MOBB','fatDIVA','fatDIVA','fatDIVA')\n",
    "combined_subq_sex = subset(combined_subq, covar =='sex')\n",
    "combined_subq_sex$N = list(dim(gtex_subq)[1],dim(mobb_subq)[1],dim(diva_subq)[1])"
   ]
  },
  {
   "cell_type": "code",
   "execution_count": 51,
   "metadata": {
    "collapsed": true
   },
   "outputs": [],
   "source": [
    "m.hksj<-metagen(beta,\n",
    "        std.error,\n",
    "        data=combined_subq_sex,\n",
    "        studlab=paste(study),\n",
    "        comb.fixed = TRUE,\n",
    "        comb.random = TRUE,\n",
    "        hakn = FALSE,\n",
    "        prediction=TRUE,\n",
    "        sm=\"SMD\")"
   ]
  },
  {
   "cell_type": "code",
   "execution_count": 52,
   "metadata": {},
   "outputs": [
    {
     "data": {
      "text/html": [
       "0.0810731848209165"
      ],
      "text/latex": [
       "0.0810731848209165"
      ],
      "text/markdown": [
       "0.0810731848209165"
      ],
      "text/plain": [
       "[1] 0.08107318"
      ]
     },
     "metadata": {},
     "output_type": "display_data"
    }
   ],
   "source": [
    "m.hksj$pval.random"
   ]
  },
  {
   "cell_type": "code",
   "execution_count": 53,
   "metadata": {},
   "outputs": [
    {
     "data": {
      "text/plain": [
       "           SMD            95%-CI %W(fixed) %W(random)\n",
       "GTEx    0.3249 [ 0.1898; 0.4601]      73.2       48.9\n",
       "MOBB    0.0196 [-0.2911; 0.3304]      13.9       26.1\n",
       "fatDIVA 0.0875 [-0.2341; 0.4091]      12.9       25.0\n",
       "\n",
       "Number of studies combined: k = 3\n",
       "\n",
       "                        SMD            95%-CI    z  p-value\n",
       "Fixed effect model   0.2519 [ 0.1363; 0.3676] 4.27 < 0.0001\n",
       "Random effects model 0.1860 [-0.0230; 0.3949] 1.74   0.0811\n",
       "Prediction interval         [-2.0088; 2.3807]              \n",
       "\n",
       "Quantifying heterogeneity:\n",
       "tau^2 = 0.0185; H = 1.46 [1.00; 2.73]; I^2 = 53.2% [0.0%; 86.6%]\n",
       "\n",
       "Test of heterogeneity:\n",
       "    Q d.f. p-value\n",
       " 4.27    2  0.1182\n",
       "\n",
       "Details on meta-analytical method:\n",
       "- Inverse variance method\n",
       "- DerSimonian-Laird estimator for tau^2"
      ]
     },
     "metadata": {},
     "output_type": "display_data"
    }
   ],
   "source": [
    "m.hksj"
   ]
  },
  {
   "cell_type": "code",
   "execution_count": 54,
   "metadata": {},
   "outputs": [
    {
     "data": {
      "text/html": [
       "<strong>png:</strong> 2"
      ],
      "text/latex": [
       "\\textbf{png:} 2"
      ],
      "text/markdown": [
       "**png:** 2"
      ],
      "text/plain": [
       "png \n",
       "  2 "
      ]
     },
     "metadata": {},
     "output_type": "display_data"
    }
   ],
   "source": [
    "pdf(\"SEX_meta_analysis_subq.pdf\", width=10,height=4, bg=\"white\")\n",
    "\n",
    "forest(m.hksj, \n",
    "       sortvar=TE, \n",
    "       digits.sd = 2,\n",
    "       xlim = c(-1,1),  \n",
    "       pooled.totals = FALSE, \n",
    "       smlab = \"\",\n",
    "       rightlabs = c(\"Sex Beta\",\"95% CI\",\"Weight\"),\n",
    "       comb.random=TRUE,\n",
    "       leftcols=c(\"study\",\"TE\",\"seTE\",'P.value',\"N\"),\n",
    "       leftlabs=c('Cohort','effect','SE','P','N'),\n",
    "       col.diamond = \"blue\",\n",
    "       col.diamond.lines = \"black\",\n",
    "       col.predict = \"black\",\n",
    "       print.tau2 = FALSE,\n",
    "       prediction = FALSE)\n",
    "dev.off()"
   ]
  },
  {
   "cell_type": "markdown",
   "metadata": {},
   "source": [
    "## Sex in Visc:"
   ]
  },
  {
   "cell_type": "code",
   "execution_count": 55,
   "metadata": {
    "collapsed": true
   },
   "outputs": [],
   "source": [
    "gtex_visc_beta = as.matrix(as.numeric(gtex_visc_coeff[2:4,1]))\n",
    "gtex_visc_std_err = as.matrix(as.numeric(gtex_visc_coeff[2:4,2]))\n",
    "gtex_visc_pval = as.matrix(as.numeric(format.pval(gtex_visc_coeff[2:4,4],digits=2,eps =1e-100)))\n",
    "                              \n",
    "mobb_visc_beta = as.matrix(as.numeric(mobb_visc_coeff[2:4,1]))\n",
    "mobb_visc_std_err = as.matrix(as.numeric(mobb_visc_coeff[2:4,2]))\n",
    "mobb_visc_pval = as.matrix(as.numeric(format.pval(mobb_visc_coeff[2:4,4],digits=2,eps =1e-100)))\n",
    "\n",
    "# diva_visc_beta = as.matrix(as.numeric(diva_visc_coeff[2:4,1]))\n",
    "# diva_visc_std_err = as.matrix(as.numeric(diva_visc_coeff[2:4,2]))\n",
    "# diva_visc_pval = as.matrix(as.numeric(format.pval(diva_visc_coeff[2:4,4],digits=2,eps =1e-100)))\n"
   ]
  },
  {
   "cell_type": "code",
   "execution_count": 56,
   "metadata": {
    "collapsed": true
   },
   "outputs": [],
   "source": [
    "combined_visc = as.data.frame(rbind(gtex_visc_beta,mobb_visc_beta))\n",
    "colnames(combined_visc) =\"beta\"\n",
    "combined_visc$covar = c('age','bmi','sex','age','bmi','sex')\n",
    "combined_visc$std.error = rbind(gtex_visc_std_err, mobb_visc_std_err)\n",
    "combined_visc$P.value = rbind(gtex_visc_pval, mobb_visc_pval)\n",
    "combined_visc$study = c('GTEx','GTEx','GTEx','MOBB','MOBB','MOBB')\n",
    "combined_visc_sex = subset(combined_visc, covar =='sex')\n",
    "combined_visc_sex$N = list(dim(gtex_visc)[1],dim(mobb_visc)[1])"
   ]
  },
  {
   "cell_type": "code",
   "execution_count": 57,
   "metadata": {
    "collapsed": true
   },
   "outputs": [],
   "source": [
    "m.hksj<-metagen(beta,\n",
    "        std.error,\n",
    "        data=combined_visc_sex,\n",
    "        studlab=paste(study),\n",
    "        comb.fixed = TRUE,\n",
    "        comb.random = TRUE,\n",
    "        method.tau = \"SJ\",\n",
    "        hakn = FALSE,\n",
    "        prediction=TRUE,\n",
    "        sm=\"SMD\")"
   ]
  },
  {
   "cell_type": "code",
   "execution_count": 58,
   "metadata": {},
   "outputs": [
    {
     "data": {
      "text/html": [
       "3.05232767515531e-07"
      ],
      "text/latex": [
       "3.05232767515531e-07"
      ],
      "text/markdown": [
       "3.05232767515531e-07"
      ],
      "text/plain": [
       "[1] 3.052328e-07"
      ]
     },
     "metadata": {},
     "output_type": "display_data"
    }
   ],
   "source": [
    "m.hksj$pval.random"
   ]
  },
  {
   "cell_type": "code",
   "execution_count": 59,
   "metadata": {},
   "outputs": [
    {
     "data": {
      "text/plain": [
       "         SMD             95%-CI %W(fixed) %W(random)\n",
       "GTEx -0.3353 [-0.4823; -0.1883]      79.8       79.8\n",
       "MOBB -0.3768 [-0.6691; -0.0845]      20.2       20.2\n",
       "\n",
       "Number of studies combined: k = 2\n",
       "\n",
       "                         SMD             95%-CI     z  p-value\n",
       "Fixed effect model   -0.3437 [-0.4750; -0.2124] -5.13 < 0.0001\n",
       "Random effects model -0.3437 [-0.4753; -0.2121] -5.12 < 0.0001\n",
       "\n",
       "Quantifying heterogeneity:\n",
       "tau^2 < 0.0001; H = 1.00; I^2 = 0.0%\n",
       "\n",
       "Test of heterogeneity:\n",
       "    Q d.f. p-value\n",
       " 0.06    1  0.8037\n",
       "\n",
       "Details on meta-analytical method:\n",
       "- Inverse variance method\n",
       "- Sidik-Jonkman estimator for tau^2"
      ]
     },
     "metadata": {},
     "output_type": "display_data"
    }
   ],
   "source": [
    "m.hksj"
   ]
  },
  {
   "cell_type": "code",
   "execution_count": 60,
   "metadata": {},
   "outputs": [
    {
     "data": {
      "text/html": [
       "<strong>png:</strong> 2"
      ],
      "text/latex": [
       "\\textbf{png:} 2"
      ],
      "text/markdown": [
       "**png:** 2"
      ],
      "text/plain": [
       "png \n",
       "  2 "
      ]
     },
     "metadata": {},
     "output_type": "display_data"
    }
   ],
   "source": [
    "pdf(\"SEX_meta_analysis_visc.pdf\", width=10,height=4, bg=\"white\")\n",
    "\n",
    "forest(m.hksj, \n",
    "       sortvar=TE, \n",
    "       digits.sd = 2,\n",
    "       xlim = c(-1,1),\n",
    "       random=FALSE,\n",
    "       pooled.totals = FALSE, \n",
    "       smlab = \"\",\n",
    "       rightlabs = c(\"Sex Beta\",\"95% CI\",\"Weight\"),\n",
    "       comb.random=TRUE,\n",
    "       leftcols=c(\"study\",\"TE\",\"seTE\",'P.value',\"N\"),\n",
    "       leftlabs=c('Cohort','effect','SE','P','N'),\n",
    "       col.diamond = \"blue\",\n",
    "       col.diamond.lines = \"black\",\n",
    "       col.predict = \"black\",\n",
    "       print.tau2 = FALSE,\n",
    "       prediction = FALSE)\n",
    "dev.off()"
   ]
  },
  {
   "cell_type": "markdown",
   "metadata": {},
   "source": [
    "## Visceral vs subcutaneous depot adipocyte area size differences? (Meta analysis):"
   ]
  },
  {
   "cell_type": "markdown",
   "metadata": {},
   "source": [
    "### Cohorts with both subcutaneous and visceral samples:\n",
    "- GTEx\n",
    "- MOBB\n",
    "- NDOX"
   ]
  },
  {
   "cell_type": "code",
   "execution_count": 61,
   "metadata": {
    "collapsed": true
   },
   "outputs": [],
   "source": [
    "gtex = read.csv('final_cohort_measurements/GTEx_BothDepots_areas.csv')\n",
    "mobb = read.csv('final_cohort_measurements/Julius_BothDepots_areas.csv')\n",
    "ndox_subq = read.csv('final_cohort_measurements/NDOG_Subq_areas.csv')\n",
    "ndox_visc = read.csv('final_cohort_measurements/NDOG_Visceral_areas.csv')"
   ]
  },
  {
   "cell_type": "code",
   "execution_count": 62,
   "metadata": {
    "collapsed": true
   },
   "outputs": [],
   "source": [
    "ndox_subq$depot = \"subcutaneous\"\n",
    "ndox_visc$depot = \"visceral\""
   ]
  },
  {
   "cell_type": "code",
   "execution_count": 63,
   "metadata": {
    "collapsed": true
   },
   "outputs": [],
   "source": [
    "ndox_subq['Unnamed..0'] = NULL\n",
    "ndox_visc['Unnamed..0'] = NULL"
   ]
  },
  {
   "cell_type": "code",
   "execution_count": 64,
   "metadata": {
    "collapsed": true
   },
   "outputs": [],
   "source": [
    "ndox = rbind(ndox_subq, ndox_visc)"
   ]
  },
  {
   "cell_type": "code",
   "execution_count": 65,
   "metadata": {
    "collapsed": true
   },
   "outputs": [],
   "source": [
    "mobb_coeff = summary(lm(\"scale(mu_area) ~ 1 + as.factor(depot) + scale(BMI) + scale(Age) + as.factor(sex)\",data=mobb))$coeff"
   ]
  },
  {
   "cell_type": "code",
   "execution_count": 66,
   "metadata": {},
   "outputs": [
    {
     "data": {
      "text/html": [
       "<table>\n",
       "<thead><tr><th></th><th scope=col>Estimate</th><th scope=col>Std. Error</th><th scope=col>t value</th><th scope=col>Pr(&gt;|t|)</th></tr></thead>\n",
       "<tbody>\n",
       "\t<tr><th scope=row>(Intercept)</th><td> 0.35840583 </td><td>0.07489846  </td><td> 4.785223   </td><td>2.619358e-06</td></tr>\n",
       "\t<tr><th scope=row>as.factor(depot)visceral</th><td>-0.77066598 </td><td>0.09166422  </td><td>-8.407489   </td><td>1.426661e-15</td></tr>\n",
       "\t<tr><th scope=row>scale(BMI)</th><td> 0.45700434 </td><td>0.04970401  </td><td> 9.194517   </td><td>5.078288e-18</td></tr>\n",
       "\t<tr><th scope=row>scale(Age)</th><td> 0.05476094 </td><td>0.04910242  </td><td> 1.115239   </td><td>2.655901e-01</td></tr>\n",
       "\t<tr><th scope=row>as.factor(sex)XY</th><td> 0.16729833 </td><td>0.10057038  </td><td> 1.663495   </td><td>9.719850e-02</td></tr>\n",
       "</tbody>\n",
       "</table>\n"
      ],
      "text/latex": [
       "\\begin{tabular}{r|llll}\n",
       "  & Estimate & Std. Error & t value & Pr(>\\textbar{}t\\textbar{})\\\\\n",
       "\\hline\n",
       "\t(Intercept) &  0.35840583  & 0.07489846   &  4.785223    & 2.619358e-06\\\\\n",
       "\tas.factor(depot)visceral & -0.77066598  & 0.09166422   & -8.407489    & 1.426661e-15\\\\\n",
       "\tscale(BMI) &  0.45700434  & 0.04970401   &  9.194517    & 5.078288e-18\\\\\n",
       "\tscale(Age) &  0.05476094  & 0.04910242   &  1.115239    & 2.655901e-01\\\\\n",
       "\tas.factor(sex)XY &  0.16729833  & 0.10057038   &  1.663495    & 9.719850e-02\\\\\n",
       "\\end{tabular}\n"
      ],
      "text/markdown": [
       "\n",
       "| <!--/--> | Estimate | Std. Error | t value | Pr(>|t|) | \n",
       "|---|---|---|---|---|\n",
       "| (Intercept) |  0.35840583  | 0.07489846   |  4.785223    | 2.619358e-06 | \n",
       "| as.factor(depot)visceral | -0.77066598  | 0.09166422   | -8.407489    | 1.426661e-15 | \n",
       "| scale(BMI) |  0.45700434  | 0.04970401   |  9.194517    | 5.078288e-18 | \n",
       "| scale(Age) |  0.05476094  | 0.04910242   |  1.115239    | 2.655901e-01 | \n",
       "| as.factor(sex)XY |  0.16729833  | 0.10057038   |  1.663495    | 9.719850e-02 | \n",
       "\n",
       "\n"
      ],
      "text/plain": [
       "                         Estimate    Std. Error t value   Pr(>|t|)    \n",
       "(Intercept)               0.35840583 0.07489846  4.785223 2.619358e-06\n",
       "as.factor(depot)visceral -0.77066598 0.09166422 -8.407489 1.426661e-15\n",
       "scale(BMI)                0.45700434 0.04970401  9.194517 5.078288e-18\n",
       "scale(Age)                0.05476094 0.04910242  1.115239 2.655901e-01\n",
       "as.factor(sex)XY          0.16729833 0.10057038  1.663495 9.719850e-02"
      ]
     },
     "metadata": {},
     "output_type": "display_data"
    }
   ],
   "source": [
    "mobb_coeff"
   ]
  },
  {
   "cell_type": "code",
   "execution_count": 67,
   "metadata": {
    "collapsed": true
   },
   "outputs": [],
   "source": [
    "gtex_coeff = summary(lm(\"scale(mu_area) ~ 1 + as.factor(depot) + scale(BMI) + scale(AGE) + as.factor(sex)\",data=gtex))$coeff"
   ]
  },
  {
   "cell_type": "code",
   "execution_count": 68,
   "metadata": {},
   "outputs": [
    {
     "data": {
      "text/html": [
       "<table>\n",
       "<thead><tr><th></th><th scope=col>Estimate</th><th scope=col>Std. Error</th><th scope=col>t value</th><th scope=col>Pr(&gt;|t|)</th></tr></thead>\n",
       "<tbody>\n",
       "\t<tr><th scope=row>(Intercept)</th><td> 0.244474705</td><td>0.04558894  </td><td>  5.3625878 </td><td>9.731360e-08</td></tr>\n",
       "\t<tr><th scope=row>as.factor(depot)visceral</th><td>-0.546325958</td><td>0.04760434  </td><td>-11.4763887 </td><td>4.395246e-29</td></tr>\n",
       "\t<tr><th scope=row>scale(BMI)</th><td> 0.432592763</td><td>0.02373433  </td><td> 18.2264595 </td><td>3.825118e-66</td></tr>\n",
       "\t<tr><th scope=row>scale(AGE)</th><td> 0.159420659</td><td>0.02370701  </td><td>  6.7246202 </td><td>2.650076e-11</td></tr>\n",
       "\t<tr><th scope=row>as.factor(sex)XY</th><td>-0.006334251</td><td>0.04992570  </td><td> -0.1268736 </td><td>8.990605e-01</td></tr>\n",
       "</tbody>\n",
       "</table>\n"
      ],
      "text/latex": [
       "\\begin{tabular}{r|llll}\n",
       "  & Estimate & Std. Error & t value & Pr(>\\textbar{}t\\textbar{})\\\\\n",
       "\\hline\n",
       "\t(Intercept) &  0.244474705 & 0.04558894   &   5.3625878  & 9.731360e-08\\\\\n",
       "\tas.factor(depot)visceral & -0.546325958 & 0.04760434   & -11.4763887  & 4.395246e-29\\\\\n",
       "\tscale(BMI) &  0.432592763 & 0.02373433   &  18.2264595  & 3.825118e-66\\\\\n",
       "\tscale(AGE) &  0.159420659 & 0.02370701   &   6.7246202  & 2.650076e-11\\\\\n",
       "\tas.factor(sex)XY & -0.006334251 & 0.04992570   &  -0.1268736  & 8.990605e-01\\\\\n",
       "\\end{tabular}\n"
      ],
      "text/markdown": [
       "\n",
       "| <!--/--> | Estimate | Std. Error | t value | Pr(>|t|) | \n",
       "|---|---|---|---|---|\n",
       "| (Intercept) |  0.244474705 | 0.04558894   |   5.3625878  | 9.731360e-08 | \n",
       "| as.factor(depot)visceral | -0.546325958 | 0.04760434   | -11.4763887  | 4.395246e-29 | \n",
       "| scale(BMI) |  0.432592763 | 0.02373433   |  18.2264595  | 3.825118e-66 | \n",
       "| scale(AGE) |  0.159420659 | 0.02370701   |   6.7246202  | 2.650076e-11 | \n",
       "| as.factor(sex)XY | -0.006334251 | 0.04992570   |  -0.1268736  | 8.990605e-01 | \n",
       "\n",
       "\n"
      ],
      "text/plain": [
       "                         Estimate     Std. Error t value     Pr(>|t|)    \n",
       "(Intercept)               0.244474705 0.04558894   5.3625878 9.731360e-08\n",
       "as.factor(depot)visceral -0.546325958 0.04760434 -11.4763887 4.395246e-29\n",
       "scale(BMI)                0.432592763 0.02373433  18.2264595 3.825118e-66\n",
       "scale(AGE)                0.159420659 0.02370701   6.7246202 2.650076e-11\n",
       "as.factor(sex)XY         -0.006334251 0.04992570  -0.1268736 8.990605e-01"
      ]
     },
     "metadata": {},
     "output_type": "display_data"
    }
   ],
   "source": [
    "gtex_coeff"
   ]
  },
  {
   "cell_type": "code",
   "execution_count": 69,
   "metadata": {
    "collapsed": true
   },
   "outputs": [],
   "source": [
    "ndox_coeff = summary(lm(\"scale(mu_area) ~ 1 + as.factor(depot) + scale(BMI) + scale(Age)\",data=ndox))$coeff"
   ]
  },
  {
   "cell_type": "code",
   "execution_count": 70,
   "metadata": {},
   "outputs": [
    {
     "data": {
      "text/html": [
       "<table>\n",
       "<thead><tr><th></th><th scope=col>Estimate</th><th scope=col>Std. Error</th><th scope=col>t value</th><th scope=col>Pr(&gt;|t|)</th></tr></thead>\n",
       "<tbody>\n",
       "\t<tr><th scope=row>(Intercept)</th><td> 0.030286605</td><td>0.05678385  </td><td> 0.5333665  </td><td>5.942373e-01</td></tr>\n",
       "\t<tr><th scope=row>as.factor(depot)visceral</th><td>-0.246545900</td><td>0.16219670  </td><td>-1.5200426  </td><td>1.297201e-01</td></tr>\n",
       "\t<tr><th scope=row>scale(BMI)</th><td> 0.507128557</td><td>0.05438763  </td><td> 9.3243372  </td><td>5.141848e-18</td></tr>\n",
       "\t<tr><th scope=row>scale(Age)</th><td>-0.006747901</td><td>0.05441489  </td><td>-0.1240084  </td><td>9.014048e-01</td></tr>\n",
       "</tbody>\n",
       "</table>\n"
      ],
      "text/latex": [
       "\\begin{tabular}{r|llll}\n",
       "  & Estimate & Std. Error & t value & Pr(>\\textbar{}t\\textbar{})\\\\\n",
       "\\hline\n",
       "\t(Intercept) &  0.030286605 & 0.05678385   &  0.5333665   & 5.942373e-01\\\\\n",
       "\tas.factor(depot)visceral & -0.246545900 & 0.16219670   & -1.5200426   & 1.297201e-01\\\\\n",
       "\tscale(BMI) &  0.507128557 & 0.05438763   &  9.3243372   & 5.141848e-18\\\\\n",
       "\tscale(Age) & -0.006747901 & 0.05441489   & -0.1240084   & 9.014048e-01\\\\\n",
       "\\end{tabular}\n"
      ],
      "text/markdown": [
       "\n",
       "| <!--/--> | Estimate | Std. Error | t value | Pr(>|t|) | \n",
       "|---|---|---|---|\n",
       "| (Intercept) |  0.030286605 | 0.05678385   |  0.5333665   | 5.942373e-01 | \n",
       "| as.factor(depot)visceral | -0.246545900 | 0.16219670   | -1.5200426   | 1.297201e-01 | \n",
       "| scale(BMI) |  0.507128557 | 0.05438763   |  9.3243372   | 5.141848e-18 | \n",
       "| scale(Age) | -0.006747901 | 0.05441489   | -0.1240084   | 9.014048e-01 | \n",
       "\n",
       "\n"
      ],
      "text/plain": [
       "                         Estimate     Std. Error t value    Pr(>|t|)    \n",
       "(Intercept)               0.030286605 0.05678385  0.5333665 5.942373e-01\n",
       "as.factor(depot)visceral -0.246545900 0.16219670 -1.5200426 1.297201e-01\n",
       "scale(BMI)                0.507128557 0.05438763  9.3243372 5.141848e-18\n",
       "scale(Age)               -0.006747901 0.05441489 -0.1240084 9.014048e-01"
      ]
     },
     "metadata": {},
     "output_type": "display_data"
    }
   ],
   "source": [
    "ndox_coeff"
   ]
  },
  {
   "cell_type": "code",
   "execution_count": 71,
   "metadata": {
    "collapsed": true
   },
   "outputs": [],
   "source": [
    "gtex_beta = as.matrix(as.numeric(gtex_coeff[2:4,1]))\n",
    "gtex_std_err = as.matrix(as.numeric(gtex_coeff[2:4,2]))\n",
    "gtex_pval = as.matrix(as.numeric(format.pval(gtex_coeff[2:4,4],digits=2,eps =1e-100)))\n",
    "                              \n",
    "mobb_beta = as.matrix(as.numeric(mobb_coeff[2:4,1]))\n",
    "mobb_std_err = as.matrix(as.numeric(mobb_coeff[2:4,2]))\n",
    "mobb_pval = as.matrix(as.numeric(format.pval(mobb_coeff[2:4,4],digits=2,eps =1e-100)))\n",
    "\n",
    "ndox_beta = as.matrix(as.numeric(ndox_coeff[2:4,1]))\n",
    "ndox_std_err = as.matrix(as.numeric(ndox_coeff[2:4,2]))\n",
    "ndox_pval = as.matrix(as.numeric(format.pval(ndox_coeff[2:4,4],digits=2,eps =1e-100)))\n"
   ]
  },
  {
   "cell_type": "code",
   "execution_count": 72,
   "metadata": {},
   "outputs": [
    {
     "data": {
      "text/html": [
       "<table>\n",
       "<thead><tr><th></th><th scope=col>Estimate</th><th scope=col>Std. Error</th><th scope=col>t value</th><th scope=col>Pr(&gt;|t|)</th></tr></thead>\n",
       "<tbody>\n",
       "\t<tr><th scope=row>(Intercept)</th><td> 0.030286605</td><td>0.05678385  </td><td> 0.5333665  </td><td>5.942373e-01</td></tr>\n",
       "\t<tr><th scope=row>as.factor(depot)visceral</th><td>-0.246545900</td><td>0.16219670  </td><td>-1.5200426  </td><td>1.297201e-01</td></tr>\n",
       "\t<tr><th scope=row>scale(BMI)</th><td> 0.507128557</td><td>0.05438763  </td><td> 9.3243372  </td><td>5.141848e-18</td></tr>\n",
       "\t<tr><th scope=row>scale(Age)</th><td>-0.006747901</td><td>0.05441489  </td><td>-0.1240084  </td><td>9.014048e-01</td></tr>\n",
       "</tbody>\n",
       "</table>\n"
      ],
      "text/latex": [
       "\\begin{tabular}{r|llll}\n",
       "  & Estimate & Std. Error & t value & Pr(>\\textbar{}t\\textbar{})\\\\\n",
       "\\hline\n",
       "\t(Intercept) &  0.030286605 & 0.05678385   &  0.5333665   & 5.942373e-01\\\\\n",
       "\tas.factor(depot)visceral & -0.246545900 & 0.16219670   & -1.5200426   & 1.297201e-01\\\\\n",
       "\tscale(BMI) &  0.507128557 & 0.05438763   &  9.3243372   & 5.141848e-18\\\\\n",
       "\tscale(Age) & -0.006747901 & 0.05441489   & -0.1240084   & 9.014048e-01\\\\\n",
       "\\end{tabular}\n"
      ],
      "text/markdown": [
       "\n",
       "| <!--/--> | Estimate | Std. Error | t value | Pr(>|t|) | \n",
       "|---|---|---|---|\n",
       "| (Intercept) |  0.030286605 | 0.05678385   |  0.5333665   | 5.942373e-01 | \n",
       "| as.factor(depot)visceral | -0.246545900 | 0.16219670   | -1.5200426   | 1.297201e-01 | \n",
       "| scale(BMI) |  0.507128557 | 0.05438763   |  9.3243372   | 5.141848e-18 | \n",
       "| scale(Age) | -0.006747901 | 0.05441489   | -0.1240084   | 9.014048e-01 | \n",
       "\n",
       "\n"
      ],
      "text/plain": [
       "                         Estimate     Std. Error t value    Pr(>|t|)    \n",
       "(Intercept)               0.030286605 0.05678385  0.5333665 5.942373e-01\n",
       "as.factor(depot)visceral -0.246545900 0.16219670 -1.5200426 1.297201e-01\n",
       "scale(BMI)                0.507128557 0.05438763  9.3243372 5.141848e-18\n",
       "scale(Age)               -0.006747901 0.05441489 -0.1240084 9.014048e-01"
      ]
     },
     "metadata": {},
     "output_type": "display_data"
    }
   ],
   "source": [
    "ndox_coeff"
   ]
  },
  {
   "cell_type": "code",
   "execution_count": 73,
   "metadata": {
    "collapsed": true
   },
   "outputs": [],
   "source": [
    "combined = as.data.frame(rbind(gtex_beta, mobb_beta, ndox_beta))\n",
    "colnames(combined) =\"beta\"\n",
    "combined$covar = c('depot','bmi','age','depot','bmi','age','depot','bmi','age')\n",
    "combined$std.error = rbind(gtex_std_err, mobb_std_err, ndox_std_err)\n",
    "combined$P.value = rbind(gtex_pval, mobb_pval, ndox_pval)\n",
    "combined$study = c('GTEx','GTEx','GTEx','MOBB','MOBB','MOBB','NDOX','NDOX','NDOX')\n",
    "combined_depot = subset(combined, covar =='depot')\n",
    "combined_depot$N = list(dim(gtex)[1],dim(mobb)[1], dim(ndox)[1])"
   ]
  },
  {
   "cell_type": "code",
   "execution_count": 74,
   "metadata": {
    "collapsed": true
   },
   "outputs": [],
   "source": [
    "m.hksj<-metagen(beta,\n",
    "        std.error,\n",
    "        data=combined_depot,\n",
    "        studlab=paste(study),\n",
    "        comb.fixed = TRUE,\n",
    "        hakn = FALSE,\n",
    "        prediction=TRUE,\n",
    "        sm=\"SMD\")"
   ]
  },
  {
   "cell_type": "code",
   "execution_count": 75,
   "metadata": {},
   "outputs": [
    {
     "data": {
      "text/plain": [
       "         SMD             95%-CI %W(fixed) %W(random)\n",
       "GTEx -0.5463 [-0.6396; -0.4530]      73.8       41.8\n",
       "MOBB -0.7707 [-0.9503; -0.5910]      19.9       34.8\n",
       "NDOX -0.2465 [-0.5644;  0.0714]       6.4       23.4\n",
       "\n",
       "Number of studies combined: k = 3\n",
       "\n",
       "                         SMD             95%-CI      z  p-value\n",
       "Fixed effect model   -0.5719 [-0.6520; -0.4918] -13.99 < 0.0001\n",
       "Random effects model -0.5542 [-0.7761; -0.3323]  -4.89 < 0.0001\n",
       "Prediction interval          [-3.1347;  2.0263]                \n",
       "\n",
       "Quantifying heterogeneity:\n",
       "tau^2 = 0.0284; H = 2.12 [1.18; 3.82]; I^2 = 77.8% [28.2%; 93.1%]\n",
       "\n",
       "Test of heterogeneity:\n",
       "    Q d.f. p-value\n",
       " 9.01    2  0.0110\n",
       "\n",
       "Details on meta-analytical method:\n",
       "- Inverse variance method\n",
       "- DerSimonian-Laird estimator for tau^2"
      ]
     },
     "metadata": {},
     "output_type": "display_data"
    }
   ],
   "source": [
    "m.hksj"
   ]
  },
  {
   "cell_type": "code",
   "execution_count": 76,
   "metadata": {},
   "outputs": [
    {
     "data": {
      "text/html": [
       "9.84676909749041e-07"
      ],
      "text/latex": [
       "9.84676909749041e-07"
      ],
      "text/markdown": [
       "9.84676909749041e-07"
      ],
      "text/plain": [
       "[1] 9.846769e-07"
      ]
     },
     "metadata": {},
     "output_type": "display_data"
    }
   ],
   "source": [
    "m.hksj$pval.random"
   ]
  },
  {
   "cell_type": "code",
   "execution_count": 77,
   "metadata": {},
   "outputs": [
    {
     "data": {
      "text/html": [
       "<strong>png:</strong> 2"
      ],
      "text/latex": [
       "\\textbf{png:} 2"
      ],
      "text/markdown": [
       "**png:** 2"
      ],
      "text/plain": [
       "png \n",
       "  2 "
      ]
     },
     "metadata": {},
     "output_type": "display_data"
    }
   ],
   "source": [
    "pdf(\"depot_meta_analysis.pdf\", width=10,height=4, bg=\"white\")\n",
    "\n",
    "forest(m.hksj, \n",
    "       sortvar=TE, \n",
    "       digits.sd = 2,\n",
    "       xlim = c(-1,1),\n",
    "       random=FALSE,\n",
    "       pooled.totals = FALSE, \n",
    "       smlab = \"\",\n",
    "       rightlabs = c(\"Depot Beta\",\"95% CI\",\"Weight\"),\n",
    "       comb.random=TRUE,\n",
    "       leftcols=c(\"study\",\"TE\",\"seTE\",'P.value',\"N\"),\n",
    "       leftlabs=c('Cohort','effect','SE','P','N'),\n",
    "       col.diamond = \"blue\",\n",
    "       col.diamond.lines = \"black\",\n",
    "       col.predict = \"black\",\n",
    "       print.tau2 = FALSE,\n",
    "       prediction = FALSE)\n",
    "dev.off()"
   ]
  },
  {
   "cell_type": "code",
   "execution_count": 78,
   "metadata": {
    "collapsed": true
   },
   "outputs": [],
   "source": [
    "mobb_visc$T2D[as.character(mobb_visc$T2D) == ''] = NA\n",
    "mobb_subq$T2D[as.character(mobb_subq$T2D) == ''] = NA"
   ]
  },
  {
   "cell_type": "code",
   "execution_count": 79,
   "metadata": {
    "collapsed": true
   },
   "outputs": [],
   "source": [
    "mobb_visc$T2D = as.character(mobb_visc$T2D)\n",
    "mobb_subq$T2D = as.character(mobb_subq$T2D)"
   ]
  },
  {
   "cell_type": "code",
   "execution_count": 80,
   "metadata": {
    "collapsed": true
   },
   "outputs": [],
   "source": [
    "mobb_visc$T2D[mobb_visc$T2D == 'Y'] = \"1\"\n",
    "mobb_subq$T2D[mobb_subq$T2D == 'Y'] = \"1\""
   ]
  },
  {
   "cell_type": "code",
   "execution_count": 81,
   "metadata": {
    "collapsed": true
   },
   "outputs": [],
   "source": [
    "mobb_visc$T2D[mobb_visc$T2D == 'N'] = \"0\"\n",
    "mobb_subq$T2D[mobb_subq$T2D == 'N'] = \"0\""
   ]
  },
  {
   "cell_type": "code",
   "execution_count": 82,
   "metadata": {},
   "outputs": [
    {
     "data": {
      "text/html": [
       "<ol class=list-inline>\n",
       "\t<li>'0'</li>\n",
       "\t<li>'0'</li>\n",
       "\t<li>'0'</li>\n",
       "\t<li>'1'</li>\n",
       "\t<li>'0'</li>\n",
       "\t<li>'1'</li>\n",
       "\t<li>'0'</li>\n",
       "\t<li>'1'</li>\n",
       "\t<li>'0'</li>\n",
       "\t<li>'0'</li>\n",
       "\t<li>'0'</li>\n",
       "\t<li>'0'</li>\n",
       "\t<li>'1'</li>\n",
       "\t<li>'1'</li>\n",
       "\t<li>'1'</li>\n",
       "\t<li>'0'</li>\n",
       "\t<li>'0'</li>\n",
       "\t<li>'0'</li>\n",
       "\t<li>'1'</li>\n",
       "\t<li>'1'</li>\n",
       "\t<li>'0'</li>\n",
       "\t<li>'0'</li>\n",
       "\t<li>'0'</li>\n",
       "\t<li>'1'</li>\n",
       "\t<li>'0'</li>\n",
       "\t<li>'0'</li>\n",
       "\t<li>'0'</li>\n",
       "\t<li>'0'</li>\n",
       "\t<li>'0'</li>\n",
       "\t<li>'0'</li>\n",
       "\t<li>'0'</li>\n",
       "\t<li>'0'</li>\n",
       "\t<li>'1'</li>\n",
       "\t<li>'1'</li>\n",
       "\t<li>'0'</li>\n",
       "\t<li>'0'</li>\n",
       "\t<li>'1'</li>\n",
       "\t<li>'0'</li>\n",
       "\t<li>'0'</li>\n",
       "\t<li>'0'</li>\n",
       "\t<li>'1'</li>\n",
       "\t<li>'0'</li>\n",
       "\t<li>'0'</li>\n",
       "\t<li>'1'</li>\n",
       "\t<li>'1'</li>\n",
       "\t<li>'0'</li>\n",
       "\t<li>'0'</li>\n",
       "\t<li>'0'</li>\n",
       "\t<li>'1'</li>\n",
       "\t<li>'0'</li>\n",
       "\t<li>'1'</li>\n",
       "\t<li>'0'</li>\n",
       "\t<li>'1'</li>\n",
       "\t<li>'0'</li>\n",
       "\t<li>'0'</li>\n",
       "\t<li>'0'</li>\n",
       "\t<li>'0'</li>\n",
       "\t<li>'1'</li>\n",
       "\t<li>'0'</li>\n",
       "\t<li>'0'</li>\n",
       "\t<li>'0'</li>\n",
       "\t<li>'0'</li>\n",
       "\t<li>'1'</li>\n",
       "\t<li>'1'</li>\n",
       "\t<li>'0'</li>\n",
       "\t<li>'0'</li>\n",
       "\t<li>'1'</li>\n",
       "\t<li>'0'</li>\n",
       "\t<li>'0'</li>\n",
       "\t<li>'0'</li>\n",
       "\t<li>'0'</li>\n",
       "\t<li>'0'</li>\n",
       "\t<li>'0'</li>\n",
       "\t<li>'0'</li>\n",
       "\t<li>'0'</li>\n",
       "\t<li>'0'</li>\n",
       "\t<li>'0'</li>\n",
       "\t<li>'0'</li>\n",
       "\t<li>'1'</li>\n",
       "\t<li>'0'</li>\n",
       "\t<li>'0'</li>\n",
       "\t<li>'0'</li>\n",
       "\t<li>'0'</li>\n",
       "\t<li>'0'</li>\n",
       "\t<li>'1'</li>\n",
       "\t<li>'0'</li>\n",
       "\t<li>'0'</li>\n",
       "\t<li>NA</li>\n",
       "\t<li>'1'</li>\n",
       "\t<li>'0'</li>\n",
       "\t<li>'0'</li>\n",
       "\t<li>'1'</li>\n",
       "\t<li>'0'</li>\n",
       "\t<li>'1'</li>\n",
       "\t<li>'0'</li>\n",
       "\t<li>'0'</li>\n",
       "\t<li>'0'</li>\n",
       "\t<li>'0'</li>\n",
       "\t<li>'0'</li>\n",
       "\t<li>'1'</li>\n",
       "\t<li>'0'</li>\n",
       "\t<li>'0'</li>\n",
       "\t<li>'0'</li>\n",
       "\t<li>'0'</li>\n",
       "\t<li>'0'</li>\n",
       "\t<li>'1'</li>\n",
       "\t<li>'0'</li>\n",
       "\t<li>'1'</li>\n",
       "\t<li>NA</li>\n",
       "\t<li>'1'</li>\n",
       "\t<li>'0'</li>\n",
       "\t<li>'0'</li>\n",
       "\t<li>'0'</li>\n",
       "\t<li>'0'</li>\n",
       "\t<li>'1'</li>\n",
       "\t<li>'0'</li>\n",
       "\t<li>'0'</li>\n",
       "\t<li>'0'</li>\n",
       "\t<li>'0'</li>\n",
       "\t<li>'0'</li>\n",
       "\t<li>'0'</li>\n",
       "\t<li>'1'</li>\n",
       "\t<li>'1'</li>\n",
       "\t<li>'1'</li>\n",
       "\t<li>'0'</li>\n",
       "\t<li>'1'</li>\n",
       "\t<li>'0'</li>\n",
       "\t<li>'0'</li>\n",
       "\t<li>'0'</li>\n",
       "\t<li>'0'</li>\n",
       "\t<li>'0'</li>\n",
       "\t<li>'0'</li>\n",
       "\t<li>'1'</li>\n",
       "\t<li>'0'</li>\n",
       "\t<li>'0'</li>\n",
       "\t<li>'0'</li>\n",
       "\t<li>'0'</li>\n",
       "\t<li>'0'</li>\n",
       "\t<li>'0'</li>\n",
       "\t<li>'0'</li>\n",
       "\t<li>'0'</li>\n",
       "\t<li>'0'</li>\n",
       "\t<li>'1'</li>\n",
       "\t<li>'0'</li>\n",
       "\t<li>'0'</li>\n",
       "\t<li>'0'</li>\n",
       "\t<li>'0'</li>\n",
       "\t<li>'0'</li>\n",
       "\t<li>'1'</li>\n",
       "\t<li>'0'</li>\n",
       "\t<li>'1'</li>\n",
       "\t<li>'1'</li>\n",
       "\t<li>'1'</li>\n",
       "\t<li>'0'</li>\n",
       "\t<li>'0'</li>\n",
       "\t<li>'0'</li>\n",
       "\t<li>'0'</li>\n",
       "\t<li>'1'</li>\n",
       "\t<li>'0'</li>\n",
       "\t<li>'1'</li>\n",
       "\t<li>'0'</li>\n",
       "\t<li>'1'</li>\n",
       "\t<li>'1'</li>\n",
       "\t<li>'0'</li>\n",
       "\t<li>'0'</li>\n",
       "\t<li>'0'</li>\n",
       "\t<li>'0'</li>\n",
       "\t<li>'0'</li>\n",
       "\t<li>'0'</li>\n",
       "\t<li>'1'</li>\n",
       "\t<li>'0'</li>\n",
       "\t<li>'0'</li>\n",
       "\t<li>'0'</li>\n",
       "\t<li>'0'</li>\n",
       "\t<li>'0'</li>\n",
       "</ol>\n"
      ],
      "text/latex": [
       "\\begin{enumerate*}\n",
       "\\item '0'\n",
       "\\item '0'\n",
       "\\item '0'\n",
       "\\item '1'\n",
       "\\item '0'\n",
       "\\item '1'\n",
       "\\item '0'\n",
       "\\item '1'\n",
       "\\item '0'\n",
       "\\item '0'\n",
       "\\item '0'\n",
       "\\item '0'\n",
       "\\item '1'\n",
       "\\item '1'\n",
       "\\item '1'\n",
       "\\item '0'\n",
       "\\item '0'\n",
       "\\item '0'\n",
       "\\item '1'\n",
       "\\item '1'\n",
       "\\item '0'\n",
       "\\item '0'\n",
       "\\item '0'\n",
       "\\item '1'\n",
       "\\item '0'\n",
       "\\item '0'\n",
       "\\item '0'\n",
       "\\item '0'\n",
       "\\item '0'\n",
       "\\item '0'\n",
       "\\item '0'\n",
       "\\item '0'\n",
       "\\item '1'\n",
       "\\item '1'\n",
       "\\item '0'\n",
       "\\item '0'\n",
       "\\item '1'\n",
       "\\item '0'\n",
       "\\item '0'\n",
       "\\item '0'\n",
       "\\item '1'\n",
       "\\item '0'\n",
       "\\item '0'\n",
       "\\item '1'\n",
       "\\item '1'\n",
       "\\item '0'\n",
       "\\item '0'\n",
       "\\item '0'\n",
       "\\item '1'\n",
       "\\item '0'\n",
       "\\item '1'\n",
       "\\item '0'\n",
       "\\item '1'\n",
       "\\item '0'\n",
       "\\item '0'\n",
       "\\item '0'\n",
       "\\item '0'\n",
       "\\item '1'\n",
       "\\item '0'\n",
       "\\item '0'\n",
       "\\item '0'\n",
       "\\item '0'\n",
       "\\item '1'\n",
       "\\item '1'\n",
       "\\item '0'\n",
       "\\item '0'\n",
       "\\item '1'\n",
       "\\item '0'\n",
       "\\item '0'\n",
       "\\item '0'\n",
       "\\item '0'\n",
       "\\item '0'\n",
       "\\item '0'\n",
       "\\item '0'\n",
       "\\item '0'\n",
       "\\item '0'\n",
       "\\item '0'\n",
       "\\item '0'\n",
       "\\item '1'\n",
       "\\item '0'\n",
       "\\item '0'\n",
       "\\item '0'\n",
       "\\item '0'\n",
       "\\item '0'\n",
       "\\item '1'\n",
       "\\item '0'\n",
       "\\item '0'\n",
       "\\item NA\n",
       "\\item '1'\n",
       "\\item '0'\n",
       "\\item '0'\n",
       "\\item '1'\n",
       "\\item '0'\n",
       "\\item '1'\n",
       "\\item '0'\n",
       "\\item '0'\n",
       "\\item '0'\n",
       "\\item '0'\n",
       "\\item '0'\n",
       "\\item '1'\n",
       "\\item '0'\n",
       "\\item '0'\n",
       "\\item '0'\n",
       "\\item '0'\n",
       "\\item '0'\n",
       "\\item '1'\n",
       "\\item '0'\n",
       "\\item '1'\n",
       "\\item NA\n",
       "\\item '1'\n",
       "\\item '0'\n",
       "\\item '0'\n",
       "\\item '0'\n",
       "\\item '0'\n",
       "\\item '1'\n",
       "\\item '0'\n",
       "\\item '0'\n",
       "\\item '0'\n",
       "\\item '0'\n",
       "\\item '0'\n",
       "\\item '0'\n",
       "\\item '1'\n",
       "\\item '1'\n",
       "\\item '1'\n",
       "\\item '0'\n",
       "\\item '1'\n",
       "\\item '0'\n",
       "\\item '0'\n",
       "\\item '0'\n",
       "\\item '0'\n",
       "\\item '0'\n",
       "\\item '0'\n",
       "\\item '1'\n",
       "\\item '0'\n",
       "\\item '0'\n",
       "\\item '0'\n",
       "\\item '0'\n",
       "\\item '0'\n",
       "\\item '0'\n",
       "\\item '0'\n",
       "\\item '0'\n",
       "\\item '0'\n",
       "\\item '1'\n",
       "\\item '0'\n",
       "\\item '0'\n",
       "\\item '0'\n",
       "\\item '0'\n",
       "\\item '0'\n",
       "\\item '1'\n",
       "\\item '0'\n",
       "\\item '1'\n",
       "\\item '1'\n",
       "\\item '1'\n",
       "\\item '0'\n",
       "\\item '0'\n",
       "\\item '0'\n",
       "\\item '0'\n",
       "\\item '1'\n",
       "\\item '0'\n",
       "\\item '1'\n",
       "\\item '0'\n",
       "\\item '1'\n",
       "\\item '1'\n",
       "\\item '0'\n",
       "\\item '0'\n",
       "\\item '0'\n",
       "\\item '0'\n",
       "\\item '0'\n",
       "\\item '0'\n",
       "\\item '1'\n",
       "\\item '0'\n",
       "\\item '0'\n",
       "\\item '0'\n",
       "\\item '0'\n",
       "\\item '0'\n",
       "\\end{enumerate*}\n"
      ],
      "text/markdown": [
       "1. '0'\n",
       "2. '0'\n",
       "3. '0'\n",
       "4. '1'\n",
       "5. '0'\n",
       "6. '1'\n",
       "7. '0'\n",
       "8. '1'\n",
       "9. '0'\n",
       "10. '0'\n",
       "11. '0'\n",
       "12. '0'\n",
       "13. '1'\n",
       "14. '1'\n",
       "15. '1'\n",
       "16. '0'\n",
       "17. '0'\n",
       "18. '0'\n",
       "19. '1'\n",
       "20. '1'\n",
       "21. '0'\n",
       "22. '0'\n",
       "23. '0'\n",
       "24. '1'\n",
       "25. '0'\n",
       "26. '0'\n",
       "27. '0'\n",
       "28. '0'\n",
       "29. '0'\n",
       "30. '0'\n",
       "31. '0'\n",
       "32. '0'\n",
       "33. '1'\n",
       "34. '1'\n",
       "35. '0'\n",
       "36. '0'\n",
       "37. '1'\n",
       "38. '0'\n",
       "39. '0'\n",
       "40. '0'\n",
       "41. '1'\n",
       "42. '0'\n",
       "43. '0'\n",
       "44. '1'\n",
       "45. '1'\n",
       "46. '0'\n",
       "47. '0'\n",
       "48. '0'\n",
       "49. '1'\n",
       "50. '0'\n",
       "51. '1'\n",
       "52. '0'\n",
       "53. '1'\n",
       "54. '0'\n",
       "55. '0'\n",
       "56. '0'\n",
       "57. '0'\n",
       "58. '1'\n",
       "59. '0'\n",
       "60. '0'\n",
       "61. '0'\n",
       "62. '0'\n",
       "63. '1'\n",
       "64. '1'\n",
       "65. '0'\n",
       "66. '0'\n",
       "67. '1'\n",
       "68. '0'\n",
       "69. '0'\n",
       "70. '0'\n",
       "71. '0'\n",
       "72. '0'\n",
       "73. '0'\n",
       "74. '0'\n",
       "75. '0'\n",
       "76. '0'\n",
       "77. '0'\n",
       "78. '0'\n",
       "79. '1'\n",
       "80. '0'\n",
       "81. '0'\n",
       "82. '0'\n",
       "83. '0'\n",
       "84. '0'\n",
       "85. '1'\n",
       "86. '0'\n",
       "87. '0'\n",
       "88. NA\n",
       "89. '1'\n",
       "90. '0'\n",
       "91. '0'\n",
       "92. '1'\n",
       "93. '0'\n",
       "94. '1'\n",
       "95. '0'\n",
       "96. '0'\n",
       "97. '0'\n",
       "98. '0'\n",
       "99. '0'\n",
       "100. '1'\n",
       "101. '0'\n",
       "102. '0'\n",
       "103. '0'\n",
       "104. '0'\n",
       "105. '0'\n",
       "106. '1'\n",
       "107. '0'\n",
       "108. '1'\n",
       "109. NA\n",
       "110. '1'\n",
       "111. '0'\n",
       "112. '0'\n",
       "113. '0'\n",
       "114. '0'\n",
       "115. '1'\n",
       "116. '0'\n",
       "117. '0'\n",
       "118. '0'\n",
       "119. '0'\n",
       "120. '0'\n",
       "121. '0'\n",
       "122. '1'\n",
       "123. '1'\n",
       "124. '1'\n",
       "125. '0'\n",
       "126. '1'\n",
       "127. '0'\n",
       "128. '0'\n",
       "129. '0'\n",
       "130. '0'\n",
       "131. '0'\n",
       "132. '0'\n",
       "133. '1'\n",
       "134. '0'\n",
       "135. '0'\n",
       "136. '0'\n",
       "137. '0'\n",
       "138. '0'\n",
       "139. '0'\n",
       "140. '0'\n",
       "141. '0'\n",
       "142. '0'\n",
       "143. '1'\n",
       "144. '0'\n",
       "145. '0'\n",
       "146. '0'\n",
       "147. '0'\n",
       "148. '0'\n",
       "149. '1'\n",
       "150. '0'\n",
       "151. '1'\n",
       "152. '1'\n",
       "153. '1'\n",
       "154. '0'\n",
       "155. '0'\n",
       "156. '0'\n",
       "157. '0'\n",
       "158. '1'\n",
       "159. '0'\n",
       "160. '1'\n",
       "161. '0'\n",
       "162. '1'\n",
       "163. '1'\n",
       "164. '0'\n",
       "165. '0'\n",
       "166. '0'\n",
       "167. '0'\n",
       "168. '0'\n",
       "169. '0'\n",
       "170. '1'\n",
       "171. '0'\n",
       "172. '0'\n",
       "173. '0'\n",
       "174. '0'\n",
       "175. '0'\n",
       "\n",
       "\n"
      ],
      "text/plain": [
       "  [1] \"0\" \"0\" \"0\" \"1\" \"0\" \"1\" \"0\" \"1\" \"0\" \"0\" \"0\" \"0\" \"1\" \"1\" \"1\" \"0\" \"0\" \"0\"\n",
       " [19] \"1\" \"1\" \"0\" \"0\" \"0\" \"1\" \"0\" \"0\" \"0\" \"0\" \"0\" \"0\" \"0\" \"0\" \"1\" \"1\" \"0\" \"0\"\n",
       " [37] \"1\" \"0\" \"0\" \"0\" \"1\" \"0\" \"0\" \"1\" \"1\" \"0\" \"0\" \"0\" \"1\" \"0\" \"1\" \"0\" \"1\" \"0\"\n",
       " [55] \"0\" \"0\" \"0\" \"1\" \"0\" \"0\" \"0\" \"0\" \"1\" \"1\" \"0\" \"0\" \"1\" \"0\" \"0\" \"0\" \"0\" \"0\"\n",
       " [73] \"0\" \"0\" \"0\" \"0\" \"0\" \"0\" \"1\" \"0\" \"0\" \"0\" \"0\" \"0\" \"1\" \"0\" \"0\" NA  \"1\" \"0\"\n",
       " [91] \"0\" \"1\" \"0\" \"1\" \"0\" \"0\" \"0\" \"0\" \"0\" \"1\" \"0\" \"0\" \"0\" \"0\" \"0\" \"1\" \"0\" \"1\"\n",
       "[109] NA  \"1\" \"0\" \"0\" \"0\" \"0\" \"1\" \"0\" \"0\" \"0\" \"0\" \"0\" \"0\" \"1\" \"1\" \"1\" \"0\" \"1\"\n",
       "[127] \"0\" \"0\" \"0\" \"0\" \"0\" \"0\" \"1\" \"0\" \"0\" \"0\" \"0\" \"0\" \"0\" \"0\" \"0\" \"0\" \"1\" \"0\"\n",
       "[145] \"0\" \"0\" \"0\" \"0\" \"1\" \"0\" \"1\" \"1\" \"1\" \"0\" \"0\" \"0\" \"0\" \"1\" \"0\" \"1\" \"0\" \"1\"\n",
       "[163] \"1\" \"0\" \"0\" \"0\" \"0\" \"0\" \"0\" \"1\" \"0\" \"0\" \"0\" \"0\" \"0\""
      ]
     },
     "metadata": {},
     "output_type": "display_data"
    }
   ],
   "source": [
    "mobb_visc$T2D"
   ]
  },
  {
   "cell_type": "code",
   "execution_count": 83,
   "metadata": {
    "collapsed": true
   },
   "outputs": [],
   "source": [
    "gtex_visc$MHT2D[gtex_visc$MHT2D == 99] = NA\n",
    "gtex_subq$MHT2D[gtex_subq$MHT2D == 99] = NA"
   ]
  },
  {
   "cell_type": "markdown",
   "metadata": {},
   "source": [
    "### T2D meta in subcutanous fat"
   ]
  },
  {
   "cell_type": "code",
   "execution_count": 84,
   "metadata": {
    "collapsed": true
   },
   "outputs": [],
   "source": [
    "gtex_subq_coeff = summary(lm('scale(mu_area) ~ 1 + scale(AGE) + scale(BMI) + as.factor(MHT2D) + as.factor(SEX)', data=gtex_subq))$coeff"
   ]
  },
  {
   "cell_type": "code",
   "execution_count": 85,
   "metadata": {},
   "outputs": [
    {
     "data": {
      "text/html": [
       "<table>\n",
       "<thead><tr><th></th><th scope=col>Estimate</th><th scope=col>Std. Error</th><th scope=col>t value</th><th scope=col>Pr(&gt;|t|)</th></tr></thead>\n",
       "<tbody>\n",
       "\t<tr><th scope=row>(Intercept)</th><td>-0.1421017  </td><td>0.04437349  </td><td>-3.202401   </td><td>1.423779e-03</td></tr>\n",
       "\t<tr><th scope=row>scale(AGE)</th><td> 0.1704094  </td><td>0.03367674  </td><td> 5.060152   </td><td>5.342781e-07</td></tr>\n",
       "\t<tr><th scope=row>scale(BMI)</th><td> 0.4125160  </td><td>0.03323895  </td><td>12.410620   </td><td>3.819316e-32</td></tr>\n",
       "\t<tr><th scope=row>as.factor(MHT2D)1</th><td> 0.1435315  </td><td>0.08162912  </td><td> 1.758336   </td><td>7.912170e-02</td></tr>\n",
       "\t<tr><th scope=row>as.factor(SEX)2</th><td> 0.3306215  </td><td>0.06901368  </td><td> 4.790667   </td><td>2.025210e-06</td></tr>\n",
       "</tbody>\n",
       "</table>\n"
      ],
      "text/latex": [
       "\\begin{tabular}{r|llll}\n",
       "  & Estimate & Std. Error & t value & Pr(>\\textbar{}t\\textbar{})\\\\\n",
       "\\hline\n",
       "\t(Intercept) & -0.1421017   & 0.04437349   & -3.202401    & 1.423779e-03\\\\\n",
       "\tscale(AGE) &  0.1704094   & 0.03367674   &  5.060152    & 5.342781e-07\\\\\n",
       "\tscale(BMI) &  0.4125160   & 0.03323895   & 12.410620    & 3.819316e-32\\\\\n",
       "\tas.factor(MHT2D)1 &  0.1435315   & 0.08162912   &  1.758336    & 7.912170e-02\\\\\n",
       "\tas.factor(SEX)2 &  0.3306215   & 0.06901368   &  4.790667    & 2.025210e-06\\\\\n",
       "\\end{tabular}\n"
      ],
      "text/markdown": [
       "\n",
       "| <!--/--> | Estimate | Std. Error | t value | Pr(>|t|) | \n",
       "|---|---|---|---|---|\n",
       "| (Intercept) | -0.1421017   | 0.04437349   | -3.202401    | 1.423779e-03 | \n",
       "| scale(AGE) |  0.1704094   | 0.03367674   |  5.060152    | 5.342781e-07 | \n",
       "| scale(BMI) |  0.4125160   | 0.03323895   | 12.410620    | 3.819316e-32 | \n",
       "| as.factor(MHT2D)1 |  0.1435315   | 0.08162912   |  1.758336    | 7.912170e-02 | \n",
       "| as.factor(SEX)2 |  0.3306215   | 0.06901368   |  4.790667    | 2.025210e-06 | \n",
       "\n",
       "\n"
      ],
      "text/plain": [
       "                  Estimate   Std. Error t value   Pr(>|t|)    \n",
       "(Intercept)       -0.1421017 0.04437349 -3.202401 1.423779e-03\n",
       "scale(AGE)         0.1704094 0.03367674  5.060152 5.342781e-07\n",
       "scale(BMI)         0.4125160 0.03323895 12.410620 3.819316e-32\n",
       "as.factor(MHT2D)1  0.1435315 0.08162912  1.758336 7.912170e-02\n",
       "as.factor(SEX)2    0.3306215 0.06901368  4.790667 2.025210e-06"
      ]
     },
     "metadata": {},
     "output_type": "display_data"
    }
   ],
   "source": [
    "gtex_subq_coeff"
   ]
  },
  {
   "cell_type": "code",
   "execution_count": 86,
   "metadata": {
    "collapsed": true
   },
   "outputs": [],
   "source": [
    "gtex_visc_coeff = summary(lm('scale(mu_area) ~ 1 + scale(AGE) + scale(BMI) + as.factor(MHT2D) + as.factor(SEX)', data=gtex_visc))$coeff"
   ]
  },
  {
   "cell_type": "code",
   "execution_count": 87,
   "metadata": {
    "collapsed": true
   },
   "outputs": [],
   "source": [
    "mobb_subq_coeff = summary(lm('scale(mu_area) ~ 1 + scale(Age) + scale(BMI) + as.factor(Gender) + as.factor(T2D)', data=mobb_subq))$coeff"
   ]
  },
  {
   "cell_type": "code",
   "execution_count": 88,
   "metadata": {
    "collapsed": true
   },
   "outputs": [],
   "source": [
    "mobb_visc_coeff = summary(lm('scale(mu_area) ~ 1 + scale(Age) + scale(BMI) + as.factor(Gender) + as.factor(T2D)', data=mobb_visc))$coeff"
   ]
  },
  {
   "cell_type": "code",
   "execution_count": 89,
   "metadata": {},
   "outputs": [
    {
     "data": {
      "text/html": [
       "<table>\n",
       "<thead><tr><th></th><th scope=col>Estimate</th><th scope=col>Std. Error</th><th scope=col>t value</th><th scope=col>Pr(&gt;|t|)</th></tr></thead>\n",
       "<tbody>\n",
       "\t<tr><th scope=row>(Intercept)</th><td> 0.1737289  </td><td>0.12255401  </td><td> 1.417570   </td><td>1.582020e-01</td></tr>\n",
       "\t<tr><th scope=row>scale(Age)</th><td> 0.0864850  </td><td>0.07197371  </td><td> 1.201619   </td><td>2.312329e-01</td></tr>\n",
       "\t<tr><th scope=row>scale(BMI)</th><td> 0.4679046  </td><td>0.07516055  </td><td> 6.225402   </td><td>3.831419e-09</td></tr>\n",
       "\t<tr><th scope=row>as.factor(Gender)2</th><td>-0.4286092  </td><td>0.14757836  </td><td>-2.904282   </td><td>4.185463e-03</td></tr>\n",
       "\t<tr><th scope=row>as.factor(T2D)1</th><td> 0.4236217  </td><td>0.15770221  </td><td> 2.686213   </td><td>7.965901e-03</td></tr>\n",
       "</tbody>\n",
       "</table>\n"
      ],
      "text/latex": [
       "\\begin{tabular}{r|llll}\n",
       "  & Estimate & Std. Error & t value & Pr(>\\textbar{}t\\textbar{})\\\\\n",
       "\\hline\n",
       "\t(Intercept) &  0.1737289   & 0.12255401   &  1.417570    & 1.582020e-01\\\\\n",
       "\tscale(Age) &  0.0864850   & 0.07197371   &  1.201619    & 2.312329e-01\\\\\n",
       "\tscale(BMI) &  0.4679046   & 0.07516055   &  6.225402    & 3.831419e-09\\\\\n",
       "\tas.factor(Gender)2 & -0.4286092   & 0.14757836   & -2.904282    & 4.185463e-03\\\\\n",
       "\tas.factor(T2D)1 &  0.4236217   & 0.15770221   &  2.686213    & 7.965901e-03\\\\\n",
       "\\end{tabular}\n"
      ],
      "text/markdown": [
       "\n",
       "| <!--/--> | Estimate | Std. Error | t value | Pr(>|t|) | \n",
       "|---|---|---|---|---|\n",
       "| (Intercept) |  0.1737289   | 0.12255401   |  1.417570    | 1.582020e-01 | \n",
       "| scale(Age) |  0.0864850   | 0.07197371   |  1.201619    | 2.312329e-01 | \n",
       "| scale(BMI) |  0.4679046   | 0.07516055   |  6.225402    | 3.831419e-09 | \n",
       "| as.factor(Gender)2 | -0.4286092   | 0.14757836   | -2.904282    | 4.185463e-03 | \n",
       "| as.factor(T2D)1 |  0.4236217   | 0.15770221   |  2.686213    | 7.965901e-03 | \n",
       "\n",
       "\n"
      ],
      "text/plain": [
       "                   Estimate   Std. Error t value   Pr(>|t|)    \n",
       "(Intercept)         0.1737289 0.12255401  1.417570 1.582020e-01\n",
       "scale(Age)          0.0864850 0.07197371  1.201619 2.312329e-01\n",
       "scale(BMI)          0.4679046 0.07516055  6.225402 3.831419e-09\n",
       "as.factor(Gender)2 -0.4286092 0.14757836 -2.904282 4.185463e-03\n",
       "as.factor(T2D)1     0.4236217 0.15770221  2.686213 7.965901e-03"
      ]
     },
     "metadata": {},
     "output_type": "display_data"
    }
   ],
   "source": [
    "mobb_visc_coeff"
   ]
  },
  {
   "cell_type": "code",
   "execution_count": 90,
   "metadata": {},
   "outputs": [
    {
     "data": {
      "text/html": [
       "<table>\n",
       "<thead><tr><th></th><th scope=col>Estimate</th><th scope=col>Std. Error</th><th scope=col>t value</th><th scope=col>Pr(&gt;|t|)</th></tr></thead>\n",
       "<tbody>\n",
       "\t<tr><th scope=row>(Intercept)</th><td>-0.05596289 </td><td>0.13409101  </td><td>-0.41735004 </td><td>6.770313e-01</td></tr>\n",
       "\t<tr><th scope=row>scale(Age)</th><td>-0.00548779 </td><td>0.07908097  </td><td>-0.06939457 </td><td>9.447699e-01</td></tr>\n",
       "\t<tr><th scope=row>scale(BMI)</th><td> 0.44373023 </td><td>0.08280063  </td><td> 5.35902013 </td><td>3.167156e-07</td></tr>\n",
       "\t<tr><th scope=row>as.factor(Gender)2</th><td> 0.01463432 </td><td>0.15851063  </td><td> 0.09232393 </td><td>9.265664e-01</td></tr>\n",
       "\t<tr><th scope=row>as.factor(T2D)1</th><td> 0.18120819 </td><td>0.16855302  </td><td> 1.07508124 </td><td>2.840998e-01</td></tr>\n",
       "</tbody>\n",
       "</table>\n"
      ],
      "text/latex": [
       "\\begin{tabular}{r|llll}\n",
       "  & Estimate & Std. Error & t value & Pr(>\\textbar{}t\\textbar{})\\\\\n",
       "\\hline\n",
       "\t(Intercept) & -0.05596289  & 0.13409101   & -0.41735004  & 6.770313e-01\\\\\n",
       "\tscale(Age) & -0.00548779  & 0.07908097   & -0.06939457  & 9.447699e-01\\\\\n",
       "\tscale(BMI) &  0.44373023  & 0.08280063   &  5.35902013  & 3.167156e-07\\\\\n",
       "\tas.factor(Gender)2 &  0.01463432  & 0.15851063   &  0.09232393  & 9.265664e-01\\\\\n",
       "\tas.factor(T2D)1 &  0.18120819  & 0.16855302   &  1.07508124  & 2.840998e-01\\\\\n",
       "\\end{tabular}\n"
      ],
      "text/markdown": [
       "\n",
       "| <!--/--> | Estimate | Std. Error | t value | Pr(>|t|) | \n",
       "|---|---|---|---|---|\n",
       "| (Intercept) | -0.05596289  | 0.13409101   | -0.41735004  | 6.770313e-01 | \n",
       "| scale(Age) | -0.00548779  | 0.07908097   | -0.06939457  | 9.447699e-01 | \n",
       "| scale(BMI) |  0.44373023  | 0.08280063   |  5.35902013  | 3.167156e-07 | \n",
       "| as.factor(Gender)2 |  0.01463432  | 0.15851063   |  0.09232393  | 9.265664e-01 | \n",
       "| as.factor(T2D)1 |  0.18120819  | 0.16855302   |  1.07508124  | 2.840998e-01 | \n",
       "\n",
       "\n"
      ],
      "text/plain": [
       "                   Estimate    Std. Error t value     Pr(>|t|)    \n",
       "(Intercept)        -0.05596289 0.13409101 -0.41735004 6.770313e-01\n",
       "scale(Age)         -0.00548779 0.07908097 -0.06939457 9.447699e-01\n",
       "scale(BMI)          0.44373023 0.08280063  5.35902013 3.167156e-07\n",
       "as.factor(Gender)2  0.01463432 0.15851063  0.09232393 9.265664e-01\n",
       "as.factor(T2D)1     0.18120819 0.16855302  1.07508124 2.840998e-01"
      ]
     },
     "metadata": {},
     "output_type": "display_data"
    }
   ],
   "source": [
    "mobb_subq_coeff"
   ]
  },
  {
   "cell_type": "code",
   "execution_count": 91,
   "metadata": {},
   "outputs": [
    {
     "data": {
      "text/html": [
       "<dl class=dl-horizontal>\n",
       "\t<dt>scale(AGE)</dt>\n",
       "\t\t<dd>0.170409429178926</dd>\n",
       "\t<dt>scale(BMI)</dt>\n",
       "\t\t<dd>0.412515955016602</dd>\n",
       "\t<dt>as.factor(MHT2D)1</dt>\n",
       "\t\t<dd>0.143531455374667</dd>\n",
       "\t<dt>as.factor(SEX)2</dt>\n",
       "\t\t<dd>0.330621545417807</dd>\n",
       "</dl>\n"
      ],
      "text/latex": [
       "\\begin{description*}\n",
       "\\item[scale(AGE)] 0.170409429178926\n",
       "\\item[scale(BMI)] 0.412515955016602\n",
       "\\item[as.factor(MHT2D)1] 0.143531455374667\n",
       "\\item[as.factor(SEX)2] 0.330621545417807\n",
       "\\end{description*}\n"
      ],
      "text/markdown": [
       "scale(AGE)\n",
       ":   0.170409429178926scale(BMI)\n",
       ":   0.412515955016602as.factor(MHT2D)1\n",
       ":   0.143531455374667as.factor(SEX)2\n",
       ":   0.330621545417807\n",
       "\n"
      ],
      "text/plain": [
       "       scale(AGE)        scale(BMI) as.factor(MHT2D)1   as.factor(SEX)2 \n",
       "        0.1704094         0.4125160         0.1435315         0.3306215 "
      ]
     },
     "metadata": {},
     "output_type": "display_data"
    }
   ],
   "source": [
    "gtex_subq_coeff[2:5,1]"
   ]
  },
  {
   "cell_type": "code",
   "execution_count": 92,
   "metadata": {
    "collapsed": true
   },
   "outputs": [],
   "source": [
    "gtex_subq_beta = as.matrix(as.numeric(gtex_subq_coeff[2:5,1]))\n",
    "gtex_subq_std_err = as.matrix(as.numeric(gtex_subq_coeff[2:5,2]))\n",
    "gtex_subq_pval = as.matrix(as.numeric(format.pval(gtex_subq_coeff[2:5,4],digits=2,eps =1e-100)))\n",
    "            \n",
    "mobb_subq_beta = as.matrix(as.numeric(mobb_subq_coeff[2:5,1]))\n",
    "mobb_subq_std_err = as.matrix(as.numeric(mobb_subq_coeff[2:5,2]))\n",
    "mobb_subq_pval = as.matrix(as.numeric(format.pval(mobb_subq_coeff[2:5,4],digits=2,eps =1e-100)))"
   ]
  },
  {
   "cell_type": "code",
   "execution_count": 93,
   "metadata": {},
   "outputs": [
    {
     "data": {
      "text/html": [
       "<table>\n",
       "<tbody>\n",
       "\t<tr><td>0.1704094</td></tr>\n",
       "\t<tr><td>0.4125160</td></tr>\n",
       "\t<tr><td>0.1435315</td></tr>\n",
       "\t<tr><td>0.3306215</td></tr>\n",
       "</tbody>\n",
       "</table>\n"
      ],
      "text/latex": [
       "\\begin{tabular}{l}\n",
       "\t 0.1704094\\\\\n",
       "\t 0.4125160\\\\\n",
       "\t 0.1435315\\\\\n",
       "\t 0.3306215\\\\\n",
       "\\end{tabular}\n"
      ],
      "text/markdown": [
       "\n",
       "| 0.1704094 | \n",
       "| 0.4125160 | \n",
       "| 0.1435315 | \n",
       "| 0.3306215 | \n",
       "\n",
       "\n"
      ],
      "text/plain": [
       "     [,1]     \n",
       "[1,] 0.1704094\n",
       "[2,] 0.4125160\n",
       "[3,] 0.1435315\n",
       "[4,] 0.3306215"
      ]
     },
     "metadata": {},
     "output_type": "display_data"
    }
   ],
   "source": [
    "gtex_subq_beta"
   ]
  },
  {
   "cell_type": "code",
   "execution_count": 94,
   "metadata": {
    "collapsed": true
   },
   "outputs": [],
   "source": [
    "combined = as.data.frame(rbind(gtex_subq_beta, mobb_subq_beta))\n",
    "colnames(combined) =\"beta\"\n",
    "combined$covar = c('age','bmi','T2D','sex','age','bmi','T2D','sex')\n",
    "combined$std.error = rbind(gtex_subq_std_err, mobb_subq_std_err)"
   ]
  },
  {
   "cell_type": "code",
   "execution_count": 95,
   "metadata": {
    "collapsed": true
   },
   "outputs": [],
   "source": [
    "combined$P.value = rbind(gtex_subq_pval, mobb_subq_pval)\n"
   ]
  },
  {
   "cell_type": "code",
   "execution_count": 96,
   "metadata": {
    "collapsed": true
   },
   "outputs": [],
   "source": [
    "combined$N = list(dim(gtex_subq)[1],dim(mobb_subq)[1])"
   ]
  },
  {
   "cell_type": "code",
   "execution_count": null,
   "metadata": {
    "collapsed": true
   },
   "outputs": [],
   "source": []
  },
  {
   "cell_type": "code",
   "execution_count": 97,
   "metadata": {
    "collapsed": true
   },
   "outputs": [],
   "source": [
    "combined_subq = as.data.frame(rbind(gtex_subq_beta, mobb_subq_beta))\n",
    "colnames(combined_subq) =\"beta\"\n",
    "combined_subq$covar = c('age','bmi','T2D','sex','age','bmi','T2D','sex')\n",
    "combined_subq$std.error = rbind(gtex_subq_std_err, mobb_subq_std_err)\n",
    "combined_subq$P.value = rbind(gtex_subq_pval, mobb_subq_pval)\n",
    "combined_subq$study = c('GTEx','GTEx','GTEx','GTEx','MOBB','MOBB','MOBB','MOBB')\n",
    "combined_subq_T2D = subset(combined_subq, covar =='T2D')\n",
    "combined_subq_T2D$N = list(dim(gtex_subq)[1],dim(mobb_subq)[1])"
   ]
  },
  {
   "cell_type": "code",
   "execution_count": 98,
   "metadata": {},
   "outputs": [
    {
     "data": {
      "text/html": [
       "<table>\n",
       "<thead><tr><th></th><th scope=col>beta</th><th scope=col>covar</th><th scope=col>std.error</th><th scope=col>P.value</th><th scope=col>study</th><th scope=col>N</th></tr></thead>\n",
       "<tbody>\n",
       "\t<tr><th scope=row>3</th><td>0.14353146</td><td>T2D       </td><td>0.08162912</td><td>0.079     </td><td>GTEx      </td><td>717       </td></tr>\n",
       "\t<tr><th scope=row>7</th><td>0.01463432</td><td>T2D       </td><td>0.15851063</td><td>0.930     </td><td>MOBB      </td><td>156       </td></tr>\n",
       "</tbody>\n",
       "</table>\n"
      ],
      "text/latex": [
       "\\begin{tabular}{r|llllll}\n",
       "  & beta & covar & std.error & P.value & study & N\\\\\n",
       "\\hline\n",
       "\t3 & 0.14353146 & T2D        & 0.08162912 & 0.079      & GTEx       & 717       \\\\\n",
       "\t7 & 0.01463432 & T2D        & 0.15851063 & 0.930      & MOBB       & 156       \\\\\n",
       "\\end{tabular}\n"
      ],
      "text/markdown": [
       "\n",
       "| <!--/--> | beta | covar | std.error | P.value | study | N | \n",
       "|---|---|\n",
       "| 3 | 0.14353146 | T2D        | 0.08162912 | 0.079      | GTEx       | 717        | \n",
       "| 7 | 0.01463432 | T2D        | 0.15851063 | 0.930      | MOBB       | 156        | \n",
       "\n",
       "\n"
      ],
      "text/plain": [
       "  beta       covar std.error  P.value study N  \n",
       "3 0.14353146 T2D   0.08162912 0.079   GTEx  717\n",
       "7 0.01463432 T2D   0.15851063 0.930   MOBB  156"
      ]
     },
     "metadata": {},
     "output_type": "display_data"
    }
   ],
   "source": [
    "combined_subq_T2D"
   ]
  },
  {
   "cell_type": "code",
   "execution_count": 99,
   "metadata": {
    "collapsed": true
   },
   "outputs": [],
   "source": [
    "m.hksj<-metagen(beta,\n",
    "        std.error,\n",
    "        data=combined_subq_T2D,\n",
    "        studlab=paste(study),\n",
    "        comb.fixed = TRUE,\n",
    "        hakn = FALSE,\n",
    "        prediction=TRUE,\n",
    "        sm=\"SMD\")"
   ]
  },
  {
   "cell_type": "code",
   "execution_count": 100,
   "metadata": {},
   "outputs": [
    {
     "data": {
      "text/plain": [
       "        SMD            95%-CI %W(fixed) %W(random)\n",
       "GTEx 0.1435 [-0.0165; 0.3035]      79.0       79.0\n",
       "MOBB 0.0146 [-0.2960; 0.3253]      21.0       21.0\n",
       "\n",
       "Number of studies combined: k = 2\n",
       "\n",
       "                        SMD            95%-CI    z p-value\n",
       "Fixed effect model   0.1165 [-0.0257; 0.2588] 1.61  0.1084\n",
       "Random effects model 0.1165 [-0.0257; 0.2588] 1.61  0.1084\n",
       "\n",
       "Quantifying heterogeneity:\n",
       "tau^2 = 0; H = 1.00; I^2 = 0.0%\n",
       "\n",
       "Test of heterogeneity:\n",
       "    Q d.f. p-value\n",
       " 0.52    1  0.4697\n",
       "\n",
       "Details on meta-analytical method:\n",
       "- Inverse variance method\n",
       "- DerSimonian-Laird estimator for tau^2"
      ]
     },
     "metadata": {},
     "output_type": "display_data"
    }
   ],
   "source": [
    "m.hksj"
   ]
  },
  {
   "cell_type": "code",
   "execution_count": 101,
   "metadata": {},
   "outputs": [
    {
     "data": {
      "text/html": [
       "<strong>png:</strong> 2"
      ],
      "text/latex": [
       "\\textbf{png:} 2"
      ],
      "text/markdown": [
       "**png:** 2"
      ],
      "text/plain": [
       "png \n",
       "  2 "
      ]
     },
     "metadata": {},
     "output_type": "display_data"
    }
   ],
   "source": [
    "pdf(\"T2D_meta_analysis_subq.pdf\", width=10,height=4, bg=\"white\")\n",
    "\n",
    "forest(m.hksj, \n",
    "       sortvar=TE, \n",
    "       digits.sd = 2,\n",
    "       xlim = c(-1,1),\n",
    "       random=FALSE,\n",
    "       pooled.totals = FALSE, \n",
    "       smlab = \"\",\n",
    "       rightlabs = c(\"Depot Beta\",\"95% CI\",\"Weight\"),\n",
    "       comb.random=TRUE,\n",
    "       leftcols=c(\"study\",\"TE\",\"seTE\",'P.value',\"N\"),\n",
    "       leftlabs=c('Cohort','effect','SE','P','N'),\n",
    "       col.diamond = \"blue\",\n",
    "       col.diamond.lines = \"black\",\n",
    "       col.predict = \"black\",\n",
    "       print.tau2 = FALSE,\n",
    "       prediction = FALSE)\n",
    "dev.off()"
   ]
  },
  {
   "cell_type": "markdown",
   "metadata": {},
   "source": [
    "## T2D in visceral"
   ]
  },
  {
   "cell_type": "code",
   "execution_count": 102,
   "metadata": {
    "collapsed": true
   },
   "outputs": [],
   "source": [
    "gtex_visc_beta = as.matrix(as.numeric(gtex_visc_coeff[2:5,1]))\n",
    "gtex_visc_std_err = as.matrix(as.numeric(gtex_visc_coeff[2:5,2]))\n",
    "gtex_visc_pval = as.matrix(as.numeric(format.pval(gtex_visc_coeff[2:5,4],digits=2,eps =1e-100)))\n",
    "            \n",
    "mobb_visc_beta = as.matrix(as.numeric(mobb_visc_coeff[2:5,1]))\n",
    "mobb_visc_std_err = as.matrix(as.numeric(mobb_visc_coeff[2:5,2]))\n",
    "mobb_visc_pval = as.matrix(as.numeric(format.pval(mobb_visc_coeff[2:5,4],digits=2,eps =1e-100)))"
   ]
  },
  {
   "cell_type": "code",
   "execution_count": 103,
   "metadata": {
    "collapsed": true
   },
   "outputs": [],
   "source": [
    "combined_visc = as.data.frame(rbind(gtex_visc_beta, mobb_visc_beta))\n",
    "colnames(combined_visc) =\"beta\"\n",
    "combined_visc$covar = c('age','bmi','T2D','sex','age','bmi','T2D','sex')\n",
    "combined_visc$std.error = rbind(gtex_visc_std_err, mobb_visc_std_err)\n",
    "combined_visc$P.value = rbind(gtex_visc_pval, mobb_visc_pval)\n",
    "combined_visc$study = c('GTEx','GTEx','GTEx','GTEx','MOBB','MOBB','MOBB','MOBB')\n",
    "combined_visc_T2D = subset(combined_visc, covar =='T2D')\n",
    "combined_visc_T2D$N = list(dim(gtex_subq)[1],dim(mobb_subq)[1])"
   ]
  },
  {
   "cell_type": "code",
   "execution_count": 104,
   "metadata": {},
   "outputs": [
    {
     "data": {
      "text/html": [
       "<table>\n",
       "<thead><tr><th></th><th scope=col>beta</th><th scope=col>covar</th><th scope=col>std.error</th><th scope=col>P.value</th><th scope=col>study</th><th scope=col>N</th></tr></thead>\n",
       "<tbody>\n",
       "\t<tr><th scope=row>3</th><td> 0.007084249</td><td>T2D         </td><td>0.08893842  </td><td>0.9400      </td><td>GTEx        </td><td>717         </td></tr>\n",
       "\t<tr><th scope=row>7</th><td>-0.428609226</td><td>T2D         </td><td>0.14757836  </td><td>0.0042      </td><td>MOBB        </td><td>156         </td></tr>\n",
       "</tbody>\n",
       "</table>\n"
      ],
      "text/latex": [
       "\\begin{tabular}{r|llllll}\n",
       "  & beta & covar & std.error & P.value & study & N\\\\\n",
       "\\hline\n",
       "\t3 &  0.007084249 & T2D          & 0.08893842   & 0.9400       & GTEx         & 717         \\\\\n",
       "\t7 & -0.428609226 & T2D          & 0.14757836   & 0.0042       & MOBB         & 156         \\\\\n",
       "\\end{tabular}\n"
      ],
      "text/markdown": [
       "\n",
       "| <!--/--> | beta | covar | std.error | P.value | study | N | \n",
       "|---|---|\n",
       "| 3 |  0.007084249 | T2D          | 0.08893842   | 0.9400       | GTEx         | 717          | \n",
       "| 7 | -0.428609226 | T2D          | 0.14757836   | 0.0042       | MOBB         | 156          | \n",
       "\n",
       "\n"
      ],
      "text/plain": [
       "  beta         covar std.error  P.value study N  \n",
       "3  0.007084249 T2D   0.08893842 0.9400  GTEx  717\n",
       "7 -0.428609226 T2D   0.14757836 0.0042  MOBB  156"
      ]
     },
     "metadata": {},
     "output_type": "display_data"
    }
   ],
   "source": [
    "combined_visc_T2D"
   ]
  },
  {
   "cell_type": "code",
   "execution_count": 105,
   "metadata": {
    "collapsed": true
   },
   "outputs": [],
   "source": [
    "m.hksj<-metagen(beta,\n",
    "        std.error,\n",
    "        data=combined_visc_T2D,\n",
    "        studlab=paste(study),\n",
    "        comb.fixed = TRUE,\n",
    "        hakn = FALSE,\n",
    "        prediction=TRUE,\n",
    "        sm=\"SMD\")"
   ]
  },
  {
   "cell_type": "code",
   "execution_count": 106,
   "metadata": {},
   "outputs": [
    {
     "data": {
      "text/plain": [
       "         SMD             95%-CI %W(fixed) %W(random)\n",
       "GTEx  0.0071 [-0.1672;  0.1814]      73.4       53.7\n",
       "MOBB -0.4286 [-0.7179; -0.1394]      26.6       46.3\n",
       "\n",
       "Number of studies combined: k = 2\n",
       "\n",
       "                         SMD            95%-CI     z p-value\n",
       "Fixed effect model   -0.1090 [-0.2583; 0.0403] -1.43  0.1525\n",
       "Random effects model -0.1948 [-0.6207; 0.2310] -0.90  0.3698\n",
       "\n",
       "Quantifying heterogeneity:\n",
       "tau^2 = 0.0801; H = 2.53; I^2 = 84.4% [35.8%; 96.2%]\n",
       "\n",
       "Test of heterogeneity:\n",
       "    Q d.f. p-value\n",
       " 6.39    1  0.0115\n",
       "\n",
       "Details on meta-analytical method:\n",
       "- Inverse variance method\n",
       "- DerSimonian-Laird estimator for tau^2"
      ]
     },
     "metadata": {},
     "output_type": "display_data"
    }
   ],
   "source": [
    "m.hksj"
   ]
  },
  {
   "cell_type": "code",
   "execution_count": 107,
   "metadata": {},
   "outputs": [
    {
     "data": {
      "text/html": [
       "<strong>png:</strong> 2"
      ],
      "text/latex": [
       "\\textbf{png:} 2"
      ],
      "text/markdown": [
       "**png:** 2"
      ],
      "text/plain": [
       "png \n",
       "  2 "
      ]
     },
     "metadata": {},
     "output_type": "display_data"
    }
   ],
   "source": [
    "pdf(\"T2D_meta_analysis_visc.pdf\", width=10,height=4, bg=\"white\")\n",
    "\n",
    "forest(m.hksj, \n",
    "       sortvar=TE, \n",
    "       digits.sd = 2,\n",
    "       xlim = c(-1,1),  \n",
    "       pooled.totals = FALSE, \n",
    "       smlab = \"\",\n",
    "       rightlabs = c(\"BMI Beta\",\"95% CI\",\"Weight\"),\n",
    "       comb.random=TRUE,\n",
    "       comb.fixed=TRUE,\n",
    "       leftcols=c(\"study\",\"TE\",\"seTE\",'P.value',\"N\"),\n",
    "       leftlabs=c('Cohort','effect','SE','P','N'),\n",
    "       col.diamond = \"blue\",\n",
    "       col.diamond.lines = \"black\",\n",
    "       col.predict = \"black\",\n",
    "       print.tau2 = TRUE,\n",
    "       prediction = FALSE)\n",
    "dev.off()"
   ]
  },
  {
   "cell_type": "code",
   "execution_count": null,
   "metadata": {
    "collapsed": true
   },
   "outputs": [],
   "source": []
  },
  {
   "cell_type": "code",
   "execution_count": null,
   "metadata": {
    "collapsed": true
   },
   "outputs": [],
   "source": []
  }
 ],
 "metadata": {
  "kernelspec": {
   "display_name": "R",
   "language": "R",
   "name": "ir"
  },
  "language_info": {
   "codemirror_mode": "r",
   "file_extension": ".r",
   "mimetype": "text/x-r-source",
   "name": "R",
   "pygments_lexer": "r",
   "version": "3.3.2"
  }
 },
 "nbformat": 4,
 "nbformat_minor": 2
}
