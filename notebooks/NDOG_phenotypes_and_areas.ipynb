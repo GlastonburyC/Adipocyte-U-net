{
 "cells": [
  {
   "cell_type": "code",
   "execution_count": 1,
   "metadata": {
    "scrolled": true
   },
   "outputs": [
    {
     "name": "stderr",
     "output_type": "stream",
     "text": [
      "/apps/well/python/3.5.2-gcc5.4.0/lib/python3.5/site-packages/IPython/html.py:14: ShimWarning: The `IPython.html` package has been deprecated. You should import from `notebook` instead. `IPython.html.widgets` has moved to `ipywidgets`.\n",
      "  \"`IPython.html.widgets` has moved to `ipywidgets`.\", ShimWarning)\n"
     ]
    }
   ],
   "source": [
    "import numpy as np\n",
    "from math import sqrt\n",
    "from skimage.transform import resize\n",
    "import sys\n",
    "import cv2\n",
    "import numpy as np\n",
    "import cv2\n",
    "import glob\n",
    "import pandas as pd\n",
    "import random\n",
    "from matplotlib.image import imsave\n",
    "import mahotas as mh\n",
    "from scipy import ndimage\n",
    "from skimage.measure import regionprops\n",
    "import matplotlib.pyplot as plt\n",
    "import seaborn as sns\n",
    "import statistics\n",
    "from itertools import islice\n",
    "from IPython.display import display_html\n",
    "from statsmodels.regression.linear_model import OLS as lm\n",
    "from IPython.display import display, HTML\n",
    "\n",
    "sns.set_style(\"white\", {'axes.grid' : False})\n",
    "%matplotlib inline\n",
    "sns.set_style(\"white\")\n",
    "import warnings\n",
    "warnings.filterwarnings('ignore')\n",
    "random.seed(1337)"
   ]
  },
  {
   "cell_type": "code",
   "execution_count": 2,
   "metadata": {
    "collapsed": true,
    "scrolled": true
   },
   "outputs": [],
   "source": [
    "def display_side_by_side(*args):\n",
    "    html_str=''\n",
    "    for df in args:\n",
    "        html_str+=df.to_html()\n",
    "    display_html(html_str.replace('table','table style=\"display:inline\"'),raw=True)\n"
   ]
  },
  {
   "cell_type": "code",
   "execution_count": 3,
   "metadata": {
    "collapsed": true,
    "scrolled": true
   },
   "outputs": [],
   "source": [
    "def predict_areas(input_img,mu=False,no=False):\n",
    "    labels, no_objects = ndimage.label(input_img)\n",
    "    props=regionprops(labels) \n",
    "    size={i:props[i].area for i in range (0, no_objects)}\n",
    "    areas=[float(i) * (0.25**2) for i in size.values() if float(i) * (0.25**2) >= 200 and float(i) * (0.25**2) <= 16000]\n",
    "    no_of_cells=len(areas)\n",
    "    if mu and no:\n",
    "        return(areas,np.mean(areas),no_of_cells)\n",
    "    elif mu:\n",
    "        return(areas,np.mean(areas))\n",
    "    else:\n",
    "        return(areas)"
   ]
  },
  {
   "cell_type": "code",
   "execution_count": 4,
   "metadata": {
    "collapsed": true,
    "scrolled": true
   },
   "outputs": [],
   "source": [
    "def plot_me(img_list,x=5,y=5):\n",
    "    i = 1\n",
    "    fig = plt.figure(figsize=(20,25))\n",
    "    for r in random.sample(img_list,len(img_list)):\n",
    "        ax = fig.add_subplot(x,y,i)\n",
    "        i+=1\n",
    "        plt.imshow(plt.imread(r))\n",
    "        plt.title('%s'%'_'.join(r.split('/')[2].split('_')[3:5]))"
   ]
  },
  {
   "cell_type": "code",
   "execution_count": 5,
   "metadata": {},
   "outputs": [
    {
     "data": {
      "text/html": [
       "<div>\n",
       "<style scoped>\n",
       "    .dataframe tbody tr th:only-of-type {\n",
       "        vertical-align: middle;\n",
       "    }\n",
       "\n",
       "    .dataframe tbody tr th {\n",
       "        vertical-align: top;\n",
       "    }\n",
       "\n",
       "    .dataframe thead th {\n",
       "        text-align: right;\n",
       "    }\n",
       "</style>\n",
       "<table border=\"1\" class=\"dataframe\">\n",
       "  <thead>\n",
       "    <tr style=\"text-align: right;\">\n",
       "      <th></th>\n",
       "      <th>index</th>\n",
       "      <th>image</th>\n",
       "      <th>empty</th>\n",
       "      <th>not_adipocyte</th>\n",
       "      <th>adipocyte</th>\n",
       "      <th>sampleID</th>\n",
       "    </tr>\n",
       "  </thead>\n",
       "  <tbody>\n",
       "    <tr>\n",
       "      <th>0</th>\n",
       "      <td>0</td>\n",
       "      <td>12288-78848_ImageCollection_0000000090_2018-05...</td>\n",
       "      <td>0.015654</td>\n",
       "      <td>0.038188</td>\n",
       "      <td>0.946158</td>\n",
       "      <td>ImageCollection</td>\n",
       "    </tr>\n",
       "    <tr>\n",
       "      <th>1</th>\n",
       "      <td>2</td>\n",
       "      <td>13312-54272_ImageCollection_0000000104_2018-05...</td>\n",
       "      <td>0.001704</td>\n",
       "      <td>0.033293</td>\n",
       "      <td>0.965003</td>\n",
       "      <td>ImageCollection</td>\n",
       "    </tr>\n",
       "    <tr>\n",
       "      <th>2</th>\n",
       "      <td>3</td>\n",
       "      <td>13312-55296_ImageCollection_0000000104_2018-05...</td>\n",
       "      <td>0.013140</td>\n",
       "      <td>0.027240</td>\n",
       "      <td>0.959620</td>\n",
       "      <td>ImageCollection</td>\n",
       "    </tr>\n",
       "    <tr>\n",
       "      <th>3</th>\n",
       "      <td>6</td>\n",
       "      <td>13312-78848_ImageCollection_0000000090_2018-05...</td>\n",
       "      <td>0.000231</td>\n",
       "      <td>0.001170</td>\n",
       "      <td>0.998599</td>\n",
       "      <td>ImageCollection</td>\n",
       "    </tr>\n",
       "    <tr>\n",
       "      <th>4</th>\n",
       "      <td>7</td>\n",
       "      <td>13312-79872_ImageCollection_0000000090_2018-05...</td>\n",
       "      <td>0.000975</td>\n",
       "      <td>0.006510</td>\n",
       "      <td>0.992515</td>\n",
       "      <td>ImageCollection</td>\n",
       "    </tr>\n",
       "  </tbody>\n",
       "</table>\n",
       "</div>"
      ],
      "text/plain": [
       "   index                                              image     empty  \\\n",
       "0      0  12288-78848_ImageCollection_0000000090_2018-05...  0.015654   \n",
       "1      2  13312-54272_ImageCollection_0000000104_2018-05...  0.001704   \n",
       "2      3  13312-55296_ImageCollection_0000000104_2018-05...  0.013140   \n",
       "3      6  13312-78848_ImageCollection_0000000090_2018-05...  0.000231   \n",
       "4      7  13312-79872_ImageCollection_0000000090_2018-05...  0.000975   \n",
       "\n",
       "   not_adipocyte  adipocyte         sampleID  \n",
       "0       0.038188   0.946158  ImageCollection  \n",
       "1       0.033293   0.965003  ImageCollection  \n",
       "2       0.027240   0.959620  ImageCollection  \n",
       "3       0.001170   0.998599  ImageCollection  \n",
       "4       0.006510   0.992515  ImageCollection  "
      ]
     },
     "execution_count": 5,
     "metadata": {},
     "output_type": "execute_result"
    }
   ],
   "source": [
    "test_tiles=pd.read_csv('adipoTiles.labeled.csv',index_col=0)\n",
    "test_tiles.head()\n",
    "adipocyte_tiles = test_tiles[test_tiles['sampleID'] =='ImageCollection'].reset_index()\n",
    "adipocyte_tiles = adipocyte_tiles[adipocyte_tiles['adipocyte'] > 0.90].reset_index()\n",
    "adipocyte_tiles.head()"
   ]
  },
  {
   "cell_type": "code",
   "execution_count": null,
   "metadata": {
    "collapsed": true
   },
   "outputs": [],
   "source": []
  },
  {
   "cell_type": "code",
   "execution_count": 6,
   "metadata": {
    "collapsed": true
   },
   "outputs": [],
   "source": [
    "adipocyte_tiles['filename'] = [\"_\".join(x.split('_')[1:-1])+'.scn' for x in adipocyte_tiles['image']]"
   ]
  },
  {
   "cell_type": "code",
   "execution_count": 7,
   "metadata": {
    "collapsed": true
   },
   "outputs": [],
   "source": [
    "adipocyte_tiles['filename'] = [x.split(' ')[0] for x in adipocyte_tiles['filename']]"
   ]
  },
  {
   "cell_type": "code",
   "execution_count": 8,
   "metadata": {
    "collapsed": true
   },
   "outputs": [],
   "source": [
    "sample_info = pd.read_csv('NDOG_histology_IDs_and_quality.csv')"
   ]
  },
  {
   "cell_type": "code",
   "execution_count": 9,
   "metadata": {
    "collapsed": true
   },
   "outputs": [],
   "source": [
    "sample_info['filename'] = [x.split(' ')[0] for x in sample_info['filename']]"
   ]
  },
  {
   "cell_type": "code",
   "execution_count": 10,
   "metadata": {},
   "outputs": [
    {
     "data": {
      "text/plain": [
       "530"
      ]
     },
     "execution_count": 10,
     "metadata": {},
     "output_type": "execute_result"
    }
   ],
   "source": [
    "len(sample_info)"
   ]
  },
  {
   "cell_type": "code",
   "execution_count": 11,
   "metadata": {
    "collapsed": true
   },
   "outputs": [],
   "source": [
    "sample_info = sample_info[sample_info['adipose'] == 'Y'].reset_index()\n",
    "sample_info = sample_info[sample_info['quality'] == 'G'].reset_index()"
   ]
  },
  {
   "cell_type": "code",
   "execution_count": 12,
   "metadata": {},
   "outputs": [
    {
     "data": {
      "text/plain": [
       "119193"
      ]
     },
     "execution_count": 12,
     "metadata": {},
     "output_type": "execute_result"
    }
   ],
   "source": [
    "len(adipocyte_tiles)"
   ]
  },
  {
   "cell_type": "code",
   "execution_count": 13,
   "metadata": {
    "collapsed": true
   },
   "outputs": [],
   "source": [
    "adipocyte_tiles = pd.merge(adipocyte_tiles, sample_info, on='filename').reset_index()"
   ]
  },
  {
   "cell_type": "code",
   "execution_count": 14,
   "metadata": {},
   "outputs": [
    {
     "data": {
      "text/html": [
       "<div>\n",
       "<style scoped>\n",
       "    .dataframe tbody tr th:only-of-type {\n",
       "        vertical-align: middle;\n",
       "    }\n",
       "\n",
       "    .dataframe tbody tr th {\n",
       "        vertical-align: top;\n",
       "    }\n",
       "\n",
       "    .dataframe thead th {\n",
       "        text-align: right;\n",
       "    }\n",
       "</style>\n",
       "<table border=\"1\" class=\"dataframe\">\n",
       "  <thead>\n",
       "    <tr style=\"text-align: right;\">\n",
       "      <th></th>\n",
       "      <th>index</th>\n",
       "      <th>index_x</th>\n",
       "      <th>image</th>\n",
       "      <th>empty</th>\n",
       "      <th>not_adipocyte</th>\n",
       "      <th>adipocyte</th>\n",
       "      <th>sampleID</th>\n",
       "      <th>filename</th>\n",
       "      <th>level_0</th>\n",
       "      <th>index_y</th>\n",
       "      <th>ID</th>\n",
       "      <th>depot</th>\n",
       "      <th>mount_date</th>\n",
       "      <th>adipose</th>\n",
       "      <th>quality</th>\n",
       "    </tr>\n",
       "  </thead>\n",
       "  <tbody>\n",
       "    <tr>\n",
       "      <th>0</th>\n",
       "      <td>0</td>\n",
       "      <td>0</td>\n",
       "      <td>12288-78848_ImageCollection_0000000090_2018-05...</td>\n",
       "      <td>0.015654</td>\n",
       "      <td>0.038188</td>\n",
       "      <td>0.946158</td>\n",
       "      <td>ImageCollection</td>\n",
       "      <td>ImageCollection_0000000090_2018-05-12</td>\n",
       "      <td>26</td>\n",
       "      <td>38</td>\n",
       "      <td>EX0198-F01</td>\n",
       "      <td>subcutaneous</td>\n",
       "      <td>13-Apr</td>\n",
       "      <td>Y</td>\n",
       "      <td>G</td>\n",
       "    </tr>\n",
       "    <tr>\n",
       "      <th>1</th>\n",
       "      <td>1</td>\n",
       "      <td>6</td>\n",
       "      <td>13312-78848_ImageCollection_0000000090_2018-05...</td>\n",
       "      <td>0.000231</td>\n",
       "      <td>0.001170</td>\n",
       "      <td>0.998599</td>\n",
       "      <td>ImageCollection</td>\n",
       "      <td>ImageCollection_0000000090_2018-05-12</td>\n",
       "      <td>26</td>\n",
       "      <td>38</td>\n",
       "      <td>EX0198-F01</td>\n",
       "      <td>subcutaneous</td>\n",
       "      <td>13-Apr</td>\n",
       "      <td>Y</td>\n",
       "      <td>G</td>\n",
       "    </tr>\n",
       "    <tr>\n",
       "      <th>2</th>\n",
       "      <td>2</td>\n",
       "      <td>7</td>\n",
       "      <td>13312-79872_ImageCollection_0000000090_2018-05...</td>\n",
       "      <td>0.000975</td>\n",
       "      <td>0.006510</td>\n",
       "      <td>0.992515</td>\n",
       "      <td>ImageCollection</td>\n",
       "      <td>ImageCollection_0000000090_2018-05-12</td>\n",
       "      <td>26</td>\n",
       "      <td>38</td>\n",
       "      <td>EX0198-F01</td>\n",
       "      <td>subcutaneous</td>\n",
       "      <td>13-Apr</td>\n",
       "      <td>Y</td>\n",
       "      <td>G</td>\n",
       "    </tr>\n",
       "    <tr>\n",
       "      <th>3</th>\n",
       "      <td>3</td>\n",
       "      <td>8</td>\n",
       "      <td>13312-80896_ImageCollection_0000000090_2018-05...</td>\n",
       "      <td>0.000651</td>\n",
       "      <td>0.002280</td>\n",
       "      <td>0.997069</td>\n",
       "      <td>ImageCollection</td>\n",
       "      <td>ImageCollection_0000000090_2018-05-12</td>\n",
       "      <td>26</td>\n",
       "      <td>38</td>\n",
       "      <td>EX0198-F01</td>\n",
       "      <td>subcutaneous</td>\n",
       "      <td>13-Apr</td>\n",
       "      <td>Y</td>\n",
       "      <td>G</td>\n",
       "    </tr>\n",
       "    <tr>\n",
       "      <th>4</th>\n",
       "      <td>4</td>\n",
       "      <td>9</td>\n",
       "      <td>13312-81920_ImageCollection_0000000090_2018-05...</td>\n",
       "      <td>0.000183</td>\n",
       "      <td>0.000427</td>\n",
       "      <td>0.999390</td>\n",
       "      <td>ImageCollection</td>\n",
       "      <td>ImageCollection_0000000090_2018-05-12</td>\n",
       "      <td>26</td>\n",
       "      <td>38</td>\n",
       "      <td>EX0198-F01</td>\n",
       "      <td>subcutaneous</td>\n",
       "      <td>13-Apr</td>\n",
       "      <td>Y</td>\n",
       "      <td>G</td>\n",
       "    </tr>\n",
       "  </tbody>\n",
       "</table>\n",
       "</div>"
      ],
      "text/plain": [
       "   index  index_x                                              image  \\\n",
       "0      0        0  12288-78848_ImageCollection_0000000090_2018-05...   \n",
       "1      1        6  13312-78848_ImageCollection_0000000090_2018-05...   \n",
       "2      2        7  13312-79872_ImageCollection_0000000090_2018-05...   \n",
       "3      3        8  13312-80896_ImageCollection_0000000090_2018-05...   \n",
       "4      4        9  13312-81920_ImageCollection_0000000090_2018-05...   \n",
       "\n",
       "      empty  not_adipocyte  adipocyte         sampleID  \\\n",
       "0  0.015654       0.038188   0.946158  ImageCollection   \n",
       "1  0.000231       0.001170   0.998599  ImageCollection   \n",
       "2  0.000975       0.006510   0.992515  ImageCollection   \n",
       "3  0.000651       0.002280   0.997069  ImageCollection   \n",
       "4  0.000183       0.000427   0.999390  ImageCollection   \n",
       "\n",
       "                                filename  level_0  index_y          ID  \\\n",
       "0  ImageCollection_0000000090_2018-05-12       26       38  EX0198-F01   \n",
       "1  ImageCollection_0000000090_2018-05-12       26       38  EX0198-F01   \n",
       "2  ImageCollection_0000000090_2018-05-12       26       38  EX0198-F01   \n",
       "3  ImageCollection_0000000090_2018-05-12       26       38  EX0198-F01   \n",
       "4  ImageCollection_0000000090_2018-05-12       26       38  EX0198-F01   \n",
       "\n",
       "          depot mount_date adipose quality  \n",
       "0  subcutaneous     13-Apr       Y       G  \n",
       "1  subcutaneous     13-Apr       Y       G  \n",
       "2  subcutaneous     13-Apr       Y       G  \n",
       "3  subcutaneous     13-Apr       Y       G  \n",
       "4  subcutaneous     13-Apr       Y       G  "
      ]
     },
     "execution_count": 14,
     "metadata": {},
     "output_type": "execute_result"
    }
   ],
   "source": [
    "adipocyte_tiles.head()"
   ]
  },
  {
   "cell_type": "code",
   "execution_count": 15,
   "metadata": {},
   "outputs": [
    {
     "data": {
      "text/plain": [
       "114627"
      ]
     },
     "execution_count": 15,
     "metadata": {},
     "output_type": "execute_result"
    }
   ],
   "source": [
    "len(adipocyte_tiles)"
   ]
  },
  {
   "cell_type": "code",
   "execution_count": 16,
   "metadata": {
    "scrolled": true
   },
   "outputs": [
    {
     "data": {
      "text/plain": [
       "['../NDOG_histology/patches/ImageCollection_0000000049_2018-05-12 17_19_56/39936-102400_ImageCollection_0000000049_2018-05-12 17_19_56.scn.jpg',\n",
       " '../NDOG_histology/patches/ImageCollection_0000000049_2018-05-12 17_19_56/39936-105472_ImageCollection_0000000049_2018-05-12 17_19_56.scn.jpg',\n",
       " '../NDOG_histology/patches/ImageCollection_0000000049_2018-05-12 17_19_56/39936-61440_ImageCollection_0000000049_2018-05-12 17_19_56.scn.jpg',\n",
       " '../NDOG_histology/patches/ImageCollection_0000000049_2018-05-12 17_19_56/39936-62464_ImageCollection_0000000049_2018-05-12 17_19_56.scn.jpg',\n",
       " '../NDOG_histology/patches/ImageCollection_0000000049_2018-05-12 17_19_56/39936-63488_ImageCollection_0000000049_2018-05-12 17_19_56.scn.jpg']"
      ]
     },
     "execution_count": 16,
     "metadata": {},
     "output_type": "execute_result"
    }
   ],
   "source": [
    "import pandas as pd\n",
    "\n",
    "test_tiles=sorted(glob.glob('../NDOG_histology/patches/*/*.jpg'))\n",
    "test_tiles[0:5]\n"
   ]
  },
  {
   "cell_type": "code",
   "execution_count": 17,
   "metadata": {
    "collapsed": true
   },
   "outputs": [],
   "source": [
    "new_test_tiles = []\n",
    "for entry in test_tiles:\n",
    "    if entry.split('/')[-1] in adipocyte_tiles['image'].tolist():\n",
    "        new_test_tiles.append(entry)"
   ]
  },
  {
   "cell_type": "code",
   "execution_count": 18,
   "metadata": {},
   "outputs": [
    {
     "data": {
      "text/plain": [
       "['../NDOG_histology/patches/ImageCollection_0000000049_2018-05-12 17_19_56/40960-108544_ImageCollection_0000000049_2018-05-12 17_19_56.scn.jpg',\n",
       " '../NDOG_histology/patches/ImageCollection_0000000049_2018-05-12 17_19_56/40960-109568_ImageCollection_0000000049_2018-05-12 17_19_56.scn.jpg',\n",
       " '../NDOG_histology/patches/ImageCollection_0000000049_2018-05-12 17_19_56/40960-110592_ImageCollection_0000000049_2018-05-12 17_19_56.scn.jpg',\n",
       " '../NDOG_histology/patches/ImageCollection_0000000049_2018-05-12 17_19_56/40960-111616_ImageCollection_0000000049_2018-05-12 17_19_56.scn.jpg',\n",
       " '../NDOG_histology/patches/ImageCollection_0000000049_2018-05-12 17_19_56/40960-56320_ImageCollection_0000000049_2018-05-12 17_19_56.scn.jpg']"
      ]
     },
     "execution_count": 18,
     "metadata": {},
     "output_type": "execute_result"
    }
   ],
   "source": [
    "test_tiles = sorted(new_test_tiles)\n",
    "test_tiles[0:5]"
   ]
  },
  {
   "cell_type": "code",
   "execution_count": 19,
   "metadata": {
    "scrolled": true
   },
   "outputs": [
    {
     "data": {
      "text/plain": [
       "['predicted_masks/NDOG/Pred_Mask_12288-78848_ImageCollection_0000000090_2018-05-12 16_10_07.png',\n",
       " 'predicted_masks/NDOG/Pred_Mask_13312-54272_ImageCollection_0000000104_2018-05-12 15_52_26.png',\n",
       " 'predicted_masks/NDOG/Pred_Mask_13312-55296_ImageCollection_0000000104_2018-05-12 15_52_26.png',\n",
       " 'predicted_masks/NDOG/Pred_Mask_13312-78848_ImageCollection_0000000090_2018-05-12 16_10_07.png',\n",
       " 'predicted_masks/NDOG/Pred_Mask_13312-79872_ImageCollection_0000000090_2018-05-12 16_10_07.png']"
      ]
     },
     "execution_count": 19,
     "metadata": {},
     "output_type": "execute_result"
    }
   ],
   "source": [
    "seg_masks = sorted(glob.glob('predicted_masks/NDOG/*.png'))\n",
    "seg_masks[0:5]"
   ]
  },
  {
   "cell_type": "code",
   "execution_count": 20,
   "metadata": {},
   "outputs": [
    {
     "data": {
      "text/plain": [
       "(114627, 119193)"
      ]
     },
     "execution_count": 20,
     "metadata": {},
     "output_type": "execute_result"
    }
   ],
   "source": [
    "len(test_tiles),len(seg_masks)"
   ]
  },
  {
   "cell_type": "code",
   "execution_count": 22,
   "metadata": {
    "collapsed": true
   },
   "outputs": [],
   "source": [
    "# '_'.join(x.split('/')[4].split('_')[0:3]) # test_tiles"
   ]
  },
  {
   "cell_type": "code",
   "execution_count": 23,
   "metadata": {
    "collapsed": true
   },
   "outputs": [],
   "source": [
    "test_tiles_filterer = ['_'.join(x.split('/')[4].split('_')[0:3]) for x in test_tiles]\n",
    "\n",
    "new_seg_masks = []\n",
    "for im in seg_masks:\n",
    "    if '_'.join(im.split('/')[-1].split('Mask_')[1].split('_')[0:3]) in test_tiles_filterer:\n",
    "        new_seg_masks.append(im)\n",
    "    \n",
    "seg_masks = new_seg_masks "
   ]
  },
  {
   "cell_type": "code",
   "execution_count": 21,
   "metadata": {},
   "outputs": [
    {
     "data": {
      "text/plain": [
       "(114627, 119193)"
      ]
     },
     "execution_count": 21,
     "metadata": {},
     "output_type": "execute_result"
    }
   ],
   "source": [
    "len(test_tiles),len(seg_masks)"
   ]
  },
  {
   "cell_type": "code",
   "execution_count": 25,
   "metadata": {
    "collapsed": true,
    "scrolled": true
   },
   "outputs": [],
   "source": [
    "# count cells and measure their areas from the stored, predicted, segmentation masks."
   ]
  },
  {
   "cell_type": "code",
   "execution_count": 26,
   "metadata": {
    "scrolled": true
   },
   "outputs": [
    {
     "name": "stdout",
     "output_type": "stream",
     "text": [
      "Average adipocyte area for this tile is 1624.6um and number of cells present is 9\n"
     ]
    }
   ],
   "source": [
    "# example prediction\n",
    "\n",
    "ex_img = cv2.imread(seg_masks[5],0)\n",
    "\n",
    "cell_areas,mu_area,no_cells = predict_areas(ex_img,mu=True,no=True)\n",
    "\n",
    "print('Average adipocyte area for this tile is {0:.1f}um and number of\\\n",
    " cells present is {1:}'.format(mu_area,no_cells))\n"
   ]
  },
  {
   "cell_type": "code",
   "execution_count": 29,
   "metadata": {},
   "outputs": [
    {
     "data": {
      "text/plain": [
       "<matplotlib.image.AxesImage at 0x7f78963e73c8>"
      ]
     },
     "execution_count": 29,
     "metadata": {},
     "output_type": "execute_result"
    },
    {
     "data": {
      "image/png": "[encoded data removed]",
      "text/plain": [
       "<Figure size 432x288 with 1 Axes>"
      ]
     },
     "metadata": {},
     "output_type": "display_data"
    }
   ],
   "source": [
    "plt.imshow(ex_img)"
   ]
  },
  {
   "cell_type": "markdown",
   "metadata": {},
   "source": [
    "example segmentation masks - majority are high quality. False segmentations such as background are filtered out - For some poor quality tiles (H&E dye failed) segmentations will also be bad - will assess suitable threshold."
   ]
  },
  {
   "cell_type": "code",
   "execution_count": 30,
   "metadata": {
    "scrolled": false
   },
   "outputs": [
    {
     "data": {
      "image/png": "[encoded data removed]",
      "text/plain": [
       "<Figure size 1440x1800 with 25 Axes>"
      ]
     },
     "metadata": {},
     "output_type": "display_data"
    }
   ],
   "source": [
    "plot_me(list(np.random.choice(seg_masks,size=25)))"
   ]
  },
  {
   "cell_type": "code",
   "execution_count": 31,
   "metadata": {
    "collapsed": true,
    "scrolled": true
   },
   "outputs": [],
   "source": [
    "from tqdm import tqdm"
   ]
  },
  {
   "cell_type": "code",
   "execution_count": 32,
   "metadata": {},
   "outputs": [
    {
     "data": {
      "text/plain": [
       "['40960-108544', 'ImageCollection', '0000000049']"
      ]
     },
     "execution_count": 32,
     "metadata": {},
     "output_type": "execute_result"
    }
   ],
   "source": [
    "test_tiles[0].split('/')[4].split('_')[0:3]"
   ]
  },
  {
   "cell_type": "code",
   "execution_count": 22,
   "metadata": {
    "collapsed": true
   },
   "outputs": [],
   "source": [
    "seg_masks.sort(key = lambda x: x.split('/')[2].split('_')[2:5])\n",
    "test_tiles.sort(key = lambda x: x.split('/')[4].split('_')[0:3])"
   ]
  },
  {
   "cell_type": "code",
   "execution_count": 23,
   "metadata": {
    "collapsed": true
   },
   "outputs": [],
   "source": [
    "adipocyte_tiles.sort_values(by=['image'],inplace=True,ascending=True)"
   ]
  },
  {
   "cell_type": "code",
   "execution_count": 24,
   "metadata": {},
   "outputs": [
    {
     "data": {
      "text/plain": [
       "(['../NDOG_histology/patches/ImageCollection_0000000090_2018-05-12 16_10_07/12288-78848_ImageCollection_0000000090_2018-05-12 16_10_07.scn.jpg',\n",
       "  '../NDOG_histology/patches/ImageCollection_0000000104_2018-05-12 15_52_26/13312-54272_ImageCollection_0000000104_2018-05-12 15_52_26.scn.jpg',\n",
       "  '../NDOG_histology/patches/ImageCollection_0000000104_2018-05-12 15_52_26/13312-55296_ImageCollection_0000000104_2018-05-12 15_52_26.scn.jpg',\n",
       "  '../NDOG_histology/patches/ImageCollection_0000000090_2018-05-12 16_10_07/13312-78848_ImageCollection_0000000090_2018-05-12 16_10_07.scn.jpg',\n",
       "  '../NDOG_histology/patches/ImageCollection_0000000090_2018-05-12 16_10_07/13312-79872_ImageCollection_0000000090_2018-05-12 16_10_07.scn.jpg'],\n",
       " ['predicted_masks/NDOG/Pred_Mask_12288-78848_ImageCollection_0000000090_2018-05-12 16_10_07.png',\n",
       "  'predicted_masks/NDOG/Pred_Mask_13312-54272_ImageCollection_0000000104_2018-05-12 15_52_26.png',\n",
       "  'predicted_masks/NDOG/Pred_Mask_13312-55296_ImageCollection_0000000104_2018-05-12 15_52_26.png',\n",
       "  'predicted_masks/NDOG/Pred_Mask_13312-78848_ImageCollection_0000000090_2018-05-12 16_10_07.png',\n",
       "  'predicted_masks/NDOG/Pred_Mask_13312-79872_ImageCollection_0000000090_2018-05-12 16_10_07.png'])"
      ]
     },
     "execution_count": 24,
     "metadata": {},
     "output_type": "execute_result"
    }
   ],
   "source": [
    "test_tiles[0:5],seg_masks[0:5]"
   ]
  },
  {
   "cell_type": "code",
   "execution_count": 36,
   "metadata": {
    "scrolled": true
   },
   "outputs": [
    {
     "name": "stderr",
     "output_type": "stream",
     "text": [
      "100%|██████████| 114627/114627 [1:02:33<00:00, 30.54it/s]\n"
     ]
    }
   ],
   "source": [
    "#For each preproduced segmentation mask, calculate the area of all cells, the average and the count \n",
    "measurements = []\n",
    "with open('NDOG_areas','w') as out:\n",
    "    for i in tqdm(seg_masks):\n",
    "        prd_meas = predict_areas(cv2.imread(i,0))\n",
    "        # list of cell areas, followed by average area and count of cells.\n",
    "        measurements.append(prd_meas)\n",
    "\n",
    "measurements = np.array(measurements)\n",
    "np.save('NDOG_measurements.npy',measurements)"
   ]
  },
  {
   "cell_type": "code",
   "execution_count": 25,
   "metadata": {
    "collapsed": true,
    "scrolled": true
   },
   "outputs": [],
   "source": [
    "# run the above cell previously, so we'll load in the data now.\n",
    "measurements = np.load('NDOG_measurements.npy')"
   ]
  },
  {
   "cell_type": "code",
   "execution_count": 26,
   "metadata": {
    "scrolled": true
   },
   "outputs": [
    {
     "data": {
      "text/plain": [
       "(114627, 119193, 114627)"
      ]
     },
     "execution_count": 26,
     "metadata": {},
     "output_type": "execute_result"
    }
   ],
   "source": [
    "len(test_tiles),len(seg_masks),len(measurements)\n"
   ]
  },
  {
   "cell_type": "code",
   "execution_count": 27,
   "metadata": {
    "collapsed": true,
    "scrolled": true
   },
   "outputs": [],
   "source": [
    "# filter out the 1500 seg masks that have counts under 20 (0.63% of all masks)\n",
    "seg_masks_filt= seg_masks\n",
    "measurements_filt = measurements\n"
   ]
  },
  {
   "cell_type": "code",
   "execution_count": 28,
   "metadata": {
    "scrolled": true
   },
   "outputs": [
    {
     "data": {
      "text/plain": [
       "(119193, 114627)"
      ]
     },
     "execution_count": 28,
     "metadata": {},
     "output_type": "execute_result"
    }
   ],
   "source": [
    "len(seg_masks_filt),len(measurements_filt)"
   ]
  },
  {
   "cell_type": "code",
   "execution_count": 29,
   "metadata": {
    "scrolled": true
   },
   "outputs": [
    {
     "name": "stdout",
     "output_type": "stream",
     "text": [
      "Total number of cells measured in experiment: 1412367\n"
     ]
    }
   ],
   "source": [
    "print('Total number of cells measured in experiment: {}'.format(sum([len(a) for a in measurements_filt])))"
   ]
  },
  {
   "cell_type": "code",
   "execution_count": null,
   "metadata": {
    "collapsed": true
   },
   "outputs": [],
   "source": []
  },
  {
   "cell_type": "code",
   "execution_count": 30,
   "metadata": {
    "collapsed": true
   },
   "outputs": [],
   "source": [
    "# create list of indexes that seperate subcutaneous from visceral tiles.\n",
    "subq_tiles_filt = list(np.where(np.array(adipocyte_tiles['depot']) =='subcutaneous')[0])\n",
    "visceral_tiles_filt = list(np.where(np.array(adipocyte_tiles['depot']) =='visceral')[0])"
   ]
  },
  {
   "cell_type": "code",
   "execution_count": 31,
   "metadata": {},
   "outputs": [
    {
     "name": "stdout",
     "output_type": "stream",
     "text": [
      "subq: 94153, visceral: 20474, total tiles: 114627\n"
     ]
    }
   ],
   "source": [
    "print('subq: {}, visceral: {}, total tiles: {}'.format(len(subq_tiles_filt),len(visceral_tiles_filt),len(visceral_tiles_filt)+len(subq_tiles_filt)))"
   ]
  },
  {
   "cell_type": "code",
   "execution_count": 32,
   "metadata": {
    "collapsed": true
   },
   "outputs": [],
   "source": [
    "from operator import itemgetter"
   ]
  },
  {
   "cell_type": "code",
   "execution_count": 33,
   "metadata": {
    "collapsed": true
   },
   "outputs": [],
   "source": [
    "# obtain subq and visceral measurements\n",
    "subq_measurements_filt = itemgetter(*subq_tiles_filt)(measurements_filt)\n",
    "visceral_measurements_filt = itemgetter(*visceral_tiles_filt)(measurements_filt)\n",
    "\n",
    "subq_seg_masks_filt=itemgetter(*subq_tiles_filt)(seg_masks_filt)\n",
    "visceral_seg_masks_filt=itemgetter(*visceral_tiles_filt)(seg_masks_filt)"
   ]
  },
  {
   "cell_type": "code",
   "execution_count": 34,
   "metadata": {
    "collapsed": true,
    "scrolled": true
   },
   "outputs": [],
   "source": [
    "subq_mean_areas = np.array([np.mean(i) for i in subq_measurements_filt])\n",
    "visc_mean_areas = np.array([np.mean(i) for i in visceral_measurements_filt])"
   ]
  },
  {
   "cell_type": "code",
   "execution_count": 64,
   "metadata": {},
   "outputs": [
    {
     "name": "stdout",
     "output_type": "stream",
     "text": [
      "Clear difference in means between depots:-\n",
      "Subq: 1773.06 +/- 826.94 \n",
      "Visceral: 1796.93 +/- 790.20\n"
     ]
    }
   ],
   "source": [
    "from scipy import stats\n",
    "from scipy.stats import ttest_ind as ttest\n",
    "\n",
    "print('Clear difference in means between depots:-\\nSubq: {0:.2f} +/- {1:.2f} \\nVisceral:\\\n",
    " {2:.2f} +/- {3:.2f}'.format(np.nanmean(subq_mean_areas),np.nanstd(subq_mean_areas),\n",
    "                             np.nanmean(visc_mean_areas),np.nanstd(visc_mean_areas)))\n",
    "\n",
    "#ttest(subq_mean_areas,visc_mean_areas,equal_var=False)"
   ]
  },
  {
   "cell_type": "code",
   "execution_count": 35,
   "metadata": {
    "collapsed": true,
    "scrolled": true
   },
   "outputs": [],
   "source": [
    "subq_areas = pd.DataFrame(\n",
    "    {'mean_areas': subq_mean_areas,\n",
    "     'tissue': np.repeat('Subcutaneous',len(subq_mean_areas))\n",
    "    })\n",
    "\n",
    "visc_areas = pd.DataFrame(\n",
    "    {'mean_areas': visc_mean_areas,\n",
    "     'tissue': np.repeat('Visceral',len(visc_mean_areas))\n",
    "    })"
   ]
  },
  {
   "cell_type": "code",
   "execution_count": 36,
   "metadata": {
    "collapsed": true,
    "scrolled": true
   },
   "outputs": [],
   "source": [
    "from collections import defaultdict\n",
    "\n",
    "subq_samples=defaultdict(list)\n",
    "visc_samples=defaultdict(list)"
   ]
  },
  {
   "cell_type": "markdown",
   "metadata": {},
   "source": [
    "**Now, we need to operate at the individual sample level. So we will create a dictionary {Exeter_ID}: [areas]**"
   ]
  },
  {
   "cell_type": "code",
   "execution_count": 37,
   "metadata": {
    "collapsed": true,
    "scrolled": true
   },
   "outputs": [],
   "source": [
    "# Some Subq samples have no tiles after this filtering.\n",
    "for i,a in enumerate(subq_measurements_filt):\n",
    "    NDOG_ID = '_'.join(subq_seg_masks_filt[i].split('/')[2].split('_')[3:5])\n",
    "    try:\n",
    "        if len(subq_measurements_filt[i]) == 0:\n",
    "            next\n",
    "        else:\n",
    "            subq_samples[NDOG_ID].append(subq_measurements_filt[i])\n",
    "    except KeyError:\n",
    "        if len(subq_measurements_filt[i]) == 0:\n",
    "            next\n",
    "        else:\n",
    "            subq_samples[NDOG_ID] = subq_measurements_filt[i]\n"
   ]
  },
  {
   "cell_type": "code",
   "execution_count": 38,
   "metadata": {
    "collapsed": true,
    "scrolled": true
   },
   "outputs": [],
   "source": [
    "# Some Subq samples have no tiles after this filtering.\n",
    "for i,a in enumerate(visceral_measurements_filt):\n",
    "    NDOG_ID = '_'.join(visceral_seg_masks_filt[i].split('/')[2].split('_')[3:5])\n",
    "    try:\n",
    "        if len(visceral_measurements_filt[i]) == 0:\n",
    "            next\n",
    "        else:\n",
    "            visc_samples[NDOG_ID].append(visceral_measurements_filt[i])\n",
    "    except KeyError:\n",
    "        if len(visceral_measurements_filt[i]) == 0:\n",
    "            next\n",
    "        else:\n",
    "            visc_samples[NDOG_ID] = visceral_measurements_filt[i]"
   ]
  },
  {
   "cell_type": "code",
   "execution_count": 39,
   "metadata": {},
   "outputs": [
    {
     "data": {
      "text/plain": [
       "'ImageCollection_0000000360'"
      ]
     },
     "execution_count": 39,
     "metadata": {},
     "output_type": "execute_result"
    }
   ],
   "source": [
    "'_'.join(seg_masks_filt[i].split('/')[-1].split('_')[3:5])"
   ]
  },
  {
   "cell_type": "code",
   "execution_count": 40,
   "metadata": {
    "scrolled": true
   },
   "outputs": [
    {
     "name": "stdout",
     "output_type": "stream",
     "text": [
      "ImageCollection_0000005054 has 360 tiles containing 4257 unique adipocyte measurements\n"
     ]
    }
   ],
   "source": [
    "example_id = [item for sublist in subq_samples['ImageCollection_0000005054'] for item in sublist]\n",
    "print('ImageCollection_0000005054 has {} tiles containing {} unique adipocyte measurements'.format(len(subq_samples['ImageCollection_0000005054']),len(example_id)))"
   ]
  },
  {
   "cell_type": "code",
   "execution_count": 41,
   "metadata": {
    "collapsed": true,
    "scrolled": true
   },
   "outputs": [],
   "source": [
    "# lets set a seed and do some random sampling. We want to assess how the variance changes for adipocyte\n",
    "# area estimates when measuring 3, 10, 100, 500 and 1000 cells.\n",
    "\n",
    "np.random.seed(1337)\n",
    "def simulate_cells(n,data,mean=True):\n",
    "    sub=[]\n",
    "    for i in range(100):\n",
    "        if mean == True:\n",
    "            sub.append(statistics.mean(np.random.choice(data,n)))\n",
    "        else:\n",
    "            sub.append(statistics.stdev(np.random.choice(data,n)))\n",
    "    return (sub)\n",
    "    "
   ]
  },
  {
   "cell_type": "code",
   "execution_count": 42,
   "metadata": {
    "collapsed": true,
    "scrolled": true
   },
   "outputs": [],
   "source": [
    "three = simulate_cells(n=3,data=example_id)\n",
    "ten = simulate_cells(n=10,data=example_id)\n",
    "hundred = simulate_cells(n=100,data=example_id)\n",
    "fivehundred = simulate_cells(n=500,data=example_id)\n",
    "thousand = simulate_cells(n=1000,data=example_id)"
   ]
  },
  {
   "cell_type": "code",
   "execution_count": 43,
   "metadata": {
    "collapsed": true,
    "scrolled": true
   },
   "outputs": [],
   "source": [
    "simulation = pd.DataFrame(\n",
    "    {'1000': thousand,\n",
    "     '500': fivehundred,\n",
    "     '100': hundred,\n",
    "     '10':ten,\n",
    "     '3': three\n",
    "    })"
   ]
  },
  {
   "cell_type": "code",
   "execution_count": 45,
   "metadata": {
    "scrolled": false
   },
   "outputs": [
    {
     "data": {
      "image/png": "[encoded data removed]",
      "text/plain": [
       "<Figure size 720x432 with 1 Axes>"
      ]
     },
     "metadata": {},
     "output_type": "display_data"
    }
   ],
   "source": [
    "plt.figure(figsize=(10,6))\n",
    "plt.rcParams[\"axes.labelsize\"] = 20\n",
    "plt.rcParams[\"xtick.labelsize\"] = 15\n",
    "plt.rcParams[\"ytick.labelsize\"] = 15\n",
    "sns.set_style(\"white\")\n",
    "ax = sns.boxplot(data=simulation,order=['3','10','100','500','1000'])\n",
    "ax = sns.swarmplot(data=simulation, color=\".25\",order=['3','10','100','500','1000'],alpha=.3)\n",
    "plt.xlabel('Number of cells sampled',fontsize=20)\n",
    "plt.ylabel('Average adipocyte area ($\\mu m^{2}$)',fontsize=20)\n",
    "plt.title('Monte Carlo sampling of adipocytes',fontsize=20)\n",
    "plt.savefig('mc_sampling_NDOG.pdf')"
   ]
  },
  {
   "cell_type": "markdown",
   "metadata": {},
   "source": [
    "**Lets assess how many cells we have measured per sample (on average)**"
   ]
  },
  {
   "cell_type": "code",
   "execution_count": 46,
   "metadata": {
    "collapsed": true,
    "scrolled": true
   },
   "outputs": [],
   "source": [
    "subq_no_cells_per_sample=[]\n",
    "for key,value in subq_samples.items():\n",
    "    subq_no_cells_per_sample.append(len([item for sublist in subq_samples[key] for item in sublist]))\n",
    "\n",
    "visc_no_cells_per_sample=[]\n",
    "for key,value in visc_samples.items():\n",
    "    visc_no_cells_per_sample.append(len([item for sublist in visc_samples[key] for item in sublist]))"
   ]
  },
  {
   "cell_type": "code",
   "execution_count": 47,
   "metadata": {
    "collapsed": true,
    "scrolled": true
   },
   "outputs": [],
   "source": [
    "subq_no_tiles_per_sample=[]\n",
    "for key,value in subq_samples.items():\n",
    "    subq_no_tiles_per_sample.append(len([item for item in subq_samples[key]]))\n",
    "\n",
    "visc_no_tiles_per_sample=[]\n",
    "for key,value in visc_samples.items():\n",
    "    visc_no_tiles_per_sample.append(len([item for item in visc_samples[key]]))"
   ]
  },
  {
   "cell_type": "code",
   "execution_count": 48,
   "metadata": {
    "scrolled": true
   },
   "outputs": [
    {
     "name": "stdout",
     "output_type": "stream",
     "text": [
      "Subcutaneous histology samples on average have 2560 cells measured\n"
     ]
    }
   ],
   "source": [
    "print('Subcutaneous histology samples on average have {0:.0f} cells measured'.format(np.mean(subq_no_cells_per_sample)))"
   ]
  },
  {
   "cell_type": "code",
   "execution_count": 49,
   "metadata": {},
   "outputs": [
    {
     "name": "stdout",
     "output_type": "stream",
     "text": [
      "Visceral fat histology samples on average have 641 cells measured\n"
     ]
    }
   ],
   "source": [
    "print('Visceral fat histology samples on average have {0:.0f} cells measured'.format(np.mean(visc_no_cells_per_sample)))"
   ]
  },
  {
   "cell_type": "code",
   "execution_count": 50,
   "metadata": {
    "collapsed": true,
    "scrolled": true
   },
   "outputs": [],
   "source": [
    "# return the key value at the nth position in a dictionary\n",
    "def ix(dic, n): \n",
    "   try:\n",
    "       return list(dic)[n]\n",
    "   except IndexError:\n",
    "       print('not enough keys')"
   ]
  },
  {
   "cell_type": "code",
   "execution_count": 51,
   "metadata": {
    "scrolled": true
   },
   "outputs": [
    {
     "data": {
      "text/plain": [
       "'ImageCollection_0000005134'"
      ]
     },
     "execution_count": 51,
     "metadata": {},
     "output_type": "execute_result"
    }
   ],
   "source": [
    "#which sample has the lowest number of adipocytes counted?\n",
    "ix(dic=subq_samples,n=np.argmin(subq_no_cells_per_sample))"
   ]
  },
  {
   "cell_type": "code",
   "execution_count": 52,
   "metadata": {
    "scrolled": true
   },
   "outputs": [
    {
     "data": {
      "text/plain": [
       "'ImageCollection_0000000386'"
      ]
     },
     "execution_count": 52,
     "metadata": {},
     "output_type": "execute_result"
    }
   ],
   "source": [
    "#which sample has the highest number of adipocytes counted?\n",
    "ix(dic=subq_samples,n=np.argmax(subq_no_cells_per_sample))"
   ]
  },
  {
   "cell_type": "code",
   "execution_count": 53,
   "metadata": {
    "collapsed": true,
    "scrolled": true
   },
   "outputs": [],
   "source": [
    "# plot subcutaneous and visceral cell distributions on a single plot.\n",
    "# calculate adipocyte area mean and variance."
   ]
  },
  {
   "cell_type": "code",
   "execution_count": 54,
   "metadata": {
    "collapsed": true,
    "scrolled": true
   },
   "outputs": [],
   "source": [
    "def take(n, iterable):\n",
    "    \"Return first n items of the iterable as a list\"\n",
    "    return list(islice(iterable, n))"
   ]
  },
  {
   "cell_type": "markdown",
   "metadata": {},
   "source": [
    "**Lets plot the adipocyte area distributions for all cells across all samples:**"
   ]
  },
  {
   "cell_type": "code",
   "execution_count": 55,
   "metadata": {
    "scrolled": false
   },
   "outputs": [
    {
     "data": {
      "text/plain": [
       "Text(0.5, 1.0, 'Subcutaneous')"
      ]
     },
     "execution_count": 55,
     "metadata": {},
     "output_type": "execute_result"
    },
    {
     "data": {
      "image/png": "[encoded data removed]",
      "text/plain": [
       "<Figure size 1800x720 with 1 Axes>"
      ]
     },
     "metadata": {},
     "output_type": "display_data"
    }
   ],
   "source": [
    "fig = plt.figure(figsize=(25,10))\n",
    "ax = fig.add_subplot(1,2,1)\n",
    "ax.grid(b=\"off\")\n",
    "for key,value in take(125, subq_samples.items()):\n",
    "    sns.distplot([item for sublist in value for item in sublist],hist=False)\n",
    "plt.title('Subcutaneous',size=16)\n",
    "\n",
    "\n"
   ]
  },
  {
   "cell_type": "markdown",
   "metadata": {},
   "source": [
    "**We will randomly select 500 cells from each sample to measure.**"
   ]
  },
  {
   "cell_type": "code",
   "execution_count": 56,
   "metadata": {
    "collapsed": true,
    "scrolled": true
   },
   "outputs": [],
   "source": [
    "subq_sample_areas={}\n",
    "\n",
    "for key,value in subq_samples.items():\n",
    "    tmp = [item for sublist in value for item in sublist]\n",
    "    tmp = [x for x in tmp if x <= 30000]\n",
    "    if len(tmp) >=500:\n",
    "        selection = np.random.choice(tmp,500)\n",
    "        small_std = np.mean(selection) - np.std(selection)\n",
    "        high_std = np.mean(selection) + np.std(selection)\n",
    "        small = sum([a < small_std for a in selection])\n",
    "        large = sum([a > high_std for a in selection])\n",
    "        ratio_s = small/(large+small)\n",
    "        \n",
    "        subq_sample_areas[key] = np.mean(selection),np.std(selection),ratio_s\n",
    "    else:\n",
    "        next\n",
    "\n",
    "visc_sample_areas={}\n",
    "\n",
    "for key,value in visc_samples.items():\n",
    "    tmp = [item for sublist in value for item in sublist]\n",
    "    tmp = [x for x in tmp if x <= 30000]\n",
    "    if len(tmp) >=500:\n",
    "        selection = np.random.choice(tmp,500)\n",
    "        small_std = np.mean(selection) - np.std(selection)\n",
    "        high_std = np.mean(selection) + np.std(selection)\n",
    "        small = sum([a < 2000 for a in selection])\n",
    "        large = sum([a > 4000 for a in selection])\n",
    "        ratio_s = small/(large+small)\n",
    "        \n",
    "        visc_sample_areas[key] = np.mean(selection),np.std(selection),ratio_s\n",
    "    else:\n",
    "        next"
   ]
  },
  {
   "cell_type": "code",
   "execution_count": 57,
   "metadata": {
    "scrolled": true
   },
   "outputs": [
    {
     "name": "stdout",
     "output_type": "stream",
     "text": [
      "ImageCollection_0000004990 (1974.273, 1633.3734944660162, 0.4017857142857143)\n",
      "ImageCollection_0000005000 (2033.6955, 1850.0526992152143, 0.0)\n",
      "ImageCollection_0000006217 (1951.43275, 1924.1650947535825, 0.0)\n",
      "ImageCollection_0000000341 (1713.80575, 1725.30574265152, 0.0)\n",
      "ImageCollection_0000000453 (1597.51175, 1427.7644700564892, 0.0)\n",
      "ImageCollection_0000000063 (1668.12975, 1478.138038935915, 0.0)\n",
      "ImageCollection_0000006288 (1833.175625, 1671.2475071619172, 0.0)\n",
      "ImageCollection_0000006236 (1689.7715, 1540.6412986278638, 0.0)\n",
      "ImageCollection_0000000434 (1667.792875, 1602.0485768318392, 0.0)\n",
      "ImageCollection_0000005143 (1804.895125, 1524.9816751848764, 0.33884297520661155)\n"
     ]
    }
   ],
   "source": [
    "for i,v in take(10,subq_sample_areas.items()):\n",
    "    print(i,v)"
   ]
  },
  {
   "cell_type": "code",
   "execution_count": 59,
   "metadata": {
    "collapsed": true,
    "scrolled": true
   },
   "outputs": [],
   "source": [
    "# lets convert the dictionaries into dataframes so we can add and analyse additional covariates\n",
    "subq_sample_area_df = pd.DataFrame(subq_sample_areas).T.rename_axis('sampleID').add_prefix('Area').reset_index()\n",
    "subq_sample_area_df.columns = ['SUBJID', 'mu_area','var_area','per_small_cells']\n",
    "\n",
    "visc_sample_area_df = pd.DataFrame(visc_sample_areas).T.rename_axis('sampleID').add_prefix('Area').reset_index()\n",
    "visc_sample_area_df.columns = ['SUBJID', 'mu_area','var_area','per_small_cells']"
   ]
  },
  {
   "cell_type": "code",
   "execution_count": 60,
   "metadata": {
    "scrolled": true
   },
   "outputs": [
    {
     "data": {
      "text/html": [
       "<table style=\"display:inline\" border=\"1\" class=\"dataframe\">\n",
       "  <thead>\n",
       "    <tr style=\"text-align: right;\">\n",
       "      <th></th>\n",
       "      <th>SUBJID</th>\n",
       "      <th>mu_area</th>\n",
       "      <th>var_area</th>\n",
       "      <th>per_small_cells</th>\n",
       "    </tr>\n",
       "  </thead>\n",
       "  <tbody>\n",
       "    <tr>\n",
       "      <th>0</th>\n",
       "      <td>ImageCollection_0000000049</td>\n",
       "      <td>1618.916125</td>\n",
       "      <td>1450.869699</td>\n",
       "      <td>0.000000</td>\n",
       "    </tr>\n",
       "    <tr>\n",
       "      <th>1</th>\n",
       "      <td>ImageCollection_0000000050</td>\n",
       "      <td>1781.802750</td>\n",
       "      <td>1500.165358</td>\n",
       "      <td>0.375000</td>\n",
       "    </tr>\n",
       "    <tr>\n",
       "      <th>2</th>\n",
       "      <td>ImageCollection_0000000051</td>\n",
       "      <td>1767.365000</td>\n",
       "      <td>1522.369961</td>\n",
       "      <td>0.232323</td>\n",
       "    </tr>\n",
       "    <tr>\n",
       "      <th>3</th>\n",
       "      <td>ImageCollection_0000000053</td>\n",
       "      <td>1813.585750</td>\n",
       "      <td>1724.217714</td>\n",
       "      <td>0.000000</td>\n",
       "    </tr>\n",
       "    <tr>\n",
       "      <th>4</th>\n",
       "      <td>ImageCollection_0000000054</td>\n",
       "      <td>1816.969750</td>\n",
       "      <td>1721.578128</td>\n",
       "      <td>0.000000</td>\n",
       "    </tr>\n",
       "  </tbody>\n",
       "</table style=\"display:inline\"><table style=\"display:inline\" border=\"1\" class=\"dataframe\">\n",
       "  <thead>\n",
       "    <tr style=\"text-align: right;\">\n",
       "      <th></th>\n",
       "      <th>SUBJID</th>\n",
       "      <th>mu_area</th>\n",
       "      <th>var_area</th>\n",
       "      <th>per_small_cells</th>\n",
       "    </tr>\n",
       "  </thead>\n",
       "  <tbody>\n",
       "    <tr>\n",
       "      <th>0</th>\n",
       "      <td>ImageCollection_0000000049</td>\n",
       "      <td>1623.909000</td>\n",
       "      <td>1294.107310</td>\n",
       "      <td>0.917738</td>\n",
       "    </tr>\n",
       "    <tr>\n",
       "      <th>1</th>\n",
       "      <td>ImageCollection_0000000050</td>\n",
       "      <td>1981.679875</td>\n",
       "      <td>1796.826920</td>\n",
       "      <td>0.854111</td>\n",
       "    </tr>\n",
       "    <tr>\n",
       "      <th>2</th>\n",
       "      <td>ImageCollection_0000000051</td>\n",
       "      <td>1726.403125</td>\n",
       "      <td>1589.302804</td>\n",
       "      <td>0.893899</td>\n",
       "    </tr>\n",
       "    <tr>\n",
       "      <th>3</th>\n",
       "      <td>ImageCollection_0000000053</td>\n",
       "      <td>1677.019125</td>\n",
       "      <td>1377.018338</td>\n",
       "      <td>0.898396</td>\n",
       "    </tr>\n",
       "    <tr>\n",
       "      <th>4</th>\n",
       "      <td>ImageCollection_0000000054</td>\n",
       "      <td>1901.707500</td>\n",
       "      <td>1978.699189</td>\n",
       "      <td>0.876963</td>\n",
       "    </tr>\n",
       "  </tbody>\n",
       "</table style=\"display:inline\">"
      ]
     },
     "metadata": {},
     "output_type": "display_data"
    }
   ],
   "source": [
    "# lets have a quick look at both the subQ table so far:\n",
    "display_side_by_side(subq_sample_area_df.head(), visc_sample_area_df.head())\n"
   ]
  },
  {
   "cell_type": "markdown",
   "metadata": {},
   "source": [
    "Lets look at the distribution of mean adipocyte area across samples:"
   ]
  },
  {
   "cell_type": "code",
   "execution_count": 81,
   "metadata": {
    "collapsed": true
   },
   "outputs": [],
   "source": [
    "adipocyte_tiles['SUBJID'] = ['_'.join(x.split('_')[0:2]) for x in adipocyte_tiles['filename']]"
   ]
  },
  {
   "cell_type": "code",
   "execution_count": 83,
   "metadata": {
    "collapsed": true
   },
   "outputs": [],
   "source": [
    "NDOG_IDS = []\n",
    "for sample_id in subq_sample_area_df['SUBJID']:\n",
    "    indi = adipocyte_tiles.index[adipocyte_tiles['SUBJID'] == sample_id].tolist()[0]\n",
    "    NDOG_IDS.append(adipocyte_tiles['ID'][indi])\n"
   ]
  },
  {
   "cell_type": "code",
   "execution_count": 84,
   "metadata": {
    "collapsed": true
   },
   "outputs": [],
   "source": [
    "subq_sample_area_df['SUBJID_ID'] = NDOG_IDS"
   ]
  },
  {
   "cell_type": "code",
   "execution_count": 85,
   "metadata": {
    "collapsed": true
   },
   "outputs": [],
   "source": [
    "NDOG_IDS = []\n",
    "for sample_id in visc_sample_area_df['SUBJID']:\n",
    "    indi = adipocyte_tiles.index[adipocyte_tiles['SUBJID'] == sample_id].tolist()[0]\n",
    "    NDOG_IDS.append(adipocyte_tiles['ID'][indi])\n"
   ]
  },
  {
   "cell_type": "code",
   "execution_count": 86,
   "metadata": {
    "collapsed": true
   },
   "outputs": [],
   "source": [
    "visc_sample_area_df['SUBJID_ID'] = NDOG_IDS"
   ]
  },
  {
   "cell_type": "code",
   "execution_count": 87,
   "metadata": {},
   "outputs": [
    {
     "data": {
      "text/plain": [
       "(42, 308)"
      ]
     },
     "execution_count": 87,
     "metadata": {},
     "output_type": "execute_result"
    }
   ],
   "source": [
    "len(visc_sample_area_df),len(subq_sample_area_df)"
   ]
  },
  {
   "cell_type": "code",
   "execution_count": 88,
   "metadata": {
    "collapsed": true
   },
   "outputs": [],
   "source": [
    "visc_sample_area_df.to_csv('final_cohort_measurements/NDOG_Visceral_areas.csv')\n",
    "subq_sample_area_df.to_csv('final_cohort_measurements/NDOG_Subq_areas.csv')"
   ]
  },
  {
   "cell_type": "code",
   "execution_count": 298,
   "metadata": {
    "collapsed": true
   },
   "outputs": [],
   "source": [
    "visc_sample_area_df = pd.read_csv('final_cohort_measurements/NDOG_Visceral_areas.csv')\n",
    "subq_sample_area_df = pd.read_csv('final_cohort_measurements/NDOG_Subq_areas.csv')"
   ]
  },
  {
   "cell_type": "code",
   "execution_count": 299,
   "metadata": {
    "collapsed": true
   },
   "outputs": [],
   "source": [
    "visc_sample_area_df['SUBJID_ID'] = [\"-\".join(x.split('-')[0:2]).split('-F')[0] for x in visc_sample_area_df['SUBJID_ID']]"
   ]
  },
  {
   "cell_type": "code",
   "execution_count": 300,
   "metadata": {
    "collapsed": true
   },
   "outputs": [],
   "source": [
    "ndog_ids = []\n",
    "for sub_id in visc_sample_area_df['SUBJID_ID']:\n",
    "    if sub_id[0].isnumeric():\n",
    "        ndog_ids.append('EX'+str(sub_id))\n",
    "    elif \"-\" in sub_id:\n",
    "        ndog_ids.append(\"\".join(sub_id.split('-')))\n",
    "    else:\n",
    "        ndog_ids.append(sub_id)\n",
    "        \n",
    "        \n",
    "        "
   ]
  },
  {
   "cell_type": "code",
   "execution_count": 301,
   "metadata": {
    "collapsed": true
   },
   "outputs": [],
   "source": [
    "visc_sample_area_df['SUBJID_ID'] = ndog_ids"
   ]
  },
  {
   "cell_type": "code",
   "execution_count": null,
   "metadata": {
    "collapsed": true
   },
   "outputs": [],
   "source": []
  },
  {
   "cell_type": "code",
   "execution_count": 302,
   "metadata": {
    "collapsed": true
   },
   "outputs": [],
   "source": [
    "subq_sample_area_df['SUBJID_ID'] = [\"-\".join(x.split('-')[0:2]).split('-F')[0] for x in subq_sample_area_df['SUBJID_ID']]"
   ]
  },
  {
   "cell_type": "code",
   "execution_count": 303,
   "metadata": {
    "collapsed": true
   },
   "outputs": [],
   "source": [
    "ndog_ids = []\n",
    "for sub_id in subq_sample_area_df['SUBJID_ID']:\n",
    "    if sub_id[0].isnumeric():\n",
    "        ndog_ids.append('EX'+str(sub_id))\n",
    "    elif \"-\" in sub_id:\n",
    "        ndog_ids.append(\"\".join(sub_id.split('-')))\n",
    "    else:\n",
    "        ndog_ids.append(sub_id)\n",
    "        "
   ]
  },
  {
   "cell_type": "code",
   "execution_count": 304,
   "metadata": {
    "collapsed": true
   },
   "outputs": [],
   "source": [
    "subq_sample_area_df['SUBJID_ID'] = ndog_ids"
   ]
  },
  {
   "cell_type": "code",
   "execution_count": 305,
   "metadata": {},
   "outputs": [
    {
     "data": {
      "text/html": [
       "<div>\n",
       "<style scoped>\n",
       "    .dataframe tbody tr th:only-of-type {\n",
       "        vertical-align: middle;\n",
       "    }\n",
       "\n",
       "    .dataframe tbody tr th {\n",
       "        vertical-align: top;\n",
       "    }\n",
       "\n",
       "    .dataframe thead th {\n",
       "        text-align: right;\n",
       "    }\n",
       "</style>\n",
       "<table border=\"1\" class=\"dataframe\">\n",
       "  <thead>\n",
       "    <tr style=\"text-align: right;\">\n",
       "      <th></th>\n",
       "      <th>Unnamed: 0</th>\n",
       "      <th>SUBJID</th>\n",
       "      <th>mu_area</th>\n",
       "      <th>var_area</th>\n",
       "      <th>per_small_cells</th>\n",
       "      <th>SUBJID_ID</th>\n",
       "    </tr>\n",
       "  </thead>\n",
       "  <tbody>\n",
       "    <tr>\n",
       "      <th>0</th>\n",
       "      <td>0</td>\n",
       "      <td>ImageCollection_0000000049</td>\n",
       "      <td>1189.515625</td>\n",
       "      <td>896.789544</td>\n",
       "      <td>0.430769</td>\n",
       "      <td>EX0351</td>\n",
       "    </tr>\n",
       "    <tr>\n",
       "      <th>1</th>\n",
       "      <td>1</td>\n",
       "      <td>ImageCollection_0000000050</td>\n",
       "      <td>2128.934500</td>\n",
       "      <td>1805.873798</td>\n",
       "      <td>0.354331</td>\n",
       "      <td>EX0357</td>\n",
       "    </tr>\n",
       "    <tr>\n",
       "      <th>2</th>\n",
       "      <td>2</td>\n",
       "      <td>ImageCollection_0000000051</td>\n",
       "      <td>2197.628000</td>\n",
       "      <td>1890.358878</td>\n",
       "      <td>0.352000</td>\n",
       "      <td>EX0363</td>\n",
       "    </tr>\n",
       "    <tr>\n",
       "      <th>3</th>\n",
       "      <td>3</td>\n",
       "      <td>ImageCollection_0000000053</td>\n",
       "      <td>2343.811750</td>\n",
       "      <td>1778.051966</td>\n",
       "      <td>0.490566</td>\n",
       "      <td>EX0332</td>\n",
       "    </tr>\n",
       "    <tr>\n",
       "      <th>4</th>\n",
       "      <td>4</td>\n",
       "      <td>ImageCollection_0000000054</td>\n",
       "      <td>3084.245625</td>\n",
       "      <td>2833.250797</td>\n",
       "      <td>0.181818</td>\n",
       "      <td>EX0334</td>\n",
       "    </tr>\n",
       "  </tbody>\n",
       "</table>\n",
       "</div>"
      ],
      "text/plain": [
       "   Unnamed: 0                      SUBJID      mu_area     var_area  \\\n",
       "0           0  ImageCollection_0000000049  1189.515625   896.789544   \n",
       "1           1  ImageCollection_0000000050  2128.934500  1805.873798   \n",
       "2           2  ImageCollection_0000000051  2197.628000  1890.358878   \n",
       "3           3  ImageCollection_0000000053  2343.811750  1778.051966   \n",
       "4           4  ImageCollection_0000000054  3084.245625  2833.250797   \n",
       "\n",
       "   per_small_cells SUBJID_ID  \n",
       "0         0.430769    EX0351  \n",
       "1         0.354331    EX0357  \n",
       "2         0.352000    EX0363  \n",
       "3         0.490566    EX0332  \n",
       "4         0.181818    EX0334  "
      ]
     },
     "execution_count": 305,
     "metadata": {},
     "output_type": "execute_result"
    }
   ],
   "source": [
    "subq_sample_area_df.head()"
   ]
  },
  {
   "cell_type": "code",
   "execution_count": 357,
   "metadata": {
    "collapsed": true
   },
   "outputs": [],
   "source": [
    "ndog_phenotypes = pd.read_csv('endox_phenotypes.csv')"
   ]
  },
  {
   "cell_type": "code",
   "execution_count": 358,
   "metadata": {},
   "outputs": [
    {
     "data": {
      "text/html": [
       "<div>\n",
       "<style scoped>\n",
       "    .dataframe tbody tr th:only-of-type {\n",
       "        vertical-align: middle;\n",
       "    }\n",
       "\n",
       "    .dataframe tbody tr th {\n",
       "        vertical-align: top;\n",
       "    }\n",
       "\n",
       "    .dataframe thead th {\n",
       "        text-align: right;\n",
       "    }\n",
       "</style>\n",
       "<table border=\"1\" class=\"dataframe\">\n",
       "  <thead>\n",
       "    <tr style=\"text-align: right;\">\n",
       "      <th></th>\n",
       "      <th>Subject ID</th>\n",
       "      <th>Height</th>\n",
       "      <th>Weight</th>\n",
       "      <th>Hip circumference</th>\n",
       "      <th>Waist circumference</th>\n",
       "    </tr>\n",
       "  </thead>\n",
       "  <tbody>\n",
       "    <tr>\n",
       "      <th>0</th>\n",
       "      <td>EX-0015</td>\n",
       "      <td>152.40</td>\n",
       "      <td>54.0</td>\n",
       "      <td>100.0</td>\n",
       "      <td>74.0</td>\n",
       "    </tr>\n",
       "    <tr>\n",
       "      <th>1</th>\n",
       "      <td>EX-0016</td>\n",
       "      <td>170.00</td>\n",
       "      <td>53.0</td>\n",
       "      <td>96.0</td>\n",
       "      <td>68.0</td>\n",
       "    </tr>\n",
       "    <tr>\n",
       "      <th>2</th>\n",
       "      <td>EX-0020</td>\n",
       "      <td>172.72</td>\n",
       "      <td>61.0</td>\n",
       "      <td>101.0</td>\n",
       "      <td>66.0</td>\n",
       "    </tr>\n",
       "    <tr>\n",
       "      <th>3</th>\n",
       "      <td>EX-0022</td>\n",
       "      <td>160.02</td>\n",
       "      <td>50.0</td>\n",
       "      <td>93.0</td>\n",
       "      <td>71.0</td>\n",
       "    </tr>\n",
       "    <tr>\n",
       "      <th>4</th>\n",
       "      <td>EX-0025</td>\n",
       "      <td>165.10</td>\n",
       "      <td>72.0</td>\n",
       "      <td>107.0</td>\n",
       "      <td>92.0</td>\n",
       "    </tr>\n",
       "  </tbody>\n",
       "</table>\n",
       "</div>"
      ],
      "text/plain": [
       "  Subject ID  Height  Weight  Hip circumference  Waist circumference\n",
       "0    EX-0015  152.40    54.0              100.0                 74.0\n",
       "1    EX-0016  170.00    53.0               96.0                 68.0\n",
       "2    EX-0020  172.72    61.0              101.0                 66.0\n",
       "3    EX-0022  160.02    50.0               93.0                 71.0\n",
       "4    EX-0025  165.10    72.0              107.0                 92.0"
      ]
     },
     "execution_count": 358,
     "metadata": {},
     "output_type": "execute_result"
    }
   ],
   "source": [
    "ndog_phenotypes.head()"
   ]
  },
  {
   "cell_type": "code",
   "execution_count": 359,
   "metadata": {
    "collapsed": true
   },
   "outputs": [],
   "source": [
    "ndog_phenotypes.Height = ndog_phenotypes.Height/100"
   ]
  },
  {
   "cell_type": "code",
   "execution_count": 360,
   "metadata": {
    "collapsed": true
   },
   "outputs": [],
   "source": [
    "ndog_phenotypes['Hip circumference'] = ndog_phenotypes['Hip circumference']/100"
   ]
  },
  {
   "cell_type": "code",
   "execution_count": 361,
   "metadata": {
    "collapsed": true
   },
   "outputs": [],
   "source": [
    "ndog_phenotypes['Waist circumference'] = ndog_phenotypes['Waist circumference']/100"
   ]
  },
  {
   "cell_type": "code",
   "execution_count": 362,
   "metadata": {
    "collapsed": true
   },
   "outputs": [],
   "source": [
    "ndog_phenotypes_clean = ndog_phenotypes"
   ]
  },
  {
   "cell_type": "code",
   "execution_count": 363,
   "metadata": {},
   "outputs": [
    {
     "data": {
      "text/html": [
       "<div>\n",
       "<style scoped>\n",
       "    .dataframe tbody tr th:only-of-type {\n",
       "        vertical-align: middle;\n",
       "    }\n",
       "\n",
       "    .dataframe tbody tr th {\n",
       "        vertical-align: top;\n",
       "    }\n",
       "\n",
       "    .dataframe thead th {\n",
       "        text-align: right;\n",
       "    }\n",
       "</style>\n",
       "<table border=\"1\" class=\"dataframe\">\n",
       "  <thead>\n",
       "    <tr style=\"text-align: right;\">\n",
       "      <th></th>\n",
       "      <th>Subject ID</th>\n",
       "      <th>Height</th>\n",
       "      <th>Weight</th>\n",
       "      <th>Hip circumference</th>\n",
       "      <th>Waist circumference</th>\n",
       "    </tr>\n",
       "  </thead>\n",
       "  <tbody>\n",
       "    <tr>\n",
       "      <th>0</th>\n",
       "      <td>EX-0015</td>\n",
       "      <td>1.5240</td>\n",
       "      <td>54.0</td>\n",
       "      <td>1.00</td>\n",
       "      <td>0.74</td>\n",
       "    </tr>\n",
       "    <tr>\n",
       "      <th>1</th>\n",
       "      <td>EX-0016</td>\n",
       "      <td>1.7000</td>\n",
       "      <td>53.0</td>\n",
       "      <td>0.96</td>\n",
       "      <td>0.68</td>\n",
       "    </tr>\n",
       "    <tr>\n",
       "      <th>2</th>\n",
       "      <td>EX-0020</td>\n",
       "      <td>1.7272</td>\n",
       "      <td>61.0</td>\n",
       "      <td>1.01</td>\n",
       "      <td>0.66</td>\n",
       "    </tr>\n",
       "    <tr>\n",
       "      <th>3</th>\n",
       "      <td>EX-0022</td>\n",
       "      <td>1.6002</td>\n",
       "      <td>50.0</td>\n",
       "      <td>0.93</td>\n",
       "      <td>0.71</td>\n",
       "    </tr>\n",
       "    <tr>\n",
       "      <th>4</th>\n",
       "      <td>EX-0025</td>\n",
       "      <td>1.6510</td>\n",
       "      <td>72.0</td>\n",
       "      <td>1.07</td>\n",
       "      <td>0.92</td>\n",
       "    </tr>\n",
       "  </tbody>\n",
       "</table>\n",
       "</div>"
      ],
      "text/plain": [
       "  Subject ID  Height  Weight  Hip circumference  Waist circumference\n",
       "0    EX-0015  1.5240    54.0               1.00                 0.74\n",
       "1    EX-0016  1.7000    53.0               0.96                 0.68\n",
       "2    EX-0020  1.7272    61.0               1.01                 0.66\n",
       "3    EX-0022  1.6002    50.0               0.93                 0.71\n",
       "4    EX-0025  1.6510    72.0               1.07                 0.92"
      ]
     },
     "execution_count": 363,
     "metadata": {},
     "output_type": "execute_result"
    }
   ],
   "source": [
    "ndog_phenotypes_clean.head()"
   ]
  },
  {
   "cell_type": "code",
   "execution_count": 364,
   "metadata": {
    "collapsed": true
   },
   "outputs": [],
   "source": [
    "ndog_phenotypes_clean['BMI'] = ndog_phenotypes_clean.Weight/(ndog_phenotypes_clean.Height**2)"
   ]
  },
  {
   "cell_type": "code",
   "execution_count": 365,
   "metadata": {},
   "outputs": [
    {
     "data": {
      "text/html": [
       "<div>\n",
       "<style scoped>\n",
       "    .dataframe tbody tr th:only-of-type {\n",
       "        vertical-align: middle;\n",
       "    }\n",
       "\n",
       "    .dataframe tbody tr th {\n",
       "        vertical-align: top;\n",
       "    }\n",
       "\n",
       "    .dataframe thead th {\n",
       "        text-align: right;\n",
       "    }\n",
       "</style>\n",
       "<table border=\"1\" class=\"dataframe\">\n",
       "  <thead>\n",
       "    <tr style=\"text-align: right;\">\n",
       "      <th></th>\n",
       "      <th>Subject ID</th>\n",
       "      <th>Height</th>\n",
       "      <th>Weight</th>\n",
       "      <th>Hip circumference</th>\n",
       "      <th>Waist circumference</th>\n",
       "      <th>BMI</th>\n",
       "    </tr>\n",
       "  </thead>\n",
       "  <tbody>\n",
       "    <tr>\n",
       "      <th>0</th>\n",
       "      <td>EX-0015</td>\n",
       "      <td>1.5240</td>\n",
       "      <td>54.0</td>\n",
       "      <td>1.00</td>\n",
       "      <td>0.74</td>\n",
       "      <td>23.250047</td>\n",
       "    </tr>\n",
       "    <tr>\n",
       "      <th>1</th>\n",
       "      <td>EX-0016</td>\n",
       "      <td>1.7000</td>\n",
       "      <td>53.0</td>\n",
       "      <td>0.96</td>\n",
       "      <td>0.68</td>\n",
       "      <td>18.339100</td>\n",
       "    </tr>\n",
       "    <tr>\n",
       "      <th>2</th>\n",
       "      <td>EX-0020</td>\n",
       "      <td>1.7272</td>\n",
       "      <td>61.0</td>\n",
       "      <td>1.01</td>\n",
       "      <td>0.66</td>\n",
       "      <td>20.447705</td>\n",
       "    </tr>\n",
       "    <tr>\n",
       "      <th>3</th>\n",
       "      <td>EX-0022</td>\n",
       "      <td>1.6002</td>\n",
       "      <td>50.0</td>\n",
       "      <td>0.93</td>\n",
       "      <td>0.71</td>\n",
       "      <td>19.526368</td>\n",
       "    </tr>\n",
       "    <tr>\n",
       "      <th>4</th>\n",
       "      <td>EX-0025</td>\n",
       "      <td>1.6510</td>\n",
       "      <td>72.0</td>\n",
       "      <td>1.07</td>\n",
       "      <td>0.92</td>\n",
       "      <td>26.414254</td>\n",
       "    </tr>\n",
       "  </tbody>\n",
       "</table>\n",
       "</div>"
      ],
      "text/plain": [
       "  Subject ID  Height  Weight  Hip circumference  Waist circumference  \\\n",
       "0    EX-0015  1.5240    54.0               1.00                 0.74   \n",
       "1    EX-0016  1.7000    53.0               0.96                 0.68   \n",
       "2    EX-0020  1.7272    61.0               1.01                 0.66   \n",
       "3    EX-0022  1.6002    50.0               0.93                 0.71   \n",
       "4    EX-0025  1.6510    72.0               1.07                 0.92   \n",
       "\n",
       "         BMI  \n",
       "0  23.250047  \n",
       "1  18.339100  \n",
       "2  20.447705  \n",
       "3  19.526368  \n",
       "4  26.414254  "
      ]
     },
     "execution_count": 365,
     "metadata": {},
     "output_type": "execute_result"
    }
   ],
   "source": [
    "ndog_phenotypes_clean.head()"
   ]
  },
  {
   "cell_type": "code",
   "execution_count": 366,
   "metadata": {},
   "outputs": [
    {
     "data": {
      "text/plain": [
       "<a list of 20 Patch objects>"
      ]
     },
     "execution_count": 366,
     "metadata": {},
     "output_type": "execute_result"
    },
    {
     "data": {
      "image/png": "[encoded data removed]",
      "text/plain": [
       "<Figure size 432x288 with 1 Axes>"
      ]
     },
     "metadata": {},
     "output_type": "display_data"
    }
   ],
   "source": [
    "plt.hist(ndog_phenotypes_clean.BMI,bins=20)[2]"
   ]
  },
  {
   "cell_type": "code",
   "execution_count": 367,
   "metadata": {
    "collapsed": true
   },
   "outputs": [],
   "source": [
    "ndog_phenotypes_clean['Subject ID'] = [\"\".join(x.split('-')[:2]) for x in ndog_phenotypes_clean['Subject ID']]"
   ]
  },
  {
   "cell_type": "code",
   "execution_count": 368,
   "metadata": {},
   "outputs": [
    {
     "data": {
      "text/html": [
       "<div>\n",
       "<style scoped>\n",
       "    .dataframe tbody tr th:only-of-type {\n",
       "        vertical-align: middle;\n",
       "    }\n",
       "\n",
       "    .dataframe tbody tr th {\n",
       "        vertical-align: top;\n",
       "    }\n",
       "\n",
       "    .dataframe thead th {\n",
       "        text-align: right;\n",
       "    }\n",
       "</style>\n",
       "<table border=\"1\" class=\"dataframe\">\n",
       "  <thead>\n",
       "    <tr style=\"text-align: right;\">\n",
       "      <th></th>\n",
       "      <th>Subject ID</th>\n",
       "      <th>Height</th>\n",
       "      <th>Weight</th>\n",
       "      <th>Hip circumference</th>\n",
       "      <th>Waist circumference</th>\n",
       "      <th>BMI</th>\n",
       "    </tr>\n",
       "  </thead>\n",
       "  <tbody>\n",
       "    <tr>\n",
       "      <th>0</th>\n",
       "      <td>EX0015</td>\n",
       "      <td>1.5240</td>\n",
       "      <td>54.0</td>\n",
       "      <td>1.00</td>\n",
       "      <td>0.74</td>\n",
       "      <td>23.250047</td>\n",
       "    </tr>\n",
       "    <tr>\n",
       "      <th>1</th>\n",
       "      <td>EX0016</td>\n",
       "      <td>1.7000</td>\n",
       "      <td>53.0</td>\n",
       "      <td>0.96</td>\n",
       "      <td>0.68</td>\n",
       "      <td>18.339100</td>\n",
       "    </tr>\n",
       "    <tr>\n",
       "      <th>2</th>\n",
       "      <td>EX0020</td>\n",
       "      <td>1.7272</td>\n",
       "      <td>61.0</td>\n",
       "      <td>1.01</td>\n",
       "      <td>0.66</td>\n",
       "      <td>20.447705</td>\n",
       "    </tr>\n",
       "    <tr>\n",
       "      <th>3</th>\n",
       "      <td>EX0022</td>\n",
       "      <td>1.6002</td>\n",
       "      <td>50.0</td>\n",
       "      <td>0.93</td>\n",
       "      <td>0.71</td>\n",
       "      <td>19.526368</td>\n",
       "    </tr>\n",
       "    <tr>\n",
       "      <th>4</th>\n",
       "      <td>EX0025</td>\n",
       "      <td>1.6510</td>\n",
       "      <td>72.0</td>\n",
       "      <td>1.07</td>\n",
       "      <td>0.92</td>\n",
       "      <td>26.414254</td>\n",
       "    </tr>\n",
       "  </tbody>\n",
       "</table>\n",
       "</div>"
      ],
      "text/plain": [
       "  Subject ID  Height  Weight  Hip circumference  Waist circumference  \\\n",
       "0     EX0015  1.5240    54.0               1.00                 0.74   \n",
       "1     EX0016  1.7000    53.0               0.96                 0.68   \n",
       "2     EX0020  1.7272    61.0               1.01                 0.66   \n",
       "3     EX0022  1.6002    50.0               0.93                 0.71   \n",
       "4     EX0025  1.6510    72.0               1.07                 0.92   \n",
       "\n",
       "         BMI  \n",
       "0  23.250047  \n",
       "1  18.339100  \n",
       "2  20.447705  \n",
       "3  19.526368  \n",
       "4  26.414254  "
      ]
     },
     "execution_count": 368,
     "metadata": {},
     "output_type": "execute_result"
    }
   ],
   "source": [
    "ndog_phenotypes_clean.head()"
   ]
  },
  {
   "cell_type": "code",
   "execution_count": 378,
   "metadata": {},
   "outputs": [
    {
     "data": {
      "text/plain": [
       "26.535121158182132"
      ]
     },
     "execution_count": 378,
     "metadata": {},
     "output_type": "execute_result"
    }
   ],
   "source": [
    "np.mean(ndog_phenotypes_clean.BMI)"
   ]
  },
  {
   "cell_type": "code",
   "execution_count": 369,
   "metadata": {
    "collapsed": true
   },
   "outputs": [],
   "source": [
    "ndog_age = pd.read_csv('NDOG_ages.csv')"
   ]
  },
  {
   "cell_type": "code",
   "execution_count": 377,
   "metadata": {},
   "outputs": [
    {
     "data": {
      "text/plain": [
       "32.90106007067138"
      ]
     },
     "execution_count": 377,
     "metadata": {},
     "output_type": "execute_result"
    }
   ],
   "source": [
    "np.mean(ndog_age.Age)"
   ]
  },
  {
   "cell_type": "code",
   "execution_count": 370,
   "metadata": {
    "collapsed": true
   },
   "outputs": [],
   "source": [
    "new_id =[]\n",
    "for num in [x.split('EX')[1] for x in ndog_age.ENDOXID]:\n",
    "    if len(num) == 2:\n",
    "        new_id.append('EX00' + str(num))\n",
    "    if len(num) == 3:\n",
    "        new_id.append('EX0' + num)"
   ]
  },
  {
   "cell_type": "code",
   "execution_count": 371,
   "metadata": {
    "collapsed": true
   },
   "outputs": [],
   "source": [
    "ndog_age.ENDOXID = new_id"
   ]
  },
  {
   "cell_type": "code",
   "execution_count": 372,
   "metadata": {
    "collapsed": true
   },
   "outputs": [],
   "source": [
    "subq_and_pheno = pd.merge(subq_sample_area_df,ndog_phenotypes_clean,left_on='SUBJID_ID',right_on=\"Subject ID\",how='outer')"
   ]
  },
  {
   "cell_type": "code",
   "execution_count": 373,
   "metadata": {},
   "outputs": [
    {
     "data": {
      "text/plain": [
       "(346, 12)"
      ]
     },
     "execution_count": 373,
     "metadata": {},
     "output_type": "execute_result"
    }
   ],
   "source": [
    "subq_and_pheno.shape"
   ]
  },
  {
   "cell_type": "code",
   "execution_count": 374,
   "metadata": {
    "collapsed": true
   },
   "outputs": [],
   "source": [
    "subq_and_pheno = pd.merge(subq_and_pheno,ndog_age,left_on='SUBJID_ID',right_on='ENDOXID',how='outer').drop(['ENDOXID','Subject ID'],axis=1)"
   ]
  },
  {
   "cell_type": "code",
   "execution_count": 375,
   "metadata": {},
   "outputs": [
    {
     "data": {
      "text/plain": [
       "(397, 12)"
      ]
     },
     "execution_count": 375,
     "metadata": {},
     "output_type": "execute_result"
    }
   ],
   "source": [
    "subq_and_pheno.shape"
   ]
  },
  {
   "cell_type": "code",
   "execution_count": 325,
   "metadata": {
    "collapsed": true
   },
   "outputs": [],
   "source": [
    "subq_and_pheno = subq_and_pheno[~subq_and_pheno.mu_area.isna()]"
   ]
  },
  {
   "cell_type": "code",
   "execution_count": 326,
   "metadata": {},
   "outputs": [
    {
     "data": {
      "text/plain": [
       "(310, 12)"
      ]
     },
     "execution_count": 326,
     "metadata": {},
     "output_type": "execute_result"
    }
   ],
   "source": [
    "subq_and_pheno.shape"
   ]
  },
  {
   "cell_type": "code",
   "execution_count": 327,
   "metadata": {
    "collapsed": true
   },
   "outputs": [],
   "source": [
    "visc_and_pheno = pd.merge(visc_sample_area_df,ndog_phenotypes_clean,left_on='SUBJID_ID',right_on=\"Subject ID\",how='outer')"
   ]
  },
  {
   "cell_type": "code",
   "execution_count": 328,
   "metadata": {
    "collapsed": true
   },
   "outputs": [],
   "source": [
    "visc_and_pheno = pd.merge(visc_and_pheno,ndog_age,left_on='SUBJID_ID',right_on='ENDOXID',how='outer').drop(['ENDOXID','Subject ID'],axis=1)"
   ]
  },
  {
   "cell_type": "code",
   "execution_count": 329,
   "metadata": {},
   "outputs": [
    {
     "data": {
      "text/plain": [
       "(581, 12)"
      ]
     },
     "execution_count": 329,
     "metadata": {},
     "output_type": "execute_result"
    }
   ],
   "source": [
    "visc_and_pheno.shape"
   ]
  },
  {
   "cell_type": "code",
   "execution_count": 330,
   "metadata": {
    "collapsed": true
   },
   "outputs": [],
   "source": [
    "visc_and_pheno = visc_and_pheno[~visc_and_pheno.mu_area.isna()]"
   ]
  },
  {
   "cell_type": "code",
   "execution_count": 331,
   "metadata": {
    "collapsed": true
   },
   "outputs": [],
   "source": [
    "visc_and_pheno.to_csv('final_cohort_measurements/NDOG_Visceral_areas.csv')\n",
    "subq_and_pheno.to_csv('final_cohort_measurements/NDOG_Subq_areas.csv')"
   ]
  },
  {
   "cell_type": "code",
   "execution_count": 332,
   "metadata": {},
   "outputs": [
    {
     "data": {
      "text/plain": [
       "((42, 12), (310, 12))"
      ]
     },
     "execution_count": 332,
     "metadata": {},
     "output_type": "execute_result"
    }
   ],
   "source": [
    "visc_and_pheno.shape,subq_and_pheno.shape"
   ]
  },
  {
   "cell_type": "code",
   "execution_count": 333,
   "metadata": {},
   "outputs": [
    {
     "data": {
      "text/plain": [
       "<seaborn.axisgrid.JointGrid at 0x7fcc8fce8cc0>"
      ]
     },
     "execution_count": 333,
     "metadata": {},
     "output_type": "execute_result"
    },
    {
     "data": {
      "image/png": "[encoded data removed]",
      "text/plain": [
       "<Figure size 432x432 with 3 Axes>"
      ]
     },
     "metadata": {},
     "output_type": "display_data"
    }
   ],
   "source": [
    "sns.jointplot(y=\"mu_area\",x=\"BMI\",data=subq_and_pheno,kind='reg')"
   ]
  },
  {
   "cell_type": "code",
   "execution_count": 334,
   "metadata": {},
   "outputs": [
    {
     "data": {
      "text/plain": [
       "<seaborn.axisgrid.JointGrid at 0x7fcc8f966080>"
      ]
     },
     "execution_count": 334,
     "metadata": {},
     "output_type": "execute_result"
    },
    {
     "data": {
      "image/png": "[encoded data removed]",
      "text/plain": [
       "<Figure size 432x432 with 3 Axes>"
      ]
     },
     "metadata": {},
     "output_type": "display_data"
    }
   ],
   "source": [
    "sns.jointplot(y=\"mu_area\",x=\"BMI\",data=visc_and_pheno,kind='reg')"
   ]
  },
  {
   "cell_type": "code",
   "execution_count": 335,
   "metadata": {},
   "outputs": [
    {
     "data": {
      "text/plain": [
       "4"
      ]
     },
     "execution_count": 335,
     "metadata": {},
     "output_type": "execute_result"
    }
   ],
   "source": [
    "sum(visc_and_pheno.Age.isna())"
   ]
  },
  {
   "cell_type": "code",
   "execution_count": 338,
   "metadata": {},
   "outputs": [
    {
     "data": {
      "text/plain": [
       "(1841.920861290324, 1710.7637678571423)"
      ]
     },
     "execution_count": 338,
     "metadata": {},
     "output_type": "execute_result"
    }
   ],
   "source": [
    "np.mean(subq_and_pheno.mu_area),np.mean(visc_and_pheno.mu_area)"
   ]
  },
  {
   "cell_type": "code",
   "execution_count": 349,
   "metadata": {
    "collapsed": true
   },
   "outputs": [],
   "source": [
    "subq_and_pheno = pd.read_csv('final_cohort_measurements/NDOG_Subq_areas.csv')\n",
    "visc_and_pheno = pd.read_csv('final_cohort_measurements/NDOG_Visceral_areas.csv')"
   ]
  },
  {
   "cell_type": "code",
   "execution_count": 350,
   "metadata": {},
   "outputs": [
    {
     "data": {
      "text/plain": [
       "Text(0.5, 0, 'Mean Adipocyte Area ($\\\\mu m^{2}$)')"
      ]
     },
     "execution_count": 350,
     "metadata": {},
     "output_type": "execute_result"
    },
    {
     "data": {
      "image/png": "[encoded data removed]",
      "text/plain": [
       "<Figure size 1080x360 with 2 Axes>"
      ]
     },
     "metadata": {},
     "output_type": "display_data"
    }
   ],
   "source": [
    "fig = plt.figure(figsize=(15,5))\n",
    "ax = fig.add_subplot(1,2,1)\n",
    "sns.distplot(np.array(subq_and_pheno['mu_area'].tolist()),color='cadetblue',bins=20)\n",
    "plt.title('Subcutaneous',size=20)\n",
    "plt.xlabel('Mean Adipocyte Area ($\\mu m^{2}$)')\n",
    "plt.ylabel('Density')\n",
    "\n",
    "ax = fig.add_subplot(1,2,2)\n",
    "sns.distplot(np.array(visc_and_pheno['mu_area'].tolist()),color='steelblue',bins=20)\n",
    "plt.title('Visceral',size=20)\n",
    "plt.xlabel('Mean Adipocyte Area ($\\mu m^{2}$)')\n"
   ]
  },
  {
   "cell_type": "code",
   "execution_count": 351,
   "metadata": {},
   "outputs": [
    {
     "name": "stdout",
     "output_type": "stream",
     "text": [
      "T-stastistic is: -1.536 with P-value = 0.1307329222488768\n"
     ]
    }
   ],
   "source": [
    "from scipy import stats\n",
    "from scipy.stats import ttest_ind as ttest\n",
    "\n",
    "test_stats=ttest(np.array(visc_and_pheno['mu_area'].tolist()),np.array(subq_and_pheno['mu_area'].tolist()),equal_var=False)\n",
    "\n",
    "print('T-stastistic is: {0:.3f} with P-value = {1}'.format(test_stats[0],test_stats[1]))"
   ]
  },
  {
   "cell_type": "code",
   "execution_count": 353,
   "metadata": {},
   "outputs": [
    {
     "name": "stdout",
     "output_type": "stream",
     "text": [
      "The mean adipocyte areas are: \n",
      "Subcutaneous: 1841.92\n",
      "Visceral: 1710.76\n"
     ]
    }
   ],
   "source": [
    "print('The mean adipocyte areas are: \\nSubcutaneous: {0:.2f}\\nVisceral: {1:.2f}'.format(np.mean(subq_and_pheno['mu_area']),np.mean(visc_and_pheno['mu_area'])))"
   ]
  },
  {
   "cell_type": "code",
   "execution_count": 354,
   "metadata": {},
   "outputs": [
    {
     "data": {
      "text/plain": [
       "(483.5497753324616, 517.6178493775341)"
      ]
     },
     "execution_count": 354,
     "metadata": {},
     "output_type": "execute_result"
    }
   ],
   "source": [
    "np.std(subq_and_pheno['mu_area']),np.std(visc_and_pheno['mu_area'])"
   ]
  },
  {
   "cell_type": "code",
   "execution_count": null,
   "metadata": {},
   "outputs": [],
   "source": []
  },
  {
   "cell_type": "code",
   "execution_count": null,
   "metadata": {
    "collapsed": true
   },
   "outputs": [],
   "source": []
  }
 ],
 "metadata": {
  "kernelspec": {
   "display_name": "Python 3",
   "language": "python",
   "name": "python3"
  },
  "language_info": {
   "codemirror_mode": {
    "name": "ipython",
    "version": 3
   },
   "file_extension": ".py",
   "mimetype": "text/x-python",
   "name": "python",
   "nbconvert_exporter": "python",
   "pygments_lexer": "ipython3",
   "version": "3.5.2"
  }
 },
 "nbformat": 4,
 "nbformat_minor": 2
}
